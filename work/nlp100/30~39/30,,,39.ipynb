{
 "cells": [
  {
   "cell_type": "markdown",
   "metadata": {},
   "source": [
    "### 30."
   ]
  },
  {
   "cell_type": "code",
   "execution_count": 34,
   "metadata": {},
   "outputs": [
    {
     "name": "stdout",
     "output_type": "stream",
     "text": [
      "{'surface': '\\u3000', 'base': '\\u3000', 'pos': '記号', 'pos1': '空白'}\n",
      "{'surface': '吾輩', 'base': '吾輩', 'pos': '名詞', 'pos1': '代名詞'}\n",
      "{'surface': 'は', 'base': 'は', 'pos': '助詞', 'pos1': '係助詞'}\n",
      "{'surface': '猫', 'base': '猫', 'pos': '名詞', 'pos1': '一般'}\n",
      "{'surface': 'で', 'base': 'だ', 'pos': '助動詞', 'pos1': '*'}\n",
      "{'surface': 'ある', 'base': 'ある', 'pos': '助動詞', 'pos1': '*'}\n",
      "{'surface': '。', 'base': '。', 'pos': '記号', 'pos1': '句点'}\n"
     ]
    }
   ],
   "source": [
    "filename = '/work/data/dic/neko.txt.mecab'\n",
    "\n",
    "sentences = []\n",
    "morphs = []\n",
    "with open(filename, mode='r') as f:\n",
    "    for line in f:\n",
    "        if line != 'EOS\\n':\n",
    "            fields = line.split('\\t')\n",
    "            if len(fields) != 2 or fields[0] == '':\n",
    "                continue\n",
    "            else:\n",
    "                attr = fields[1].split(',')\n",
    "                morph = {'surface': fields[0], 'base': attr[6], 'pos': attr[0], 'pos1': attr[1]}\n",
    "                morphs.append(morph)\n",
    "        else:\n",
    "            sentences.append(morphs)\n",
    "            morphs = []\n",
    "            \n",
    "for morph in sentences[2]:\n",
    "    print(morph)"
   ]
  },
  {
   "cell_type": "markdown",
   "metadata": {},
   "source": [
    "### 31."
   ]
  },
  {
   "cell_type": "code",
   "execution_count": 35,
   "metadata": {},
   "outputs": [
    {
     "name": "stdout",
     "output_type": "stream",
     "text": [
      "動詞の表層形の種類: 3893\n",
      "\n",
      "---サンプル---\n",
      "すくい\n",
      "真面目くさっ\n",
      "曲がろ\n",
      "隔て\n",
      "遊ば\n",
      "初める\n",
      "おれ\n",
      "行きゃ\n",
      "悟れ\n",
      "感ぜ\n"
     ]
    }
   ],
   "source": [
    "ans = set()\n",
    "for sentence in sentences:\n",
    "    for morph in sentence:\n",
    "        if morph['pos'] == '動詞':\n",
    "            ans.add(morph['surface'])\n",
    "print(f'動詞の表層形の種類: {len(ans)}\\n')\n",
    "print('---サンプル---')\n",
    "for v in list(ans)[:10]:\n",
    "    print(v)"
   ]
  },
  {
   "cell_type": "markdown",
   "metadata": {},
   "source": [
    "### 32."
   ]
  },
  {
   "cell_type": "code",
   "execution_count": 36,
   "metadata": {},
   "outputs": [
    {
     "name": "stdout",
     "output_type": "stream",
     "text": [
      "動詞の表層形の種類: 2300\n",
      "\n",
      "---サンプル---\n",
      "ほのめく\n",
      "初める\n",
      "やらす\n",
      "見付ける\n",
      "せしめる\n",
      "洩れる\n",
      "措く\n",
      "遠ざかる\n",
      "ほてる\n",
      "膨れる\n"
     ]
    }
   ],
   "source": [
    "ans = set()\n",
    "for sentence in sentences:\n",
    "    for morph in sentence:\n",
    "        if morph['pos'] == '動詞':\n",
    "            ans.add(morph['base'])\n",
    "            \n",
    "print(f'動詞の表層形の種類: {len(ans)}\\n')\n",
    "print('---サンプル---')\n",
    "for v in list(ans)[:10]:\n",
    "    print(v)"
   ]
  },
  {
   "cell_type": "code",
   "execution_count": 37,
   "metadata": {},
   "outputs": [],
   "source": [
    "ans = set()\n",
    "for sentence in sentences:\n",
    "    for i in range(1, len(sentence) - 1):\n",
    "        if sentence[i - 1]['pos'] == '名詞' and sentence[i]['surface'] == 'の' and sentence[i+1]['pos']=='名詞':\n",
    "            ans.add(sentence[i-1]['surface'] + sentence[i]['surface'] + sentence[i+1]['surface'])"
   ]
  },
  {
   "cell_type": "code",
   "execution_count": 38,
   "metadata": {},
   "outputs": [
    {
     "name": "stdout",
     "output_type": "stream",
     "text": [
      "「名詞+の+名詞」の種類: 4924\n",
      "\n",
      "---サンプル---\n",
      "校長の命\n",
      "気の毒の至り\n",
      "大根卸の中\n",
      "天下の美\n",
      "君の身体\n",
      "垣のそば\n",
      "体の名筆\n",
      "杯の正宗\n",
      "迷亭の機転\n",
      "隅田川の底\n"
     ]
    }
   ],
   "source": [
    "print(f'「名詞+の+名詞」の種類: {len(ans)}\\n')\n",
    "print('---サンプル---')\n",
    "for n in list(ans)[:10]:\n",
    "    print(n)"
   ]
  },
  {
   "cell_type": "code",
   "execution_count": 39,
   "metadata": {},
   "outputs": [],
   "source": [
    "ans = set()\n",
    "for sentence in sentences:\n",
    "    nouns = ''\n",
    "    num = 0\n",
    "    for morph in sentence:\n",
    "        if morph['pos'] == '名詞':\n",
    "            nouns = ''.join([nouns, morph['surface']])\n",
    "            num += 1\n",
    "        elif num >= 2:\n",
    "            ans.add(nouns)\n",
    "            nouns = ''\n",
    "            num = 0\n",
    "        else:\n",
    "            nouns = ''\n",
    "            num = 0\n",
    "    if num >= 2: \n",
    "        ans.add(nouns)"
   ]
  },
  {
   "cell_type": "code",
   "execution_count": 40,
   "metadata": {},
   "outputs": [
    {
     "name": "stdout",
     "output_type": "stream",
     "text": [
      "連接名詞の種類: 4457\n",
      "\n",
      "---サンプル---\n",
      "ばかよう\n",
      "寒月君博士論文\n",
      "——御酒\n",
      "曝ら\n",
      "大分多く\n",
      "排斥運動\n",
      "心的変化\n",
      "四寸\n",
      "一八木\n",
      "後架後架\n"
     ]
    }
   ],
   "source": [
    "print(f'連接名詞の種類: {len(ans)}\\n')\n",
    "print('---サンプル---')\n",
    "for n in list(ans)[:10]:\n",
    "    print(n)"
   ]
  },
  {
   "cell_type": "code",
   "execution_count": 41,
   "metadata": {},
   "outputs": [],
   "source": [
    "from collections import defaultdict"
   ]
  },
  {
   "cell_type": "code",
   "execution_count": 71,
   "metadata": {},
   "outputs": [],
   "source": [
    "ans = defaultdict(int)\n",
    "for sentence in sentences:\n",
    "    for morph in sentence:\n",
    "        if morph['pos'] != '記号':\n",
    "            ans[morph['base']] += 1\n",
    "ans = sorted(ans.items(), key=lambda x: x[1], reverse=True)"
   ]
  },
  {
   "cell_type": "code",
   "execution_count": 72,
   "metadata": {},
   "outputs": [
    {
     "name": "stdout",
     "output_type": "stream",
     "text": [
      "('の', 9194)\n",
      "('て', 6848)\n",
      "('は', 6420)\n",
      "('に', 6243)\n",
      "('を', 6071)\n",
      "('だ', 5972)\n",
      "('と', 5508)\n",
      "('が', 5337)\n",
      "('た', 4267)\n",
      "('する', 3657)\n"
     ]
    }
   ],
   "source": [
    "for w in ans[:10]:\n",
    "    print(w)"
   ]
  },
  {
   "cell_type": "code",
   "execution_count": 73,
   "metadata": {
    "collapsed": true,
    "jupyter": {
     "outputs_hidden": true
    }
   },
   "outputs": [
    {
     "name": "stdout",
     "output_type": "stream",
     "text": [
      "Collecting japanize_matplotlib\n",
      "  Downloading japanize-matplotlib-1.1.3.tar.gz (4.1 MB)\n",
      "\u001b[K     |████████████████████████████████| 4.1 MB 4.6 MB/s eta 0:00:01\n",
      "\u001b[?25hRequirement already satisfied: matplotlib in /opt/anaconda3/lib/python3.8/site-packages (from japanize_matplotlib) (3.2.2)\n",
      "Requirement already satisfied: pyparsing!=2.0.4,!=2.1.2,!=2.1.6,>=2.0.1 in /opt/anaconda3/lib/python3.8/site-packages (from matplotlib->japanize_matplotlib) (2.4.7)\n",
      "Requirement already satisfied: numpy>=1.11 in /opt/anaconda3/lib/python3.8/site-packages (from matplotlib->japanize_matplotlib) (1.18.5)\n",
      "Requirement already satisfied: cycler>=0.10 in /opt/anaconda3/lib/python3.8/site-packages (from matplotlib->japanize_matplotlib) (0.10.0)\n",
      "Requirement already satisfied: kiwisolver>=1.0.1 in /opt/anaconda3/lib/python3.8/site-packages (from matplotlib->japanize_matplotlib) (1.2.0)\n",
      "Requirement already satisfied: python-dateutil>=2.1 in /opt/anaconda3/lib/python3.8/site-packages (from matplotlib->japanize_matplotlib) (2.8.1)\n",
      "Requirement already satisfied: six in /opt/anaconda3/lib/python3.8/site-packages (from cycler>=0.10->matplotlib->japanize_matplotlib) (1.15.0)\n",
      "Building wheels for collected packages: japanize-matplotlib\n",
      "  Building wheel for japanize-matplotlib (setup.py) ... \u001b[?25ldone\n",
      "\u001b[?25h  Created wheel for japanize-matplotlib: filename=japanize_matplotlib-1.1.3-py3-none-any.whl size=4120274 sha256=5c9be90573f4638a4d3428d96dd5b624277815f0005eca1841268e024a022883\n",
      "  Stored in directory: /root/.cache/pip/wheels/4f/ca/96/4cc5e192421cceb077fbf4ffec533382edd416fd3fa0af0bbd\n",
      "Successfully built japanize-matplotlib\n",
      "Installing collected packages: japanize-matplotlib\n",
      "Successfully installed japanize-matplotlib-1.1.3\n",
      "\u001b[33mWARNING: You are using pip version 20.2.3; however, version 20.2.4 is available.\n",
      "You should consider upgrading via the '/opt/anaconda3/bin/python -m pip install --upgrade pip' command.\u001b[0m\n"
     ]
    }
   ],
   "source": [
    "# !pip install japanize_matplotlib"
   ]
  },
  {
   "cell_type": "code",
   "execution_count": 77,
   "metadata": {},
   "outputs": [],
   "source": [
    "import matplotlib.pyplot as plt\n",
    "import japanize_matplotlib"
   ]
  },
  {
   "cell_type": "code",
   "execution_count": 78,
   "metadata": {},
   "outputs": [],
   "source": [
    "ans = defaultdict(int)\n",
    "for sentence in sentences:\n",
    "    for morph in sentence:\n",
    "        if morph['pos'] != '記号':\n",
    "            ans[morph['base']] += 1\n",
    "ans = sorted(ans.items(), key=lambda x: x[1], reverse=True)"
   ]
  },
  {
   "cell_type": "code",
   "execution_count": 80,
   "metadata": {},
   "outputs": [
    {
     "data": {
      "text/plain": [
       "[('の', 9194),\n",
       " ('て', 6848),\n",
       " ('は', 6420),\n",
       " ('に', 6243),\n",
       " ('を', 6071),\n",
       " ('だ', 5972),\n",
       " ('と', 5508),\n",
       " ('が', 5337),\n",
       " ('た', 4267),\n",
       " ('する', 3657)]"
      ]
     },
     "execution_count": 80,
     "metadata": {},
     "output_type": "execute_result"
    }
   ],
   "source": [
    "ans[:10]"
   ]
  },
  {
   "cell_type": "code",
   "execution_count": 82,
   "metadata": {},
   "outputs": [],
   "source": [
    "keys = [a[0] for a in ans[:10]]"
   ]
  },
  {
   "cell_type": "code",
   "execution_count": 84,
   "metadata": {},
   "outputs": [],
   "source": [
    "values = [a[1] for a in ans[:10]]"
   ]
  },
  {
   "cell_type": "code",
   "execution_count": 85,
   "metadata": {},
   "outputs": [
    {
     "data": {
      "image/png": "[encoded data removed]",
      "text/plain": [
       "<Figure size 576x288 with 1 Axes>"
      ]
     },
     "metadata": {
      "needs_background": "light"
     },
     "output_type": "display_data"
    }
   ],
   "source": [
    "plt.figure(figsize=(8, 4))\n",
    "plt.bar(keys, values)\n",
    "plt.show()"
   ]
  },
  {
   "cell_type": "code",
   "execution_count": 91,
   "metadata": {},
   "outputs": [
    {
     "name": "stdout",
     "output_type": "stream",
     "text": [
      "1 [{'surface': '一', 'base': '一', 'pos': '名詞', 'pos1': '数'}]\n",
      "2 []\n",
      "3 [{'surface': '\\u3000', 'base': '\\u3000', 'pos': '記号', 'pos1': '空白'}, {'surface': '吾輩', 'base': '吾輩', 'pos': '名詞', 'pos1': '代名詞'}, {'surface': 'は', 'base': 'は', 'pos': '助詞', 'pos1': '係助詞'}, {'surface': '猫', 'base': '猫', 'pos': '名詞', 'pos1': '一般'}, {'surface': 'で', 'base': 'だ', 'pos': '助動詞', 'pos1': '*'}, {'surface': 'ある', 'base': 'ある', 'pos': '助動詞', 'pos1': '*'}, {'surface': '。', 'base': '。', 'pos': '記号', 'pos1': '句点'}]\n"
     ]
    }
   ],
   "source": [
    "for i, sentence in enumerate(sentences):\n",
    "    print(i+1, sentence)\n",
    "    if i > 1:\n",
    "        break"
   ]
  },
  {
   "cell_type": "code",
   "execution_count": 93,
   "metadata": {},
   "outputs": [
    {
     "data": {
      "image/png": "[encoded data removed]",
      "text/plain": [
       "<Figure size 576x288 with 1 Axes>"
      ]
     },
     "metadata": {
      "needs_background": "light"
     },
     "output_type": "display_data"
    }
   ],
   "source": [
    "ans = defaultdict(int)\n",
    "for sentence in sentences:\n",
    "    if '猫' in [morph['surface'] for morph in sentence]:\n",
    "        for morph in sentence:\n",
    "            if morph['pos'] != '記号':\n",
    "                ans[morph['base']] += 1\n",
    "del ans['猫']\n",
    "ans = sorted(ans.items(), key=lambda x: x[1], reverse=True)\n",
    "\n",
    "keys = [a[0] for a in ans[:10]]\n",
    "values = [a[1] for a in ans[:10]]\n",
    "plt.figure(figsize=(8, 4))\n",
    "plt.bar(keys, values)\n",
    "plt.show()"
   ]
  },
  {
   "cell_type": "code",
   "execution_count": 97,
   "metadata": {},
   "outputs": [
    {
     "data": {
      "image/png": "[encoded data removed]",
      "text/plain": [
       "<Figure size 576x288 with 1 Axes>"
      ]
     },
     "metadata": {
      "needs_background": "light"
     },
     "output_type": "display_data"
    }
   ],
   "source": [
    "ans = defaultdict(int)\n",
    "for sentence in sentences:\n",
    "    for morph in sentence:\n",
    "        if morph['pos'] != '記号':\n",
    "            ans[morph['base']] += 1  # 単語数の更新(初登場の単語であれば1をセット)\n",
    "ans = ans.values()\n",
    "\n",
    "plt.figure(figsize=(8, 4))\n",
    "plt.hist(ans, bins=100)\n",
    "plt.xlabel('出現頻度')\n",
    "plt.ylabel('単語の種類数')\n",
    "plt.show()"
   ]
  },
  {
   "cell_type": "code",
   "execution_count": 98,
   "metadata": {},
   "outputs": [],
   "source": [
    "import math"
   ]
  },
  {
   "cell_type": "code",
   "execution_count": 99,
   "metadata": {},
   "outputs": [],
   "source": [
    "ans = defaultdict(int)\n",
    "for sentence in sentences:\n",
    "    for morph in sentence:\n",
    "        if morph['pos'] != '記号':\n",
    "            ans[morph['base']] += 1\n",
    "ans = sorted(ans.items(), key=lambda x: x[1], reverse=True)"
   ]
  },
  {
   "cell_type": "code",
   "execution_count": 103,
   "metadata": {},
   "outputs": [
    {
     "name": "stdout",
     "output_type": "stream",
     "text": [
      "[('の', 9194), ('て', 6848), ('は', 6420), ('に', 6243), ('を', 6071)]\n"
     ]
    }
   ],
   "source": [
    "print(ans[:5])"
   ]
  },
  {
   "cell_type": "code",
   "execution_count": 104,
   "metadata": {},
   "outputs": [],
   "source": [
    "ranks = [r + 1 for r in range(len(ans))]\n",
    "values = [a[1] for a in ans]"
   ]
  },
  {
   "cell_type": "code",
   "execution_count": 109,
   "metadata": {},
   "outputs": [
    {
     "data": {
      "image/png": "[encoded data removed]",
      "text/plain": [
       "<Figure size 576x288 with 1 Axes>"
      ]
     },
     "metadata": {
      "needs_background": "light"
     },
     "output_type": "display_data"
    }
   ],
   "source": [
    "plt.figure(figsize=(8, 4))\n",
    "plt.scatter(ranks, values)\n",
    "plt.xscale('log')\n",
    "plt.yscale('log')\n",
    "plt.xlabel('出現頻度順位')\n",
    "plt.ylabel('出現頻度')\n",
    "plt.show()"
   ]
  },
  {
   "cell_type": "code",
   "execution_count": null,
   "metadata": {},
   "outputs": [],
   "source": []
  }
 ],
 "metadata": {
  "kernelspec": {
   "display_name": "Python 3",
   "language": "python",
   "name": "python3"
  },
  "language_info": {
   "codemirror_mode": {
    "name": "ipython",
    "version": 3
   },
   "file_extension": ".py",
   "mimetype": "text/x-python",
   "name": "python",
   "nbconvert_exporter": "python",
   "pygments_lexer": "ipython3",
   "version": "3.7.4"
  }
 },
 "nbformat": 4,
 "nbformat_minor": 4
}
