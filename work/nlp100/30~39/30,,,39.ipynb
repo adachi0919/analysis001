{
 "cells": [
  {
   "cell_type": "code",
   "execution_count": 1,
   "metadata": {},
   "outputs": [
    {
     "name": "stdout",
     "output_type": "stream",
     "text": [
      "--2020-10-22 08:29:59--  https://nlp100.github.io/data/neko.txt\n",
      "Resolving nlp100.github.io (nlp100.github.io)... 185.199.111.153, 185.199.109.153, 185.199.110.153, ...\n",
      "Connecting to nlp100.github.io (nlp100.github.io)|185.199.111.153|:443... connected.\n",
      "HTTP request sent, awaiting response... 200 OK\n",
      "Length: 975789 (953K) [text/plain]\n",
      "Saving to: ‘neko.txt’\n",
      "\n",
      "neko.txt            100%[===================>] 952.92K   231KB/s    in 4.1s    \n",
      "\n",
      "2020-10-22 08:30:03 (231 KB/s) - ‘neko.txt’ saved [975789/975789]\n",
      "\n"
     ]
    }
   ],
   "source": [
    "!wget https://nlp100.github.io/data/neko.txt"
   ]
  },
  {
   "cell_type": "code",
   "execution_count": null,
   "metadata": {},
   "outputs": [],
   "source": []
  }
 ],
 "metadata": {
  "kernelspec": {
   "display_name": "Python 3",
   "language": "python",
   "name": "python3"
  },
  "language_info": {
   "codemirror_mode": {
    "name": "ipython",
    "version": 3
   },
   "file_extension": ".py",
   "mimetype": "text/x-python",
   "name": "python",
   "nbconvert_exporter": "python",
   "pygments_lexer": "ipython3",
   "version": "3.8.3"
  }
 },
 "nbformat": 4,
 "nbformat_minor": 4
}
