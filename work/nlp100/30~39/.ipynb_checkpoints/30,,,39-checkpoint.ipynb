{
 "cells": [
  {
   "cell_type": "code",
   "execution_count": 1,
   "metadata": {},
   "outputs": [
    {
     "name": "stdout",
     "output_type": "stream",
     "text": [
      "--2020-10-23 01:55:25--  https://nlp100.github.io/data/neko.txt\n",
      "Resolving nlp100.github.io (nlp100.github.io)... 185.199.108.153, 185.199.110.153, 185.199.111.153, ...\n",
      "Connecting to nlp100.github.io (nlp100.github.io)|185.199.108.153|:443... connected.\n",
      "HTTP request sent, awaiting response... 200 OK\n",
      "Length: 975789 (953K) [text/plain]\n",
      "Saving to: ‘neko.txt’\n",
      "\n",
      "neko.txt            100%[===================>] 952.92K   815KB/s    in 1.2s    \n",
      "\n",
      "2020-10-23 01:55:27 (815 KB/s) - ‘neko.txt’ saved [975789/975789]\n",
      "\n"
     ]
    }
   ],
   "source": [
    "!wget https://nlp100.github.io/data/neko.txt"
   ]
  },
  {
   "cell_type": "code",
   "execution_count": 2,
   "metadata": {},
   "outputs": [
    {
     "name": "stdout",
     "output_type": "stream",
     "text": [
      "input-buffer overflow. The line is split. use -b #SIZE option.\n",
      "input-buffer overflow. The line is split. use -b #SIZE option.\n",
      "input-buffer overflow. The line is split. use -b #SIZE option.\n",
      "input-buffer overflow. The line is split. use -b #SIZE option.\n",
      "input-buffer overflow. The line is split. use -b #SIZE option.\n",
      "input-buffer overflow. The line is split. use -b #SIZE option.\n",
      "input-buffer overflow. The line is split. use -b #SIZE option.\n",
      "input-buffer overflow. The line is split. use -b #SIZE option.\n",
      "input-buffer overflow. The line is split. use -b #SIZE option.\n",
      "input-buffer overflow. The line is split. use -b #SIZE option.\n",
      "input-buffer overflow. The line is split. use -b #SIZE option.\n",
      "input-buffer overflow. The line is split. use -b #SIZE option.\n",
      "input-buffer overflow. The line is split. use -b #SIZE option.\n",
      "input-buffer overflow. The line is split. use -b #SIZE option.\n",
      "input-buffer overflow. The line is split. use -b #SIZE option.\n",
      "input-buffer overflow. The line is split. use -b #SIZE option.\n",
      "input-buffer overflow. The line is split. use -b #SIZE option.\n",
      "input-buffer overflow. The line is split. use -b #SIZE option.\n",
      "input-buffer overflow. The line is split. use -b #SIZE option.\n",
      "input-buffer overflow. The line is split. use -b #SIZE option.\n",
      "input-buffer overflow. The line is split. use -b #SIZE option.\n",
      "input-buffer overflow. The line is split. use -b #SIZE option.\n",
      "input-buffer overflow. The line is split. use -b #SIZE option.\n",
      "input-buffer overflow. The line is split. use -b #SIZE option.\n",
      "input-buffer overflow. The line is split. use -b #SIZE option.\n",
      "input-buffer overflow. The line is split. use -b #SIZE option.\n",
      "input-buffer overflow. The line is split. use -b #SIZE option.\n",
      "input-buffer overflow. The line is split. use -b #SIZE option.\n",
      "input-buffer overflow. The line is split. use -b #SIZE option.\n",
      "input-buffer overflow. The line is split. use -b #SIZE option.\n",
      "input-buffer overflow. The line is split. use -b #SIZE option.\n",
      "input-buffer overflow. The line is split. use -b #SIZE option.\n",
      "input-buffer overflow. The line is split. use -b #SIZE option.\n",
      "input-buffer overflow. The line is split. use -b #SIZE option.\n",
      "input-buffer overflow. The line is split. use -b #SIZE option.\n",
      "input-buffer overflow. The line is split. use -b #SIZE option.\n",
      "input-buffer overflow. The line is split. use -b #SIZE option.\n",
      "input-buffer overflow. The line is split. use -b #SIZE option.\n",
      "input-buffer overflow. The line is split. use -b #SIZE option.\n",
      "input-buffer overflow. The line is split. use -b #SIZE option.\n",
      "input-buffer overflow. The line is split. use -b #SIZE option.\n",
      "input-buffer overflow. The line is split. use -b #SIZE option.\n",
      "input-buffer overflow. The line is split. use -b #SIZE option.\n",
      "input-buffer overflow. The line is split. use -b #SIZE option.\n",
      "input-buffer overflow. The line is split. use -b #SIZE option.\n",
      "input-buffer overflow. The line is split. use -b #SIZE option.\n",
      "input-buffer overflow. The line is split. use -b #SIZE option.\n",
      "input-buffer overflow. The line is split. use -b #SIZE option.\n",
      "input-buffer overflow. The line is split. use -b #SIZE option.\n",
      "input-buffer overflow. The line is split. use -b #SIZE option.\n",
      "input-buffer overflow. The line is split. use -b #SIZE option.\n",
      "input-buffer overflow. The line is split. use -b #SIZE option.\n",
      "input-buffer overflow. The line is split. use -b #SIZE option.\n",
      "input-buffer overflow. The line is split. use -b #SIZE option.\n",
      "input-buffer overflow. The line is split. use -b #SIZE option.\n",
      "input-buffer overflow. The line is split. use -b #SIZE option.\n",
      "input-buffer overflow. The line is split. use -b #SIZE option.\n",
      "input-buffer overflow. The line is split. use -b #SIZE option.\n",
      "input-buffer overflow. The line is split. use -b #SIZE option.\n",
      "input-buffer overflow. The line is split. use -b #SIZE option.\n",
      "input-buffer overflow. The line is split. use -b #SIZE option.\n",
      "input-buffer overflow. The line is split. use -b #SIZE option.\n",
      "input-buffer overflow. The line is split. use -b #SIZE option.\n",
      "input-buffer overflow. The line is split. use -b #SIZE option.\n"
     ]
    }
   ],
   "source": [
    "!mecab -o ./neko.txt.mecab ./neko.txt"
   ]
  },
  {
   "cell_type": "code",
   "execution_count": 5,
   "metadata": {},
   "outputs": [
    {
     "name": "stdout",
     "output_type": "stream",
     "text": [
      "data.txt  ja.text8  neko.txt  neko.txt.mecab\n"
     ]
    }
   ],
   "source": [
    "ls /work/data/dic"
   ]
  },
  {
   "cell_type": "code",
   "execution_count": 6,
   "metadata": {},
   "outputs": [
    {
     "name": "stdout",
     "output_type": "stream",
     "text": [
      "203976 /work/data/dic/neko.txt.mecab\n"
     ]
    }
   ],
   "source": [
    "!wc -l /work/data/dic/neko.txt.mecab"
   ]
  },
  {
   "cell_type": "code",
   "execution_count": 11,
   "metadata": {},
   "outputs": [
    {
     "name": "stdout",
     "output_type": "stream",
     "text": [
      "{'surface': '\\u3000', 'base': '\\u3000', 'pos': '記号', 'pos1': '空白'}\n",
      "{'surface': '吾輩', 'base': '吾輩', 'pos': '名詞', 'pos1': '代名詞'}\n",
      "{'surface': 'は', 'base': 'は', 'pos': '助詞', 'pos1': '係助詞'}\n",
      "{'surface': '猫', 'base': '猫', 'pos': '名詞', 'pos1': '一般'}\n",
      "{'surface': 'で', 'base': 'だ', 'pos': '助動詞', 'pos1': '*'}\n",
      "{'surface': 'ある', 'base': 'ある', 'pos': '助動詞', 'pos1': '*'}\n",
      "{'surface': '。', 'base': '。', 'pos': '記号', 'pos1': '句点'}\n"
     ]
    }
   ],
   "source": [
    "filename = '/work/data/dic/neko.txt.mecab'\n",
    "\n",
    "sentences = []\n",
    "morphs = []\n",
    "with open(filename, mode='r') as f:\n",
    "    for line in f:\n",
    "        if line != 'EOS\\n':\n",
    "            fields = line.split('\\t')\n",
    "            if len(fields) != 2 or fields[0] == '':\n",
    "                continue\n",
    "            else:\n",
    "                attr = fields[1].split(',')\n",
    "                morph = {'surface': fields[0], 'base': attr[6], 'pos': attr[0], 'pos1': attr[1]}\n",
    "                morphs.append(morph)\n",
    "        else:\n",
    "            sentences.append(morphs)\n",
    "            morphs = []\n",
    "            \n",
    "for morph in sentences[2]:\n",
    "    print(morph)"
   ]
  },
  {
   "cell_type": "code",
   "execution_count": null,
   "metadata": {},
   "outputs": [],
   "source": []
  }
 ],
 "metadata": {
  "kernelspec": {
   "display_name": "Python 3",
   "language": "python",
   "name": "python3"
  },
  "language_info": {
   "codemirror_mode": {
    "name": "ipython",
    "version": 3
   },
   "file_extension": ".py",
   "mimetype": "text/x-python",
   "name": "python",
   "nbconvert_exporter": "python",
   "pygments_lexer": "ipython3",
   "version": "3.8.3"
  }
 },
 "nbformat": 4,
 "nbformat_minor": 4
}
