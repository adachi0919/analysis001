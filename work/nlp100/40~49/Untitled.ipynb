{
 "cells": [
  {
   "cell_type": "code",
   "execution_count": 1,
   "metadata": {},
   "outputs": [
    {
     "name": "stdout",
     "output_type": "stream",
     "text": [
      "--2020-10-23 15:46:57--  https://nlp100.github.io/data/ai.ja.zip\n",
      "nlp100.github.io (nlp100.github.io) をDNSに問いあわせています... 185.199.110.153, 185.199.109.153, 185.199.111.153, ...\n",
      "nlp100.github.io (nlp100.github.io)|185.199.110.153|:443 に接続しています... 接続しました。\n",
      "HTTP による接続要求を送信しました、応答を待っています... 200 OK\n",
      "長さ: 17516 (17K) [application/zip]\n",
      "`ai.ja.zip' に保存中\n",
      "\n",
      "ai.ja.zip           100%[===================>]  17.11K  --.-KB/s 時間 0.01s      \n",
      "\n",
      "2020-10-23 15:46:57 (1.37 MB/s) - `ai.ja.zip' へ保存完了 [17516/17516]\n",
      "\n"
     ]
    }
   ],
   "source": [
    "!wget https://nlp100.github.io/data/ai.ja.zip"
   ]
  },
  {
   "cell_type": "code",
   "execution_count": 2,
   "metadata": {},
   "outputs": [
    {
     "name": "stdout",
     "output_type": "stream",
     "text": [
      "Archive:  ai.ja.zip\n",
      "  inflating: ai.ja.txt               \n",
      "  inflating: readme.ai.ja.md         \n"
     ]
    }
   ],
   "source": [
    "!unzip ai.ja.zip"
   ]
  },
  {
   "cell_type": "code",
   "execution_count": 3,
   "metadata": {},
   "outputs": [
    {
     "name": "stdout",
     "output_type": "stream",
     "text": [
      "Unable to locate an executable at \"/Library/Java/JavaVirtualMachines/jdk1.8.0_131.jdk/Contents/Home/bin/apt\" (-1)\n"
     ]
    }
   ],
   "source": [
    "!apt install mecab libmecab-dev mecab-ipadic-utf8"
   ]
  },
  {
   "cell_type": "code",
   "execution_count": 14,
   "metadata": {},
   "outputs": [
    {
     "name": "stdout",
     "output_type": "stream",
     "text": [
      "/bin/sh: FILE_NAME: command not found\n",
      "wget: オプションは引数を必要とします -- 'O'\n",
      "wget: URLがありません\n",
      "使い方: wget [オプション]... [URL]...\n",
      "\n",
      "詳しいオプションは `wget --help' を実行してください。\n",
      "tar: Error opening archive: Failed to open 'crfpp.tar.gz'\n",
      "[Errno 2] No such file or directory: 'CRF++-0.58'\n",
      "/Users/adachikeisuke/Desktop/portfolios/analysis/MorphologicalAnalysis/work\n",
      "/bin/sh: ./configure: No such file or directory\n",
      "/Users/adachikeisuke/Desktop/portfolios/analysis/MorphologicalAnalysis\n"
     ]
    }
   ],
   "source": [
    "FILE_ID = \"0B4y35FiV1wh7QVR6VXJ5dWExSTQ\"\n",
    "FILE_NAME = \"crfpp.tar.gz\"\n",
    "!wget 'https://docs.google.com/uc?export=download&id=$(FILE_ID)' -O $(FILE_NAME)\n",
    "!tar xvf crfpp.tar.gz\n",
    "%cd CRF++-0.58\n",
    "!./configure && make && make install && ldconfig\n",
    "%cd .."
   ]
  },
  {
   "cell_type": "code",
   "execution_count": null,
   "metadata": {},
   "outputs": [],
   "source": []
  }
 ],
 "metadata": {
  "kernelspec": {
   "display_name": "Python 3",
   "language": "python",
   "name": "python3"
  },
  "language_info": {
   "codemirror_mode": {
    "name": "ipython",
    "version": 3
   },
   "file_extension": ".py",
   "mimetype": "text/x-python",
   "name": "python",
   "nbconvert_exporter": "python",
   "pygments_lexer": "ipython3",
   "version": "3.7.4"
  }
 },
 "nbformat": 4,
 "nbformat_minor": 4
}
