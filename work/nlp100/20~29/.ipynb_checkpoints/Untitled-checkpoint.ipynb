{
 "cells": [
  {
   "cell_type": "code",
   "execution_count": 1,
   "metadata": {},
   "outputs": [],
   "source": [
    "import re"
   ]
  },
  {
   "cell_type": "code",
   "execution_count": 201,
   "metadata": {},
   "outputs": [],
   "source": [
    "pattern = re.compile(\"xy+\")"
   ]
  },
  {
   "cell_type": "code",
   "execution_count": 202,
   "metadata": {},
   "outputs": [
    {
     "name": "stdout",
     "output_type": "stream",
     "text": [
      "<re.Match object; span=(0, 6), match='xyyyyy'>\n"
     ]
    }
   ],
   "source": [
    "m = pattern.match(\"xyyyyy\")\n",
    "print(m)"
   ]
  },
  {
   "cell_type": "code",
   "execution_count": 203,
   "metadata": {},
   "outputs": [],
   "source": [
    "m = pattern.search(\"abcxyyy\")"
   ]
  },
  {
   "cell_type": "code",
   "execution_count": 204,
   "metadata": {},
   "outputs": [
    {
     "name": "stdout",
     "output_type": "stream",
     "text": [
      "<re.Match object; span=(3, 7), match='xyyy'>\n"
     ]
    }
   ],
   "source": [
    "print(m)"
   ]
  },
  {
   "cell_type": "code",
   "execution_count": 206,
   "metadata": {},
   "outputs": [
    {
     "name": "stdout",
     "output_type": "stream",
     "text": [
      "<re.Match object; span=(2, 3), match='?'>\n"
     ]
    }
   ],
   "source": [
    "m = re.search(\"\\?\", \"xy?\")\n",
    "print(m)"
   ]
  },
  {
   "cell_type": "code",
   "execution_count": 207,
   "metadata": {},
   "outputs": [
    {
     "name": "stdout",
     "output_type": "stream",
     "text": [
      "<re.Match object; span=(0, 39), match='<html><head></head><body></body></html>'>\n"
     ]
    }
   ],
   "source": [
    "m = re.search(\"<.*>\", \"<html><head></head><body></body></html>\")\n",
    "print(m)"
   ]
  },
  {
   "cell_type": "code",
   "execution_count": 208,
   "metadata": {},
   "outputs": [
    {
     "name": "stdout",
     "output_type": "stream",
     "text": [
      "<re.Match object; span=(0, 6), match='<html>'>\n"
     ]
    }
   ],
   "source": [
    "m = re.search(\"<.*?>\", \"<html><head></head><body></body></html>\")\n",
    "print(m)"
   ]
  },
  {
   "cell_type": "code",
   "execution_count": 211,
   "metadata": {},
   "outputs": [],
   "source": [
    "m = re.search(\"[a-z]+\", \"xyzXYZ\", flags = re.IGNORECASE)"
   ]
  },
  {
   "cell_type": "code",
   "execution_count": 212,
   "metadata": {},
   "outputs": [
    {
     "name": "stdout",
     "output_type": "stream",
     "text": [
      "<re.Match object; span=(0, 6), match='xyzXYZ'>\n"
     ]
    }
   ],
   "source": [
    "print(m)"
   ]
  },
  {
   "cell_type": "code",
   "execution_count": 213,
   "metadata": {},
   "outputs": [],
   "source": [
    "text = \"\"\"\n",
    "abc, 789, RST\n",
    "def, 434, JDH\n",
    "hij, 345, HDD\n",
    "\"\"\""
   ]
  },
  {
   "cell_type": "code",
   "execution_count": 218,
   "metadata": {},
   "outputs": [
    {
     "name": "stdout",
     "output_type": "stream",
     "text": [
      "['RST', 'JDH', 'HDD']\n"
     ]
    }
   ],
   "source": [
    "m = re.findall(\"[A-Z]+$\", text, flags=re.MULTILINE)\n",
    "print(m)"
   ]
  },
  {
   "cell_type": "code",
   "execution_count": 223,
   "metadata": {},
   "outputs": [],
   "source": [
    "pattern = re.compile(\"\"\"\n",
    "[0-9]{4}\\/        #年/\n",
    "[0-9]{1,2}\\/        #月/\n",
    "[0-9]{1,2}        #日\n",
    "\"\"\", re.VERBOSE)"
   ]
  },
  {
   "cell_type": "code",
   "execution_count": 224,
   "metadata": {},
   "outputs": [
    {
     "name": "stdout",
     "output_type": "stream",
     "text": [
      "['2020/3/26']\n"
     ]
    }
   ],
   "source": [
    "m = pattern.findall(\"Today is 2020/3/26\")\n",
    "print(m)"
   ]
  },
  {
   "cell_type": "code",
   "execution_count": 228,
   "metadata": {},
   "outputs": [],
   "source": [
    "pattern = re.compile(\"\"\"\n",
    "(?P<year>[0-9]{4})\\/        #年/\n",
    "(?P<month>[0-9]{1,2})\\/        #月/\n",
    "(?P<date>[0-9]{1,2})        #日\n",
    "\"\"\", re.VERBOSE)"
   ]
  },
  {
   "cell_type": "code",
   "execution_count": 233,
   "metadata": {},
   "outputs": [
    {
     "name": "stdout",
     "output_type": "stream",
     "text": [
      "3\n"
     ]
    }
   ],
   "source": [
    "m = pattern.search(\"Today is 2020/3/26\")\n",
    "print(m.group(\"month\"))"
   ]
  },
  {
   "cell_type": "code",
   "execution_count": null,
   "metadata": {},
   "outputs": [],
   "source": []
  }
 ],
 "metadata": {
  "kernelspec": {
   "display_name": "Python 3",
   "language": "python",
   "name": "python3"
  },
  "language_info": {
   "codemirror_mode": {
    "name": "ipython",
    "version": 3
   },
   "file_extension": ".py",
   "mimetype": "text/x-python",
   "name": "python",
   "nbconvert_exporter": "python",
   "pygments_lexer": "ipython3",
   "version": "3.8.3"
  }
 },
 "nbformat": 4,
 "nbformat_minor": 4
}
