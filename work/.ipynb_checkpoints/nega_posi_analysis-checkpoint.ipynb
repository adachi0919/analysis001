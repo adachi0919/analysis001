{
 "cells": [
  {
   "cell_type": "code",
   "execution_count": 1,
   "metadata": {},
   "outputs": [],
   "source": [
    "import pandas as pd\n",
    "import numpy as np\n",
    "import os\n",
    "import glob\n",
    "import pathlib\n",
    "import re\n",
    "import janome\n",
    "import jaconv"
   ]
  },
  {
   "cell_type": "code",
   "execution_count": 2,
   "metadata": {},
   "outputs": [],
   "source": [
    "p_dic = pathlib.Path('dic')\n",
    "\n",
    "for i in p_dic.glob('*.txt'):\n",
    "    with open (i, 'r', encoding='utf-8') as f:\n",
    "        x = [i.replace('\\n', '').split(':') for i in f.readlines()]\n",
    "        \n",
    "posi_nega_df = pd.DataFrame(x, columns = ['基本形', '読み', '品詞', 'スコア'])\n",
    "posi_nega_df['読み'] = posi_nega_df['読み'].apply(lambda x : jaconv.hira2kata(x))\n",
    "posi_nega_df = posi_nega_df[~posi_nega_df[['基本形', '読み', '品詞']].duplicated()]"
   ]
  },
  {
   "cell_type": "code",
   "execution_count": 3,
   "metadata": {},
   "outputs": [
    {
     "data": {
      "text/html": [
       "<div>\n",
       "<style scoped>\n",
       "    .dataframe tbody tr th:only-of-type {\n",
       "        vertical-align: middle;\n",
       "    }\n",
       "\n",
       "    .dataframe tbody tr th {\n",
       "        vertical-align: top;\n",
       "    }\n",
       "\n",
       "    .dataframe thead th {\n",
       "        text-align: right;\n",
       "    }\n",
       "</style>\n",
       "<table border=\"1\" class=\"dataframe\">\n",
       "  <thead>\n",
       "    <tr style=\"text-align: right;\">\n",
       "      <th></th>\n",
       "      <th>基本形</th>\n",
       "      <th>読み</th>\n",
       "      <th>品詞</th>\n",
       "      <th>スコア</th>\n",
       "    </tr>\n",
       "  </thead>\n",
       "  <tbody>\n",
       "    <tr>\n",
       "      <th>0</th>\n",
       "      <td>優れる</td>\n",
       "      <td>スグレル</td>\n",
       "      <td>動詞</td>\n",
       "      <td>1</td>\n",
       "    </tr>\n",
       "    <tr>\n",
       "      <th>1</th>\n",
       "      <td>良い</td>\n",
       "      <td>ヨイ</td>\n",
       "      <td>形容詞</td>\n",
       "      <td>0.999995</td>\n",
       "    </tr>\n",
       "    <tr>\n",
       "      <th>2</th>\n",
       "      <td>喜ぶ</td>\n",
       "      <td>ヨロコブ</td>\n",
       "      <td>動詞</td>\n",
       "      <td>0.999979</td>\n",
       "    </tr>\n",
       "    <tr>\n",
       "      <th>3</th>\n",
       "      <td>褒める</td>\n",
       "      <td>ホメル</td>\n",
       "      <td>動詞</td>\n",
       "      <td>0.999979</td>\n",
       "    </tr>\n",
       "    <tr>\n",
       "      <th>4</th>\n",
       "      <td>めでたい</td>\n",
       "      <td>メデタイ</td>\n",
       "      <td>形容詞</td>\n",
       "      <td>0.999645</td>\n",
       "    </tr>\n",
       "  </tbody>\n",
       "</table>\n",
       "</div>"
      ],
      "text/plain": [
       "    基本形    読み   品詞       スコア\n",
       "0   優れる  スグレル   動詞         1\n",
       "1    良い    ヨイ  形容詞  0.999995\n",
       "2    喜ぶ  ヨロコブ   動詞  0.999979\n",
       "3   褒める   ホメル   動詞  0.999979\n",
       "4  めでたい  メデタイ  形容詞  0.999645"
      ]
     },
     "execution_count": 3,
     "metadata": {},
     "output_type": "execute_result"
    }
   ],
   "source": [
    "posi_nega_df.head()"
   ]
  },
  {
   "cell_type": "code",
   "execution_count": 4,
   "metadata": {},
   "outputs": [
    {
     "data": {
      "text/plain": [
       "(55112, 4)"
      ]
     },
     "execution_count": 4,
     "metadata": {},
     "output_type": "execute_result"
    }
   ],
   "source": [
    "posi_nega_df.shape"
   ]
  },
  {
   "cell_type": "code",
   "execution_count": 5,
   "metadata": {},
   "outputs": [
    {
     "data": {
      "text/html": [
       "<div>\n",
       "<style scoped>\n",
       "    .dataframe tbody tr th:only-of-type {\n",
       "        vertical-align: middle;\n",
       "    }\n",
       "\n",
       "    .dataframe tbody tr th {\n",
       "        vertical-align: top;\n",
       "    }\n",
       "\n",
       "    .dataframe thead th {\n",
       "        text-align: right;\n",
       "    }\n",
       "</style>\n",
       "<table border=\"1\" class=\"dataframe\">\n",
       "  <thead>\n",
       "    <tr style=\"text-align: right;\">\n",
       "      <th></th>\n",
       "      <th>0</th>\n",
       "      <th>1</th>\n",
       "      <th>2</th>\n",
       "      <th>3</th>\n",
       "      <th>4</th>\n",
       "    </tr>\n",
       "  </thead>\n",
       "  <tbody>\n",
       "    <tr>\n",
       "      <th>0</th>\n",
       "      <td>dokujo-tsushin</td>\n",
       "      <td>http://news.livedoor.com/article/detail/4778030/</td>\n",
       "      <td>2010-05-22T14:30:00+0900</td>\n",
       "      <td>友人代表のスピーチ、独女はどうこなしている？</td>\n",
       "      <td>もうすぐジューン・ブライドと呼ばれる６月。独女の中には自分の式はまだなのに呼ばれてばかり……...</td>\n",
       "    </tr>\n",
       "    <tr>\n",
       "      <th>1</th>\n",
       "      <td>dokujo-tsushin</td>\n",
       "      <td>http://news.livedoor.com/article/detail/4778031/</td>\n",
       "      <td>2010-05-21T14:30:00+0900</td>\n",
       "      <td>ネットで断ち切れない元カレとの縁</td>\n",
       "      <td>携帯電話が普及する以前、恋人への連絡ツールは一般電話が普通だった。恋人と別れたら、手帳に書か...</td>\n",
       "    </tr>\n",
       "    <tr>\n",
       "      <th>2</th>\n",
       "      <td>dokujo-tsushin</td>\n",
       "      <td>http://news.livedoor.com/article/detail/4782522/</td>\n",
       "      <td>2010-05-23T11:00:00+0900</td>\n",
       "      <td>相次ぐ芸能人の“すっぴん”披露その時、独女の心境は？</td>\n",
       "      <td>「男性はやっぱり、女性の“すっぴん”が大好きなんですかね」と不満そうに話すのは、出版関係で働...</td>\n",
       "    </tr>\n",
       "    <tr>\n",
       "      <th>3</th>\n",
       "      <td>dokujo-tsushin</td>\n",
       "      <td>http://news.livedoor.com/article/detail/4788357/</td>\n",
       "      <td>2010-05-25T14:00:00+0900</td>\n",
       "      <td>ムダな抵抗！？加齢の現実</td>\n",
       "      <td>ヒップの加齢による変化は「たわむ→下がる→内に流れる」、バストは「そげる→たわむ→外に流れる...</td>\n",
       "    </tr>\n",
       "    <tr>\n",
       "      <th>4</th>\n",
       "      <td>dokujo-tsushin</td>\n",
       "      <td>http://news.livedoor.com/article/detail/4788362/</td>\n",
       "      <td>2010-05-26T14:00:00+0900</td>\n",
       "      <td>税金を払うのは私たちなんですけど！</td>\n",
       "      <td>6月から支給される子ども手当だが、当初は子ども一人当たり月額2万6000円が支給されるはずだ...</td>\n",
       "    </tr>\n",
       "  </tbody>\n",
       "</table>\n",
       "</div>"
      ],
      "text/plain": [
       "                0                                                 1  \\\n",
       "0  dokujo-tsushin  http://news.livedoor.com/article/detail/4778030/   \n",
       "1  dokujo-tsushin  http://news.livedoor.com/article/detail/4778031/   \n",
       "2  dokujo-tsushin  http://news.livedoor.com/article/detail/4782522/   \n",
       "3  dokujo-tsushin  http://news.livedoor.com/article/detail/4788357/   \n",
       "4  dokujo-tsushin  http://news.livedoor.com/article/detail/4788362/   \n",
       "\n",
       "                          2                           3  \\\n",
       "0  2010-05-22T14:30:00+0900      友人代表のスピーチ、独女はどうこなしている？   \n",
       "1  2010-05-21T14:30:00+0900            ネットで断ち切れない元カレとの縁   \n",
       "2  2010-05-23T11:00:00+0900  相次ぐ芸能人の“すっぴん”披露その時、独女の心境は？   \n",
       "3  2010-05-25T14:00:00+0900                ムダな抵抗！？加齢の現実   \n",
       "4  2010-05-26T14:00:00+0900           税金を払うのは私たちなんですけど！   \n",
       "\n",
       "                                                   4  \n",
       "0  もうすぐジューン・ブライドと呼ばれる６月。独女の中には自分の式はまだなのに呼ばれてばかり……...  \n",
       "1  携帯電話が普及する以前、恋人への連絡ツールは一般電話が普通だった。恋人と別れたら、手帳に書か...  \n",
       "2  「男性はやっぱり、女性の“すっぴん”が大好きなんですかね」と不満そうに話すのは、出版関係で働...  \n",
       "3  ヒップの加齢による変化は「たわむ→下がる→内に流れる」、バストは「そげる→たわむ→外に流れる...  \n",
       "4  6月から支給される子ども手当だが、当初は子ども一人当たり月額2万6000円が支給されるはずだ...  "
      ]
     },
     "execution_count": 5,
     "metadata": {},
     "output_type": "execute_result"
    }
   ],
   "source": [
    "p_temp = pathlib.Path('text')\n",
    "article_list = []\n",
    "for p in p_temp.glob('**/*.txt'):\n",
    "    if len(str(p).split('/')) >2:\n",
    "        media = str(p).split('/')[1]\n",
    "        file_name = str(p).split('/')[2]\n",
    "    \n",
    "        if file_name != 'LICENSE.txt':\n",
    "            with open(p, 'r') as f:\n",
    "                article = f.readlines()\n",
    "                article = [re.sub(r'[\\n \\u3000]', '', i) for i in article]\n",
    "            article_list.append([media, article[0], article[1], article[2], ''.join(article[3:])])\n",
    "\n",
    "        else:\n",
    "            continue\n",
    "article_df = pd.DataFrame(article_list)\n",
    "article_df.head()"
   ]
  },
  {
   "cell_type": "code",
   "execution_count": 7,
   "metadata": {},
   "outputs": [
    {
     "ename": "TypeError",
     "evalue": "__init__() takes 1 positional argument but 3 were given",
     "output_type": "error",
     "traceback": [
      "\u001b[0;31m---------------------------------------------------------------------------\u001b[0m",
      "\u001b[0;31mTypeError\u001b[0m                                 Traceback (most recent call last)",
      "\u001b[0;32m<ipython-input-7-8f6d48695bbc>\u001b[0m in \u001b[0;36m<module>\u001b[0;34m\u001b[0m\n\u001b[1;32m      7\u001b[0m \u001b[0mt\u001b[0m \u001b[0;34m=\u001b[0m \u001b[0mTokenizer\u001b[0m\u001b[0;34m(\u001b[0m\u001b[0;34m)\u001b[0m\u001b[0;34m\u001b[0m\u001b[0;34m\u001b[0m\u001b[0m\n\u001b[1;32m      8\u001b[0m \u001b[0mchar_filters\u001b[0m \u001b[0;34m=\u001b[0m \u001b[0;34m[\u001b[0m\u001b[0mUnicodeNormalizeCharFilter\u001b[0m\u001b[0;34m(\u001b[0m\u001b[0;34m)\u001b[0m\u001b[0;34m]\u001b[0m\u001b[0;34m\u001b[0m\u001b[0;34m\u001b[0m\u001b[0m\n\u001b[0;32m----> 9\u001b[0;31m \u001b[0manalyzer\u001b[0m \u001b[0;34m=\u001b[0m \u001b[0mAnalyzer\u001b[0m\u001b[0;34m(\u001b[0m\u001b[0mchar_filters\u001b[0m\u001b[0;34m,\u001b[0m \u001b[0mt\u001b[0m\u001b[0;34m)\u001b[0m\u001b[0;34m\u001b[0m\u001b[0;34m\u001b[0m\u001b[0m\n\u001b[0m\u001b[1;32m     10\u001b[0m \u001b[0;34m\u001b[0m\u001b[0m\n\u001b[1;32m     11\u001b[0m \u001b[0;31m# word_lists = []\u001b[0m\u001b[0;34m\u001b[0m\u001b[0;34m\u001b[0m\u001b[0;34m\u001b[0m\u001b[0m\n",
      "\u001b[0;31mTypeError\u001b[0m: __init__() takes 1 positional argument but 3 were given"
     ]
    }
   ],
   "source": [
    "news_df = article_df[article_df[0] == 'sports-watch'].reset_index(drop = True)\n",
    "\n",
    "from janome.tokenizer import Tokenizer\n",
    "from janome.analyzer import Analyzer\n",
    "from janome.charfilter import *\n",
    "\n",
    "t = Tokenizer()\n",
    "char_filters = [UnicodeNormalizeCharFilter()]\n",
    "analyzer = Analyzer(char_filters, t)\n",
    "\n",
    "# word_lists = []\n",
    "# for i, row in news_df.iterrows():\n",
    "#     for t in analyzer.analyze(row[4]):\n",
    "#         print(t)"
   ]
  },
  {
   "cell_type": "code",
   "execution_count": null,
   "metadata": {},
   "outputs": [],
   "source": []
  }
 ],
 "metadata": {
  "kernelspec": {
   "display_name": "Python 3",
   "language": "python",
   "name": "python3"
  },
  "language_info": {
   "codemirror_mode": {
    "name": "ipython",
    "version": 3
   },
   "file_extension": ".py",
   "mimetype": "text/x-python",
   "name": "python",
   "nbconvert_exporter": "python",
   "pygments_lexer": "ipython3",
   "version": "3.8.3"
  }
 },
 "nbformat": 4,
 "nbformat_minor": 4
}
