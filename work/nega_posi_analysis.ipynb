{
 "cells": [
  {
   "cell_type": "code",
   "execution_count": 1,
   "metadata": {},
   "outputs": [],
   "source": [
    "import pandas as pd\n",
    "import numpy as np\n",
    "import os\n",
    "import glob\n",
    "import pathlib\n",
    "import re\n",
    "import janome\n",
    "import jaconv"
   ]
  },
  {
   "cell_type": "code",
   "execution_count": 2,
   "metadata": {},
   "outputs": [],
   "source": [
    "p_dic = pathlib.Path('dic')\n",
    "\n",
    "for i in p_dic.glob('*.txt'):\n",
    "    with open (i, 'r', encoding='utf-8') as f:\n",
    "        x = [i.replace('\\n', '').split(':') for i in f.readlines()]\n",
    "        \n",
    "posi_nega_df = pd.DataFrame(x, columns = ['基本形', '読み', '品詞', 'スコア'])\n",
    "posi_nega_df['読み'] = posi_nega_df['読み'].apply(lambda x : jaconv.hira2kata(x))\n",
    "posi_nega_df = posi_nega_df[~posi_nega_df[['基本形', '読み', '品詞']].duplicated()]"
   ]
  },
  {
   "cell_type": "code",
   "execution_count": 3,
   "metadata": {},
   "outputs": [
    {
     "data": {
      "text/html": [
       "<div>\n",
       "<style scoped>\n",
       "    .dataframe tbody tr th:only-of-type {\n",
       "        vertical-align: middle;\n",
       "    }\n",
       "\n",
       "    .dataframe tbody tr th {\n",
       "        vertical-align: top;\n",
       "    }\n",
       "\n",
       "    .dataframe thead th {\n",
       "        text-align: right;\n",
       "    }\n",
       "</style>\n",
       "<table border=\"1\" class=\"dataframe\">\n",
       "  <thead>\n",
       "    <tr style=\"text-align: right;\">\n",
       "      <th></th>\n",
       "      <th>基本形</th>\n",
       "      <th>読み</th>\n",
       "      <th>品詞</th>\n",
       "      <th>スコア</th>\n",
       "    </tr>\n",
       "  </thead>\n",
       "  <tbody>\n",
       "    <tr>\n",
       "      <th>0</th>\n",
       "      <td>優れる</td>\n",
       "      <td>スグレル</td>\n",
       "      <td>動詞</td>\n",
       "      <td>1</td>\n",
       "    </tr>\n",
       "    <tr>\n",
       "      <th>1</th>\n",
       "      <td>良い</td>\n",
       "      <td>ヨイ</td>\n",
       "      <td>形容詞</td>\n",
       "      <td>0.999995</td>\n",
       "    </tr>\n",
       "    <tr>\n",
       "      <th>2</th>\n",
       "      <td>喜ぶ</td>\n",
       "      <td>ヨロコブ</td>\n",
       "      <td>動詞</td>\n",
       "      <td>0.999979</td>\n",
       "    </tr>\n",
       "    <tr>\n",
       "      <th>3</th>\n",
       "      <td>褒める</td>\n",
       "      <td>ホメル</td>\n",
       "      <td>動詞</td>\n",
       "      <td>0.999979</td>\n",
       "    </tr>\n",
       "    <tr>\n",
       "      <th>4</th>\n",
       "      <td>めでたい</td>\n",
       "      <td>メデタイ</td>\n",
       "      <td>形容詞</td>\n",
       "      <td>0.999645</td>\n",
       "    </tr>\n",
       "  </tbody>\n",
       "</table>\n",
       "</div>"
      ],
      "text/plain": [
       "    基本形    読み   品詞       スコア\n",
       "0   優れる  スグレル   動詞         1\n",
       "1    良い    ヨイ  形容詞  0.999995\n",
       "2    喜ぶ  ヨロコブ   動詞  0.999979\n",
       "3   褒める   ホメル   動詞  0.999979\n",
       "4  めでたい  メデタイ  形容詞  0.999645"
      ]
     },
     "execution_count": 3,
     "metadata": {},
     "output_type": "execute_result"
    }
   ],
   "source": [
    "posi_nega_df.head()"
   ]
  },
  {
   "cell_type": "code",
   "execution_count": 4,
   "metadata": {},
   "outputs": [
    {
     "data": {
      "text/plain": [
       "(55112, 4)"
      ]
     },
     "execution_count": 4,
     "metadata": {},
     "output_type": "execute_result"
    }
   ],
   "source": [
    "posi_nega_df.shape"
   ]
  },
  {
   "cell_type": "code",
   "execution_count": 26,
   "metadata": {},
   "outputs": [
    {
     "data": {
      "text/html": [
       "<div>\n",
       "<style scoped>\n",
       "    .dataframe tbody tr th:only-of-type {\n",
       "        vertical-align: middle;\n",
       "    }\n",
       "\n",
       "    .dataframe tbody tr th {\n",
       "        vertical-align: top;\n",
       "    }\n",
       "\n",
       "    .dataframe thead th {\n",
       "        text-align: right;\n",
       "    }\n",
       "</style>\n",
       "<table border=\"1\" class=\"dataframe\">\n",
       "  <thead>\n",
       "    <tr style=\"text-align: right;\">\n",
       "      <th></th>\n",
       "      <th>0</th>\n",
       "      <th>1</th>\n",
       "      <th>2</th>\n",
       "      <th>3</th>\n",
       "      <th>4</th>\n",
       "    </tr>\n",
       "  </thead>\n",
       "  <tbody>\n",
       "  </tbody>\n",
       "</table>\n",
       "</div>"
      ],
      "text/plain": [
       "Empty DataFrame\n",
       "Columns: [0, 1, 2, 3, 4]\n",
       "Index: []"
      ]
     },
     "execution_count": 26,
     "metadata": {},
     "output_type": "execute_result"
    }
   ],
   "source": [
    "p_temp = pathlib.Path('text')\n",
    "article_list = []\n",
    "for p in p_temp.glob('**/*.txt'):\n",
    "    if len(str(p).split('/')) >2:\n",
    "        media = str(p).split('/')[1]\n",
    "        file_name = str(p).split('/')[2]\n",
    "    \n",
    "        if file_name != 'LICENSE.txt':\n",
    "            with open(p, 'r') as f:\n",
    "                article = f.readlines()\n",
    "                article = [re.sub(r'[\\n \\u3000]', '', i) for i in article]\n",
    "            article_list.append([media, article[0], article[1], article[2], ''.join(article[3:])])\n",
    "\n",
    "        else:\n",
    "            continue\n",
    "article_df = pd.DataFrame(article_list)\n",
    "article_df.head()"
   ]
  },
  {
   "cell_type": "code",
   "execution_count": 32,
   "metadata": {},
   "outputs": [
    {
     "data": {
      "text/plain": [
       "0    今月8日、都内ホテルでは、総合格闘家・吉田秀彦の引退試合興行「ASTRA」の開催が発表された...\n",
       "1    競馬界にひと足早い\"春\"が到来した。10日、ＪＲＡが2010年度の新規調教師９名、騎手免許試...\n",
       "2    スノーボード男子ハーフパイプの国母和宏（東海大）が、バンクーバーへの移動中に空港で服装の乱れ...\n",
       "3    バンクーバー五輪女子スノーボードクロス日本代表の藤森由香が公式練習中に風にあおられて転倒。頭...\n",
       "4    バンクーバー五輪で日本勢初のメダル獲得となったスピードスケート男子500メートルの長島圭一郎...\n",
       "Name: 4, dtype: object"
      ]
     },
     "execution_count": 32,
     "metadata": {},
     "output_type": "execute_result"
    }
   ],
   "source": [
    "news_df.iloc[:5, 4]"
   ]
  },
  {
   "cell_type": "code",
   "execution_count": 38,
   "metadata": {},
   "outputs": [],
   "source": [
    "news_df = article_df[article_df[0] == 'sports-watch'].reset_index(drop = True)\n",
    "\n",
    "from janome.tokenizer import Tokenizer\n",
    "from janome.analyzer import Analyzer\n",
    "from janome.charfilter import *\n",
    "\n",
    "i = 0\n",
    "\n",
    "t = Tokenizer()\n",
    "char_filters = [UnicodeNormalizeCharFilter()]\n",
    "analyzer = Analyzer(char_filters=char_filters, tokenizer=t)\n",
    "\n",
    "word_lists = []\n",
    "for i, row in news_df.iterrows():\n",
    "    for t in analyzer.analyze(row[4]):\n",
    "        surf = t.surface\n",
    "        base = t.base_form\n",
    "        pos = t.part_of_speech\n",
    "        reading = t.reading\n",
    "        \n",
    "        word_lists.append([i, surf, base, pos, reading])\n",
    "word_df = pd.DataFrame(word_lists, columns=['ニュースNo.', '単語', '基本形', '品詞', '読み'])\n",
    "word_df['品詞'] = word_df['品詞'].apply(lambda x : x.split(',')[0])"
   ]
  },
  {
   "cell_type": "code",
   "execution_count": 41,
   "metadata": {},
   "outputs": [
    {
     "data": {
      "text/html": [
       "<div>\n",
       "<style scoped>\n",
       "    .dataframe tbody tr th:only-of-type {\n",
       "        vertical-align: middle;\n",
       "    }\n",
       "\n",
       "    .dataframe tbody tr th {\n",
       "        vertical-align: top;\n",
       "    }\n",
       "\n",
       "    .dataframe thead th {\n",
       "        text-align: right;\n",
       "    }\n",
       "</style>\n",
       "<table border=\"1\" class=\"dataframe\">\n",
       "  <thead>\n",
       "    <tr style=\"text-align: right;\">\n",
       "      <th></th>\n",
       "      <th>ニュースNo.</th>\n",
       "      <th>単語</th>\n",
       "      <th>基本形</th>\n",
       "      <th>品詞</th>\n",
       "      <th>読み</th>\n",
       "    </tr>\n",
       "  </thead>\n",
       "  <tbody>\n",
       "    <tr>\n",
       "      <th>0</th>\n",
       "      <td>0</td>\n",
       "      <td>今月</td>\n",
       "      <td>今月</td>\n",
       "      <td>名詞</td>\n",
       "      <td>コンゲツ</td>\n",
       "    </tr>\n",
       "    <tr>\n",
       "      <th>1</th>\n",
       "      <td>0</td>\n",
       "      <td>8</td>\n",
       "      <td>8</td>\n",
       "      <td>名詞</td>\n",
       "      <td>*</td>\n",
       "    </tr>\n",
       "    <tr>\n",
       "      <th>2</th>\n",
       "      <td>0</td>\n",
       "      <td>日</td>\n",
       "      <td>日</td>\n",
       "      <td>名詞</td>\n",
       "      <td>ニチ</td>\n",
       "    </tr>\n",
       "    <tr>\n",
       "      <th>3</th>\n",
       "      <td>0</td>\n",
       "      <td>、</td>\n",
       "      <td>、</td>\n",
       "      <td>記号</td>\n",
       "      <td>、</td>\n",
       "    </tr>\n",
       "    <tr>\n",
       "      <th>4</th>\n",
       "      <td>0</td>\n",
       "      <td>都内</td>\n",
       "      <td>都内</td>\n",
       "      <td>名詞</td>\n",
       "      <td>トナイ</td>\n",
       "    </tr>\n",
       "  </tbody>\n",
       "</table>\n",
       "</div>"
      ],
      "text/plain": [
       "   ニュースNo.  単語 基本形  品詞    読み\n",
       "0        0  今月  今月  名詞  コンゲツ\n",
       "1        0   8   8  名詞     *\n",
       "2        0   日   日  名詞    ニチ\n",
       "3        0   、   、  記号     、\n",
       "4        0  都内  都内  名詞   トナイ"
      ]
     },
     "execution_count": 41,
     "metadata": {},
     "output_type": "execute_result"
    }
   ],
   "source": [
    "word_df.head()"
   ]
  },
  {
   "cell_type": "code",
   "execution_count": 44,
   "metadata": {},
   "outputs": [
    {
     "data": {
      "text/html": [
       "<div>\n",
       "<style scoped>\n",
       "    .dataframe tbody tr th:only-of-type {\n",
       "        vertical-align: middle;\n",
       "    }\n",
       "\n",
       "    .dataframe tbody tr th {\n",
       "        vertical-align: top;\n",
       "    }\n",
       "\n",
       "    .dataframe thead th {\n",
       "        text-align: right;\n",
       "    }\n",
       "</style>\n",
       "<table border=\"1\" class=\"dataframe\">\n",
       "  <thead>\n",
       "    <tr style=\"text-align: right;\">\n",
       "      <th></th>\n",
       "      <th>基本形</th>\n",
       "      <th>読み</th>\n",
       "      <th>品詞</th>\n",
       "      <th>スコア</th>\n",
       "    </tr>\n",
       "  </thead>\n",
       "  <tbody>\n",
       "    <tr>\n",
       "      <th>0</th>\n",
       "      <td>優れる</td>\n",
       "      <td>スグレル</td>\n",
       "      <td>動詞</td>\n",
       "      <td>1</td>\n",
       "    </tr>\n",
       "    <tr>\n",
       "      <th>1</th>\n",
       "      <td>良い</td>\n",
       "      <td>ヨイ</td>\n",
       "      <td>形容詞</td>\n",
       "      <td>0.999995</td>\n",
       "    </tr>\n",
       "    <tr>\n",
       "      <th>2</th>\n",
       "      <td>喜ぶ</td>\n",
       "      <td>ヨロコブ</td>\n",
       "      <td>動詞</td>\n",
       "      <td>0.999979</td>\n",
       "    </tr>\n",
       "    <tr>\n",
       "      <th>3</th>\n",
       "      <td>褒める</td>\n",
       "      <td>ホメル</td>\n",
       "      <td>動詞</td>\n",
       "      <td>0.999979</td>\n",
       "    </tr>\n",
       "    <tr>\n",
       "      <th>4</th>\n",
       "      <td>めでたい</td>\n",
       "      <td>メデタイ</td>\n",
       "      <td>形容詞</td>\n",
       "      <td>0.999645</td>\n",
       "    </tr>\n",
       "  </tbody>\n",
       "</table>\n",
       "</div>"
      ],
      "text/plain": [
       "    基本形    読み   品詞       スコア\n",
       "0   優れる  スグレル   動詞         1\n",
       "1    良い    ヨイ  形容詞  0.999995\n",
       "2    喜ぶ  ヨロコブ   動詞  0.999979\n",
       "3   褒める   ホメル   動詞  0.999979\n",
       "4  めでたい  メデタイ  形容詞  0.999645"
      ]
     },
     "execution_count": 44,
     "metadata": {},
     "output_type": "execute_result"
    }
   ],
   "source": [
    "posi_nega_df.head()"
   ]
  },
  {
   "cell_type": "code",
   "execution_count": 46,
   "metadata": {},
   "outputs": [],
   "source": [
    "score_result = pd.merge(word_df, posi_nega_df, on=['基本形', '品詞', '読み'], how='left')"
   ]
  },
  {
   "cell_type": "code",
   "execution_count": 49,
   "metadata": {},
   "outputs": [
    {
     "data": {
      "text/html": [
       "<div>\n",
       "<style scoped>\n",
       "    .dataframe tbody tr th:only-of-type {\n",
       "        vertical-align: middle;\n",
       "    }\n",
       "\n",
       "    .dataframe tbody tr th {\n",
       "        vertical-align: top;\n",
       "    }\n",
       "\n",
       "    .dataframe thead th {\n",
       "        text-align: right;\n",
       "    }\n",
       "</style>\n",
       "<table border=\"1\" class=\"dataframe\">\n",
       "  <thead>\n",
       "    <tr style=\"text-align: right;\">\n",
       "      <th></th>\n",
       "      <th>ニュースNo.</th>\n",
       "      <th>単語</th>\n",
       "      <th>基本形</th>\n",
       "      <th>品詞</th>\n",
       "      <th>読み</th>\n",
       "      <th>スコア</th>\n",
       "    </tr>\n",
       "  </thead>\n",
       "  <tbody>\n",
       "    <tr>\n",
       "      <th>0</th>\n",
       "      <td>0</td>\n",
       "      <td>今月</td>\n",
       "      <td>今月</td>\n",
       "      <td>名詞</td>\n",
       "      <td>コンゲツ</td>\n",
       "      <td>-0.310828</td>\n",
       "    </tr>\n",
       "    <tr>\n",
       "      <th>1</th>\n",
       "      <td>0</td>\n",
       "      <td>8</td>\n",
       "      <td>8</td>\n",
       "      <td>名詞</td>\n",
       "      <td>*</td>\n",
       "      <td>NaN</td>\n",
       "    </tr>\n",
       "    <tr>\n",
       "      <th>2</th>\n",
       "      <td>0</td>\n",
       "      <td>日</td>\n",
       "      <td>日</td>\n",
       "      <td>名詞</td>\n",
       "      <td>ニチ</td>\n",
       "      <td>-0.903573</td>\n",
       "    </tr>\n",
       "    <tr>\n",
       "      <th>3</th>\n",
       "      <td>0</td>\n",
       "      <td>、</td>\n",
       "      <td>、</td>\n",
       "      <td>記号</td>\n",
       "      <td>、</td>\n",
       "      <td>NaN</td>\n",
       "    </tr>\n",
       "    <tr>\n",
       "      <th>4</th>\n",
       "      <td>0</td>\n",
       "      <td>都内</td>\n",
       "      <td>都内</td>\n",
       "      <td>名詞</td>\n",
       "      <td>トナイ</td>\n",
       "      <td>NaN</td>\n",
       "    </tr>\n",
       "    <tr>\n",
       "      <th>5</th>\n",
       "      <td>0</td>\n",
       "      <td>ホテル</td>\n",
       "      <td>ホテル</td>\n",
       "      <td>名詞</td>\n",
       "      <td>ホテル</td>\n",
       "      <td>-0.427329</td>\n",
       "    </tr>\n",
       "    <tr>\n",
       "      <th>6</th>\n",
       "      <td>0</td>\n",
       "      <td>で</td>\n",
       "      <td>で</td>\n",
       "      <td>助詞</td>\n",
       "      <td>デ</td>\n",
       "      <td>NaN</td>\n",
       "    </tr>\n",
       "    <tr>\n",
       "      <th>7</th>\n",
       "      <td>0</td>\n",
       "      <td>は</td>\n",
       "      <td>は</td>\n",
       "      <td>助詞</td>\n",
       "      <td>ハ</td>\n",
       "      <td>NaN</td>\n",
       "    </tr>\n",
       "    <tr>\n",
       "      <th>8</th>\n",
       "      <td>0</td>\n",
       "      <td>、</td>\n",
       "      <td>、</td>\n",
       "      <td>記号</td>\n",
       "      <td>、</td>\n",
       "      <td>NaN</td>\n",
       "    </tr>\n",
       "    <tr>\n",
       "      <th>9</th>\n",
       "      <td>0</td>\n",
       "      <td>総合</td>\n",
       "      <td>総合</td>\n",
       "      <td>名詞</td>\n",
       "      <td>ソウゴウ</td>\n",
       "      <td>-0.384064</td>\n",
       "    </tr>\n",
       "  </tbody>\n",
       "</table>\n",
       "</div>"
      ],
      "text/plain": [
       "   ニュースNo.   単語  基本形  品詞    読み        スコア\n",
       "0        0   今月   今月  名詞  コンゲツ  -0.310828\n",
       "1        0    8    8  名詞     *        NaN\n",
       "2        0    日    日  名詞    ニチ  -0.903573\n",
       "3        0    、    、  記号     、        NaN\n",
       "4        0   都内   都内  名詞   トナイ        NaN\n",
       "5        0  ホテル  ホテル  名詞   ホテル  -0.427329\n",
       "6        0    で    で  助詞     デ        NaN\n",
       "7        0    は    は  助詞     ハ        NaN\n",
       "8        0    、    、  記号     、        NaN\n",
       "9        0   総合   総合  名詞  ソウゴウ  -0.384064"
      ]
     },
     "execution_count": 49,
     "metadata": {},
     "output_type": "execute_result"
    }
   ],
   "source": [
    "score_result.head(10)"
   ]
  },
  {
   "cell_type": "code",
   "execution_count": 53,
   "metadata": {},
   "outputs": [
    {
     "data": {
      "text/html": [
       "<div>\n",
       "<style scoped>\n",
       "    .dataframe tbody tr th:only-of-type {\n",
       "        vertical-align: middle;\n",
       "    }\n",
       "\n",
       "    .dataframe tbody tr th {\n",
       "        vertical-align: top;\n",
       "    }\n",
       "\n",
       "    .dataframe thead th {\n",
       "        text-align: right;\n",
       "    }\n",
       "</style>\n",
       "<table border=\"1\" class=\"dataframe\">\n",
       "  <thead>\n",
       "    <tr style=\"text-align: right;\">\n",
       "      <th></th>\n",
       "      <th>ニュースNo.</th>\n",
       "      <th>テキスト</th>\n",
       "      <th>累計スコア</th>\n",
       "      <th>標準化スコア</th>\n",
       "    </tr>\n",
       "  </thead>\n",
       "  <tbody>\n",
       "    <tr>\n",
       "      <th>0</th>\n",
       "      <td>341</td>\n",
       "      <td>フジテレビ「すぽると!」(2日深夜放送)では、チャンピオンズリーグ準決勝セカンドレグで、マン...</td>\n",
       "      <td>-33.127142</td>\n",
       "      <td>-0.637060</td>\n",
       "    </tr>\n",
       "    <tr>\n",
       "      <th>1</th>\n",
       "      <td>107</td>\n",
       "      <td>現在、日本中に大きな驚きと怒りをもたらしてる大相撲の野球賭博問題。旧態依然とした体質に加え、...</td>\n",
       "      <td>-41.976875</td>\n",
       "      <td>-0.626521</td>\n",
       "    </tr>\n",
       "    <tr>\n",
       "      <th>2</th>\n",
       "      <td>78</td>\n",
       "      <td>テレビ朝日「やべっちF.C.」(30日放送分)では、「日本代表緊急討論会」として、セルジオ越...</td>\n",
       "      <td>-61.373802</td>\n",
       "      <td>-0.619937</td>\n",
       "    </tr>\n",
       "    <tr>\n",
       "      <th>3</th>\n",
       "      <td>654</td>\n",
       "      <td>2日放送、日本テレビ系列「ダウンタウンDX」には、埼玉西武ライオンズの石井一久、中村剛也が出...</td>\n",
       "      <td>-33.803370</td>\n",
       "      <td>-0.614607</td>\n",
       "    </tr>\n",
       "    <tr>\n",
       "      <th>4</th>\n",
       "      <td>292</td>\n",
       "      <td>TBS「S1」(27日深夜)では、北海道日本ハムファイターズのエース・ダルビッシュ有と、プロ...</td>\n",
       "      <td>-53.934022</td>\n",
       "      <td>-0.612887</td>\n",
       "    </tr>\n",
       "    <tr>\n",
       "      <th>...</th>\n",
       "      <td>...</td>\n",
       "      <td>...</td>\n",
       "      <td>...</td>\n",
       "      <td>...</td>\n",
       "    </tr>\n",
       "    <tr>\n",
       "      <th>895</th>\n",
       "      <td>758</td>\n",
       "      <td>国内外を問わず、格闘技界には美女格闘家と呼ばれる選手たちが思いのほか多い。今でこそ第一線から...</td>\n",
       "      <td>-15.712103</td>\n",
       "      <td>-0.227712</td>\n",
       "    </tr>\n",
       "    <tr>\n",
       "      <th>896</th>\n",
       "      <td>533</td>\n",
       "      <td>10月27日に行われたドラフト会議で日本ハムの1位指名を受けた東海大・菅野智之投手。11月4...</td>\n",
       "      <td>-18.889230</td>\n",
       "      <td>-0.227581</td>\n",
       "    </tr>\n",
       "    <tr>\n",
       "      <th>897</th>\n",
       "      <td>395</td>\n",
       "      <td>2011年、日本生命セ・パ交流戦で優勝に輝いた福岡ソフトバンクホークス。22日には、交流戦M...</td>\n",
       "      <td>-14.983960</td>\n",
       "      <td>-0.211042</td>\n",
       "    </tr>\n",
       "    <tr>\n",
       "      <th>898</th>\n",
       "      <td>453</td>\n",
       "      <td>18日、サッカー女子日本代表の監督、コーチ、選手、スタッフ35名に国民栄誉賞が授与され、その...</td>\n",
       "      <td>-12.284698</td>\n",
       "      <td>-0.159542</td>\n",
       "    </tr>\n",
       "    <tr>\n",
       "      <th>899</th>\n",
       "      <td>232</td>\n",
       "      <td>今シーズンは、最多勝、最優秀防御率、最多奪三振と22歳の史上最年少で投手三冠を達成し、沢村賞...</td>\n",
       "      <td>-7.458571</td>\n",
       "      <td>-0.146246</td>\n",
       "    </tr>\n",
       "  </tbody>\n",
       "</table>\n",
       "<p>900 rows × 4 columns</p>\n",
       "</div>"
      ],
      "text/plain": [
       "     ニュースNo.                                               テキスト      累計スコア  \\\n",
       "0        341  フジテレビ「すぽると!」(2日深夜放送)では、チャンピオンズリーグ準決勝セカンドレグで、マン... -33.127142   \n",
       "1        107  現在、日本中に大きな驚きと怒りをもたらしてる大相撲の野球賭博問題。旧態依然とした体質に加え、... -41.976875   \n",
       "2         78  テレビ朝日「やべっちF.C.」(30日放送分)では、「日本代表緊急討論会」として、セルジオ越... -61.373802   \n",
       "3        654  2日放送、日本テレビ系列「ダウンタウンDX」には、埼玉西武ライオンズの石井一久、中村剛也が出... -33.803370   \n",
       "4        292  TBS「S1」(27日深夜)では、北海道日本ハムファイターズのエース・ダルビッシュ有と、プロ... -53.934022   \n",
       "..       ...                                                ...        ...   \n",
       "895      758  国内外を問わず、格闘技界には美女格闘家と呼ばれる選手たちが思いのほか多い。今でこそ第一線から... -15.712103   \n",
       "896      533  10月27日に行われたドラフト会議で日本ハムの1位指名を受けた東海大・菅野智之投手。11月4... -18.889230   \n",
       "897      395  2011年、日本生命セ・パ交流戦で優勝に輝いた福岡ソフトバンクホークス。22日には、交流戦M... -14.983960   \n",
       "898      453  18日、サッカー女子日本代表の監督、コーチ、選手、スタッフ35名に国民栄誉賞が授与され、その... -12.284698   \n",
       "899      232  今シーズンは、最多勝、最優秀防御率、最多奪三振と22歳の史上最年少で投手三冠を達成し、沢村賞...  -7.458571   \n",
       "\n",
       "       標準化スコア  \n",
       "0   -0.637060  \n",
       "1   -0.626521  \n",
       "2   -0.619937  \n",
       "3   -0.614607  \n",
       "4   -0.612887  \n",
       "..        ...  \n",
       "895 -0.227712  \n",
       "896 -0.227581  \n",
       "897 -0.211042  \n",
       "898 -0.159542  \n",
       "899 -0.146246  \n",
       "\n",
       "[900 rows x 4 columns]"
      ]
     },
     "execution_count": 53,
     "metadata": {},
     "output_type": "execute_result"
    }
   ],
   "source": [
    "result = []\n",
    "for i in range(len(score_result['ニュースNo.'].unique())):\n",
    "    temp_df = score_result[score_result['ニュースNo.']== i]\n",
    "    text = ''.join(list(temp_df['単語']))\n",
    "    score = temp_df['スコア'].astype(float).sum()\n",
    "    score_r = score/temp_df['スコア'].astype(float).count()\n",
    "    result.append([i, text, score, score_r])\n",
    "\n",
    "pd.DataFrame(result, columns=['ニュースNo.', 'テキスト', '累計スコア', '標準化スコア']).sort_values(by='標準化スコア').reset_index(drop=True)"
   ]
  },
  {
   "cell_type": "code",
   "execution_count": 54,
   "metadata": {},
   "outputs": [],
   "source": [
    "data = pd.DataFrame(result, columns=['ニュースNo.', 'テキスト', '累計スコア', '標準化スコア']).sort_values(by='標準化スコア').reset_index(drop=True)"
   ]
  },
  {
   "cell_type": "code",
   "execution_count": 68,
   "metadata": {},
   "outputs": [
    {
     "data": {
      "text/plain": [
       "'フジテレビ「すぽると!」(2日深夜放送)では、チャンピオンズリーグ準決勝セカンドレグで、マンチェスター・ユナイテッドと対戦するシャルケ・内田篤人のインタビューを放送した。ファーストレグでは2-0と後れをとり、崖っぷちの一戦に臨むことになった内田。その試合について、「いつか点取られるなっていう気はしてたし、やっぱり強いなっていうのはありました。自分達がボールを回せないで走らされている分、後ろに負担がかかるので、まあ、しょうがないっすね。インテルはちょっと個人寄りな部分があったんで、こちらがしっかり準備できていれば、そんなに怖くないっていうのはあった」と振り返ると、「マンチェはかなり組織もしっかりしていて、成熟しているなというか、監督も長い時間やってるし、歴史を感じました」という感想を述べた。また、「ビビってるわけではないですけど、ノイアーが言ってたんですけど、(マンUを)尊重し過ぎた。日本語が適しているか分からないですけど」という内田は、大きなディスアドバンテージがあるセカンドレグに向け、「やってる自分達がそんなこと言ってたら、始まらないですから。嘘でも(攻略法は)あると言っておきます。というか、まあ、いるじゃないですか、一人。ラウールが何とかしてくれるかな。僕はシャルケでプレーしてなかったら、無理だなって思いますし、僕がマンUでプレーしてたら“早く諦めてくれ”って思いますし、でも、僕はシャルケでプレーしているんで、諦めないですし、こんなところで投げたくない。どんな厳しい状況であろうが、どういう大会だろうが関係なく、試合をやるからには負けたくない」と意気込んだ。'"
      ]
     },
     "execution_count": 68,
     "metadata": {},
     "output_type": "execute_result"
    }
   ],
   "source": [
    "data.iloc[0, 1]"
   ]
  },
  {
   "cell_type": "code",
   "execution_count": 69,
   "metadata": {},
   "outputs": [
    {
     "data": {
      "text/plain": [
       "'現在、日本中に大きな驚きと怒りをもたらしてる大相撲の野球賭博問題。旧態依然とした体質に加え、暴力団との繋がりも根が深く、4日、大関・琴光喜と大嶽親方には解雇処分が下された。TBS系「サンデー・ジャポン」(4日放送)では、テリー伊藤が本問題について言及、「博打ってこの程度の罪で済むのかと素人の人が思ってしまうのが危険」と警笛を鳴らすと、「本来ならば相撲協会がNHKに今回の名古屋場所は放送しないで下さいと言わなくてはいけないし、協会が体制を維持しようとする姿勢に違和感を感じる」と苦言を呈したばかりだった。そんな言葉を象徴するかのように、琴光喜は最も重い処分=除名ではないため、退職金が支給され、5日には一部のメディアが「満額なら5500万円」と伝えている。どこまでも、ぬるま湯体質が抜けきらず、進歩のない角界には、今度も多くの批判が寄せられそうだ。'"
      ]
     },
     "execution_count": 69,
     "metadata": {},
     "output_type": "execute_result"
    }
   ],
   "source": [
    "data.iloc[1, 1]"
   ]
  },
  {
   "cell_type": "code",
   "execution_count": 70,
   "metadata": {},
   "outputs": [
    {
     "data": {
      "text/plain": [
       "'今シーズンは、最多勝、最優秀防御率、最多奪三振と22歳の史上最年少で投手三冠を達成し、沢村賞を獲得した広島東洋カープ・前田健太が、17日深夜放送のフジテレビ「すぽると!」に生出演を果たした。契約更改には、「そうですね。楽しみですね。いい成績だったので、気持ちよく一発でいきたいなと思います」と笑顔を見せた前田。「あんまり自分では実感がなくて、周りの人が喜んでくれて、やっと実感できるかな」と今シーズンの活躍を振り返った。また、大きく成績を向上させた要因については、「ピッチングのレベルも上がったんですけど、(昨シーズンの)14敗も本当に悔しかったし、何か変えたいなと思って。あと、ストレートが今年よくなったので、勝てるようになりました」と語る。そのストレートについては、「投げるコツみたいなものを掴んで、はやい球を投げれるようになって、投球に幅が出るようになりました。投げ方のコツですね。(3回目の先発でコツを掴んだと言われているが?)本当にその試合の一球だけで掴みました」と断言するのだった。'"
      ]
     },
     "execution_count": 70,
     "metadata": {},
     "output_type": "execute_result"
    }
   ],
   "source": [
    "data.iloc[-1, 1]"
   ]
  },
  {
   "cell_type": "code",
   "execution_count": 71,
   "metadata": {},
   "outputs": [
    {
     "data": {
      "text/plain": [
       "'18日、サッカー女子日本代表の監督、コーチ、選手、スタッフ35名に国民栄誉賞が授与され、その副賞には、日本の伝統工芸品でもある熊野筆(化粧筆)が進呈された。なでしこジャパン・丸山桂里奈は、報道陣から化粧筆が贈られた理由を訊かれるや、「ど・・・、なんなんですかね?なんだと思いますか?私もちょっと分からないんですけど」と素直に答え、国民栄誉賞の副賞とはいえ、化粧筆が贈られたことには困惑した表情を見せた。19日放送のTBS「みのもんたの朝ズバッ!」では、そんな丸山の母・慶子さんの談話を紹介。「国民栄誉賞受賞者を育てる秘訣」を訊かれると、「特別こういう育て方をしたというのは、特にないんですけどね」と答えた慶子さんだったが、「やっぱり愛情は注いでました。あと、隠し事はしないで何でも話し合える、そういうあれはありました」と語る。千葉県民栄誉賞、東京都栄誉賞など、なでしこジャパントップの9つの賞を受賞した丸山は、着うたで歌手デビューをするなど、タレント並みの活動も行うが、VTRの最後には慶子さんも「国民栄誉賞トゥーユー」という歌で娘を祝福した。'"
      ]
     },
     "execution_count": 71,
     "metadata": {},
     "output_type": "execute_result"
    }
   ],
   "source": [
    "data.iloc[-2, 1]"
   ]
  },
  {
   "cell_type": "code",
   "execution_count": null,
   "metadata": {},
   "outputs": [],
   "source": []
  }
 ],
 "metadata": {
  "kernelspec": {
   "display_name": "Python 3",
   "language": "python",
   "name": "python3"
  },
  "language_info": {
   "codemirror_mode": {
    "name": "ipython",
    "version": 3
   },
   "file_extension": ".py",
   "mimetype": "text/x-python",
   "name": "python",
   "nbconvert_exporter": "python",
   "pygments_lexer": "ipython3",
   "version": "3.8.3"
  }
 },
 "nbformat": 4,
 "nbformat_minor": 4
}
