{
 "cells": [
  {
   "cell_type": "markdown",
   "metadata": {},
   "source": [
    "[gensim tutorial 3](https://radimrehurek.com/gensim/auto_examples/core/run_topics_and_transformations.html)"
   ]
  },
  {
   "cell_type": "code",
   "execution_count": 1,
   "metadata": {},
   "outputs": [],
   "source": [
    "import logging\n",
    "logging.basicConfig(format='%(asctime)s : %(levelname)s : %(message)s', level=logging.INFO)"
   ]
  },
  {
   "cell_type": "code",
   "execution_count": 2,
   "metadata": {},
   "outputs": [
    {
     "name": "stderr",
     "output_type": "stream",
     "text": [
      "2020-11-06 07:21:49,481 : INFO : adding document #0 to Dictionary(0 unique tokens: [])\n",
      "2020-11-06 07:21:49,484 : INFO : built Dictionary(12 unique tokens: ['computer', 'human', 'interface', 'response', 'survey']...) from 9 documents (total 29 corpus positions)\n"
     ]
    }
   ],
   "source": [
    "from collections import defaultdict\n",
    "from gensim import corpora\n",
    "\n",
    "documents = [\n",
    "    \"Human machine interface for lab abc computer applications\",\n",
    "    \"A survey of user opinion of computer system response time\",\n",
    "    \"The EPS user interface management system\",\n",
    "    \"System and human system engineering testing of EPS\",\n",
    "    \"Relation of user perceived response time to error measurement\",\n",
    "    \"The generation of random binary unordered trees\",\n",
    "    \"The intersection graph of paths in trees\",\n",
    "    \"Graph minors IV Widths of trees and well quasi ordering\",\n",
    "    \"Graph minors A survey\",\n",
    "]\n",
    "\n",
    "# remove common words and tokenize\n",
    "stoplist = set('for a of the and to in'.split())\n",
    "texts = [\n",
    "    [word for word in document.lower().split() if word not in stoplist]\n",
    "    for document in documents\n",
    "]\n",
    "\n",
    "# remove words that appear only once\n",
    "frequency = defaultdict(int)\n",
    "for text in texts:\n",
    "    for token in text:\n",
    "        frequency[token] += 1\n",
    "\n",
    "texts = [\n",
    "    [token for token in text if frequency[token] > 1]\n",
    "    for text in texts\n",
    "]\n",
    "\n",
    "dictionary = corpora.Dictionary(texts)\n",
    "corpus = [dictionary.doc2bow(text) for text in texts]"
   ]
  },
  {
   "cell_type": "code",
   "execution_count": 3,
   "metadata": {},
   "outputs": [
    {
     "name": "stderr",
     "output_type": "stream",
     "text": [
      "2020-11-06 07:22:54,316 : INFO : collecting document frequencies\n",
      "2020-11-06 07:22:54,320 : INFO : PROGRESS: processing document #0\n",
      "2020-11-06 07:22:54,323 : INFO : calculating IDF weights for 9 documents and 12 features (28 matrix non-zeros)\n"
     ]
    }
   ],
   "source": [
    "from gensim import models\n",
    "\n",
    "tfidf = models.TfidfModel(corpus)"
   ]
  },
  {
   "cell_type": "code",
   "execution_count": 5,
   "metadata": {},
   "outputs": [
    {
     "name": "stdout",
     "output_type": "stream",
     "text": [
      "[(0, 0.7071067811865476), (1, 0.7071067811865476)]\n"
     ]
    }
   ],
   "source": [
    "doc_bow = [(0, 1), (1, 1)]\n",
    "print(tfidf[doc_bow])"
   ]
  },
  {
   "cell_type": "code",
   "execution_count": 6,
   "metadata": {},
   "outputs": [
    {
     "name": "stdout",
     "output_type": "stream",
     "text": [
      "[(0, 0.5773502691896257), (1, 0.5773502691896257), (2, 0.5773502691896257)]\n",
      "[(0, 0.44424552527467476), (3, 0.44424552527467476), (4, 0.44424552527467476), (5, 0.3244870206138555), (6, 0.44424552527467476), (7, 0.3244870206138555)]\n",
      "[(2, 0.5710059809418182), (5, 0.4170757362022777), (7, 0.4170757362022777), (8, 0.5710059809418182)]\n",
      "[(1, 0.49182558987264147), (5, 0.7184811607083769), (8, 0.49182558987264147)]\n",
      "[(3, 0.6282580468670046), (6, 0.6282580468670046), (7, 0.45889394536615247)]\n",
      "[(9, 1.0)]\n",
      "[(9, 0.7071067811865475), (10, 0.7071067811865475)]\n",
      "[(9, 0.5080429008916749), (10, 0.5080429008916749), (11, 0.695546419520037)]\n",
      "[(4, 0.6282580468670046), (10, 0.45889394536615247), (11, 0.6282580468670046)]\n"
     ]
    }
   ],
   "source": [
    "corpus_tfidf = tfidf[corpus]\n",
    "for doc in corpus_tfidf:\n",
    "    print(doc)"
   ]
  },
  {
   "cell_type": "code",
   "execution_count": 9,
   "metadata": {},
   "outputs": [
    {
     "name": "stderr",
     "output_type": "stream",
     "text": [
      "2020-11-06 07:53:06,308 : INFO : using serial LSI version on this node\n",
      "2020-11-06 07:53:06,312 : INFO : updating model with new documents\n",
      "2020-11-06 07:53:06,316 : INFO : preparing a new chunk of documents\n",
      "2020-11-06 07:53:06,318 : INFO : using 100 extra samples and 2 power iterations\n",
      "2020-11-06 07:53:06,320 : INFO : 1st phase: constructing (12, 102) action matrix\n",
      "2020-11-06 07:53:06,327 : INFO : orthonormalizing (12, 102) action matrix\n",
      "2020-11-06 07:53:06,389 : INFO : 2nd phase: running dense svd on (12, 9) matrix\n",
      "2020-11-06 07:53:06,403 : INFO : computing the final decomposition\n",
      "2020-11-06 07:53:06,405 : INFO : keeping 2 factors (discarding 47.565% of energy spectrum)\n",
      "2020-11-06 07:53:06,415 : INFO : processed documents up to #9\n",
      "2020-11-06 07:53:06,421 : INFO : topic #0(1.594): 0.703*\"trees\" + 0.538*\"graph\" + 0.402*\"minors\" + 0.187*\"survey\" + 0.061*\"system\" + 0.060*\"response\" + 0.060*\"time\" + 0.058*\"user\" + 0.049*\"computer\" + 0.035*\"interface\"\n",
      "2020-11-06 07:53:06,423 : INFO : topic #1(1.476): -0.460*\"system\" + -0.373*\"user\" + -0.332*\"eps\" + -0.328*\"interface\" + -0.320*\"time\" + -0.320*\"response\" + -0.293*\"computer\" + -0.280*\"human\" + -0.171*\"survey\" + 0.161*\"trees\"\n"
     ]
    }
   ],
   "source": [
    "lsi_model = models.LsiModel(corpus_tfidf, id2word=dictionary, num_topics=2)\n",
    "corpus_lsi = lsi_model[corpus_tfidf]"
   ]
  },
  {
   "cell_type": "code",
   "execution_count": 22,
   "metadata": {},
   "outputs": [
    {
     "name": "stderr",
     "output_type": "stream",
     "text": [
      "2020-11-06 08:28:14,683 : INFO : topic #0(1.594): 0.703*\"trees\" + 0.538*\"graph\" + 0.402*\"minors\" + 0.187*\"survey\" + 0.061*\"system\" + 0.060*\"response\" + 0.060*\"time\" + 0.058*\"user\" + 0.049*\"computer\" + 0.035*\"interface\"\n",
      "2020-11-06 08:28:14,686 : INFO : topic #1(1.476): -0.460*\"system\" + -0.373*\"user\" + -0.332*\"eps\" + -0.328*\"interface\" + -0.320*\"time\" + -0.320*\"response\" + -0.293*\"computer\" + -0.280*\"human\" + -0.171*\"survey\" + 0.161*\"trees\"\n"
     ]
    },
    {
     "data": {
      "text/plain": [
       "[(0,\n",
       "  '0.703*\"trees\" + 0.538*\"graph\" + 0.402*\"minors\" + 0.187*\"survey\" + 0.061*\"system\" + 0.060*\"response\" + 0.060*\"time\" + 0.058*\"user\" + 0.049*\"computer\" + 0.035*\"interface\"'),\n",
       " (1,\n",
       "  '-0.460*\"system\" + -0.373*\"user\" + -0.332*\"eps\" + -0.328*\"interface\" + -0.320*\"time\" + -0.320*\"response\" + -0.293*\"computer\" + -0.280*\"human\" + -0.171*\"survey\" + 0.161*\"trees\"')]"
      ]
     },
     "execution_count": 22,
     "metadata": {},
     "output_type": "execute_result"
    }
   ],
   "source": [
    "lsi_model.print_topics(2)"
   ]
  },
  {
   "cell_type": "code",
   "execution_count": 11,
   "metadata": {},
   "outputs": [
    {
     "name": "stdout",
     "output_type": "stream",
     "text": [
      "[(0, 0.06600783396090734), (1, -0.5200703306361847)] Human machine interface for lab abc computer applications\n",
      "[(0, 0.19667592859142935), (1, -0.7609563167700037)] A survey of user opinion of computer system response time\n",
      "[(0, 0.08992639972446904), (1, -0.7241860626752498)] The EPS user interface management system\n",
      "[(0, 0.0758584765217861), (1, -0.6320551586003419)] System and human system engineering testing of EPS\n",
      "[(0, 0.10150299184980428), (1, -0.5737308483002953)] Relation of user perceived response time to error measurement\n",
      "[(0, 0.7032108939378298), (1, 0.16115180214026228)] The generation of random binary unordered trees\n",
      "[(0, 0.8774787673119818), (1, 0.16758906864659945)] The intersection graph of paths in trees\n",
      "[(0, 0.9098624686818567), (1, 0.14086553628719567)] Graph minors IV Widths of trees and well quasi ordering\n",
      "[(0, 0.6165825350569283), (1, -0.05392907566388998)] Graph minors A survey\n"
     ]
    }
   ],
   "source": [
    "for doc, as_text in zip(corpus_lsi, documents):\n",
    "    print(doc, as_text)"
   ]
  },
  {
   "cell_type": "code",
   "execution_count": 14,
   "metadata": {},
   "outputs": [
    {
     "name": "stderr",
     "output_type": "stream",
     "text": [
      "2020-11-06 08:14:19,222 : INFO : saving Projection object under /tmp/model-tk5u7394.lsi.projection, separately None\n",
      "2020-11-06 08:14:19,226 : INFO : saved /tmp/model-tk5u7394.lsi.projection\n",
      "2020-11-06 08:14:19,229 : INFO : saving LsiModel object under /tmp/model-tk5u7394.lsi, separately None\n",
      "2020-11-06 08:14:19,233 : INFO : not storing attribute projection\n",
      "2020-11-06 08:14:19,236 : INFO : not storing attribute dispatcher\n",
      "2020-11-06 08:14:19,239 : INFO : saved /tmp/model-tk5u7394.lsi\n",
      "2020-11-06 08:14:19,242 : INFO : loading LsiModel object from /tmp/model-tk5u7394.lsi\n",
      "2020-11-06 08:14:19,246 : INFO : loading id2word recursively from /tmp/model-tk5u7394.lsi.id2word.* with mmap=None\n",
      "2020-11-06 08:14:19,250 : INFO : setting ignored attribute projection to None\n",
      "2020-11-06 08:14:19,251 : INFO : setting ignored attribute dispatcher to None\n",
      "2020-11-06 08:14:19,255 : INFO : loaded /tmp/model-tk5u7394.lsi\n",
      "2020-11-06 08:14:19,260 : INFO : loading LsiModel object from /tmp/model-tk5u7394.lsi.projection\n",
      "2020-11-06 08:14:19,263 : INFO : loaded /tmp/model-tk5u7394.lsi.projection\n"
     ]
    }
   ],
   "source": [
    "import os\n",
    "import tempfile\n",
    "\n",
    "with tempfile.NamedTemporaryFile(prefix='model-', suffix='.lsi', delete=False) as tmp:\n",
    "    lsi_model.save(tmp.name)\n",
    "    \n",
    "loaded_lsi_model = models.LsiModel.load(tmp.name)\n",
    "\n",
    "os.unlink(tmp.name)"
   ]
  },
  {
   "cell_type": "code",
   "execution_count": 23,
   "metadata": {},
   "outputs": [
    {
     "name": "stdout",
     "output_type": "stream",
     "text": [
      "model-tk5u7394.lsi.projection\n"
     ]
    }
   ],
   "source": [
    "ls /tmp"
   ]
  },
  {
   "cell_type": "code",
   "execution_count": 24,
   "metadata": {},
   "outputs": [
    {
     "name": "stdout",
     "output_type": "stream",
     "text": [
      "[(0, 0.06600783396090734), (1, -0.5200703306361847)]\n"
     ]
    }
   ],
   "source": [
    "print(corpus_lsi[0])"
   ]
  },
  {
   "cell_type": "code",
   "execution_count": null,
   "metadata": {},
   "outputs": [],
   "source": []
  }
 ],
 "metadata": {
  "kernelspec": {
   "display_name": "Python 3",
   "language": "python",
   "name": "python3"
  },
  "language_info": {
   "codemirror_mode": {
    "name": "ipython",
    "version": 3
   },
   "file_extension": ".py",
   "mimetype": "text/x-python",
   "name": "python",
   "nbconvert_exporter": "python",
   "pygments_lexer": "ipython3",
   "version": "3.8.3"
  }
 },
 "nbformat": 4,
 "nbformat_minor": 4
}
