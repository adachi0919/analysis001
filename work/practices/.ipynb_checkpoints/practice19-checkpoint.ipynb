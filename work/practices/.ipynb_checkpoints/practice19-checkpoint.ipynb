{
 "cells": [
  {
   "cell_type": "code",
   "execution_count": 12,
   "metadata": {},
   "outputs": [],
   "source": [
    "from gensim.models import word2vec"
   ]
  },
  {
   "cell_type": "code",
   "execution_count": 13,
   "metadata": {},
   "outputs": [
    {
     "name": "stdout",
     "output_type": "stream",
     "text": [
      "wiki.model                         wiki_neologd.model.trainables.syn1neg.npy\n",
      "wiki.model.trainables.syn1neg.npy  wiki_neologd.model.wv.vectors.npy\n",
      "wiki.model.wv.vectors.npy          wiki_wakati.txt\n",
      "wiki.txt                           wiki_wakati_neologd.txt\n",
      "wiki_neologd.model\n"
     ]
    }
   ],
   "source": [
    "ls ../../../data/wiki/wiki_data/"
   ]
  },
  {
   "cell_type": "code",
   "execution_count": 18,
   "metadata": {},
   "outputs": [],
   "source": [
    "model_neo = word2vec.Word2Vec.load(\"../../../data/wiki/wiki_data/wiki_neologd.model\")"
   ]
  },
  {
   "cell_type": "code",
   "execution_count": 31,
   "metadata": {},
   "outputs": [
    {
     "name": "stderr",
     "output_type": "stream",
     "text": [
      "<ipython-input-31-2ac1ece15124>:1: DeprecationWarning: Call to deprecated `most_similar` (Method will be removed in 4.0.0, use self.wv.most_similar() instead).\n",
      "  model_neo.most_similar(positive=['錦織圭'])\n"
     ]
    },
    {
     "data": {
      "text/plain": [
       "[('シュットラー', 0.7524257898330688),\n",
       " ('クエルテン', 0.7282664775848389),\n",
       " ('デメンチェワ', 0.724471390247345),\n",
       " ('プレミア12', 0.7231545448303223),\n",
       " ('コロンビア戦', 0.7206202149391174),\n",
       " ('ウインブルドン', 0.7199490070343018),\n",
       " ('スケートアメリカ', 0.7159873247146606),\n",
       " ('スベトラーナ・クズネツォワ', 0.7125442028045654),\n",
       " ('マスターズカップ', 0.7109047770500183),\n",
       " ('竜星戦', 0.7071831822395325)]"
      ]
     },
     "execution_count": 31,
     "metadata": {},
     "output_type": "execute_result"
    }
   ],
   "source": [
    "model_neo.most_similar(positive=['錦織圭'])"
   ]
  },
  {
   "cell_type": "code",
   "execution_count": 23,
   "metadata": {},
   "outputs": [
    {
     "name": "stdout",
     "output_type": "stream",
     "text": [
      "model.bin\n"
     ]
    }
   ],
   "source": [
    "ls models"
   ]
  },
  {
   "cell_type": "code",
   "execution_count": 24,
   "metadata": {},
   "outputs": [],
   "source": [
    "model = word2vec.Word2Vec.load(\"models/model.bin\")"
   ]
  },
  {
   "cell_type": "code",
   "execution_count": 30,
   "metadata": {},
   "outputs": [
    {
     "name": "stderr",
     "output_type": "stream",
     "text": [
      "<ipython-input-30-34c2a998ee84>:1: DeprecationWarning: Call to deprecated `most_similar` (Method will be removed in 4.0.0, use self.wv.most_similar() instead).\n",
      "  model.most_similar(positive=['錦織'])\n"
     ]
    },
    {
     "data": {
      "text/plain": [
       "[('一清', 0.8772557377815247),\n",
       " ('楠田', 0.8697320222854614),\n",
       " ('倉本', 0.8696631193161011),\n",
       " ('道明', 0.8691751956939697),\n",
       " ('美佐子', 0.8638629913330078),\n",
       " ('宏治', 0.8633940815925598),\n",
       " ('ペ・ヨンジュン', 0.860668420791626),\n",
       " ('夏木', 0.8598692417144775),\n",
       " ('裕志', 0.8572939038276672),\n",
       " ('常田', 0.855694591999054)]"
      ]
     },
     "execution_count": 30,
     "metadata": {},
     "output_type": "execute_result"
    }
   ],
   "source": [
    "model.most_similar(positive=['錦織'])"
   ]
  },
  {
   "cell_type": "code",
   "execution_count": null,
   "metadata": {},
   "outputs": [],
   "source": []
  }
 ],
 "metadata": {
  "kernelspec": {
   "display_name": "Python 3",
   "language": "python",
   "name": "python3"
  },
  "language_info": {
   "codemirror_mode": {
    "name": "ipython",
    "version": 3
   },
   "file_extension": ".py",
   "mimetype": "text/x-python",
   "name": "python",
   "nbconvert_exporter": "python",
   "pygments_lexer": "ipython3",
   "version": "3.8.3"
  }
 },
 "nbformat": 4,
 "nbformat_minor": 4
}
