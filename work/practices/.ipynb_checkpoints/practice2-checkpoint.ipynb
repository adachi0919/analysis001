{
 "cells": [
  {
   "cell_type": "code",
   "execution_count": 1,
   "metadata": {},
   "outputs": [],
   "source": [
    "import logging\n",
    "import pandas as pd\n",
    "from gensim.models.word2vec import Word2Vec, Text8Corpus\n",
    "from janome.tokenizer import Tokenizer"
   ]
  },
  {
   "cell_type": "code",
   "execution_count": 2,
   "metadata": {},
   "outputs": [],
   "source": [
    "logging.basicConfig(format='%(asctime)s : %(levelname)s : %(message)s', level=logging.INFO)"
   ]
  },
  {
   "cell_type": "code",
   "execution_count": 3,
   "metadata": {},
   "outputs": [
    {
     "name": "stderr",
     "output_type": "stream",
     "text": [
      "2020-10-16 12:48:54,812 : INFO : loading Word2Vec object from models/model.bin\n",
      "2020-10-16 12:48:55,553 : INFO : loading wv recursively from models/model.bin.wv.* with mmap=None\n",
      "2020-10-16 12:48:55,555 : INFO : setting ignored attribute vectors_norm to None\n",
      "2020-10-16 12:48:55,555 : INFO : loading vocabulary recursively from models/model.bin.vocabulary.* with mmap=None\n",
      "2020-10-16 12:48:55,557 : INFO : loading trainables recursively from models/model.bin.trainables.* with mmap=None\n",
      "2020-10-16 12:48:55,558 : INFO : setting ignored attribute cum_table to None\n",
      "2020-10-16 12:48:55,560 : INFO : loaded models/model.bin\n"
     ]
    }
   ],
   "source": [
    "model = Word2Vec.load('models/model.bin')"
   ]
  },
  {
   "cell_type": "code",
   "execution_count": 4,
   "metadata": {},
   "outputs": [
    {
     "name": "stderr",
     "output_type": "stream",
     "text": [
      "<ipython-input-4-79074afe603a>:1: DeprecationWarning: Call to deprecated `most_similar` (Method will be removed in 4.0.0, use self.wv.most_similar() instead).\n",
      "  model.most_similar('猫', topn=10)\n",
      "2020-10-16 12:48:55,756 : INFO : precomputing L2-norms of word weight vectors\n"
     ]
    },
    {
     "data": {
      "text/plain": [
       "[('キツネ', 0.7332149147987366),\n",
       " ('野良猫', 0.723749577999115),\n",
       " ('金魚', 0.7220139503479004),\n",
       " ('カバ', 0.7132123708724976),\n",
       " ('小鳥', 0.6997948884963989),\n",
       " ('鼠', 0.6986833810806274),\n",
       " ('ブタ', 0.6962562799453735),\n",
       " ('ネコ', 0.6951848864555359),\n",
       " ('オオカミ', 0.6936436891555786),\n",
       " ('マタンゴ', 0.6896733641624451)]"
      ]
     },
     "execution_count": 4,
     "metadata": {},
     "output_type": "execute_result"
    }
   ],
   "source": [
    "model.most_similar('猫', topn=10)"
   ]
  },
  {
   "cell_type": "code",
   "execution_count": 5,
   "metadata": {},
   "outputs": [],
   "source": [
    "df = pd.read_csv('/work/data/BunshuOnline/news.csv')"
   ]
  },
  {
   "cell_type": "code",
   "execution_count": 6,
   "metadata": {},
   "outputs": [
    {
     "data": {
      "text/html": [
       "<div>\n",
       "<style scoped>\n",
       "    .dataframe tbody tr th:only-of-type {\n",
       "        vertical-align: middle;\n",
       "    }\n",
       "\n",
       "    .dataframe tbody tr th {\n",
       "        vertical-align: top;\n",
       "    }\n",
       "\n",
       "    .dataframe thead th {\n",
       "        text-align: right;\n",
       "    }\n",
       "</style>\n",
       "<table border=\"1\" class=\"dataframe\">\n",
       "  <thead>\n",
       "    <tr style=\"text-align: right;\">\n",
       "      <th></th>\n",
       "      <th>Unnamed: 0</th>\n",
       "      <th>ニュースNo.</th>\n",
       "      <th>title</th>\n",
       "      <th>url</th>\n",
       "      <th>news_page_list</th>\n",
       "    </tr>\n",
       "  </thead>\n",
       "  <tbody>\n",
       "    <tr>\n",
       "      <th>0</th>\n",
       "      <td>0</td>\n",
       "      <td>0</td>\n",
       "      <td>波乱はルーキーたちの走り次第？ “怪物世代”の初陣に注目 第97回箱根駅伝予選会を読む</td>\n",
       "      <td>https://bunshun.jp//articles/-/40890</td>\n",
       "      <td>「例年なら『駅伝はトラックとは別物だから、1年生は戦力としてあまり期待しすぎないほうがいい』...</td>\n",
       "    </tr>\n",
       "    <tr>\n",
       "      <th>1</th>\n",
       "      <td>1</td>\n",
       "      <td>1</td>\n",
       "      <td>スマホやタブレットじゃやっぱり不十分？ 「オンライン授業」に最適のPCとは</td>\n",
       "      <td>https://bunshun.jp//articles/-/39732</td>\n",
       "      <td>2020年は、まさにデジタル教育の歴史にとって特記されるべき重要な年となった。まずは、小学...</td>\n",
       "    </tr>\n",
       "    <tr>\n",
       "      <th>2</th>\n",
       "      <td>2</td>\n",
       "      <td>2</td>\n",
       "      <td>幼児教育「ヨコミネ式」創設者・横峯吉文氏のDVを元妻と子供が告白《法廷闘争“全面対決”へ》</td>\n",
       "      <td>https://bunshun.jp//articles/-/40817</td>\n",
       "      <td>保育園児が跳び箱10段を跳び、倒立歩行。さらに九九算も覚え、漢字を読み書きし、3年間で平均...</td>\n",
       "    </tr>\n",
       "    <tr>\n",
       "      <th>3</th>\n",
       "      <td>3</td>\n",
       "      <td>3</td>\n",
       "      <td>BTS会社社長、韓国8位の株式富豪に…「共通点はオタクなこと」J.Y.Parkが語った素顔</td>\n",
       "      <td>https://bunshun.jp//articles/-/40886</td>\n",
       "      <td>上場前から大騒ぎだった。 10月15日、「防弾少年団（BTS）」の所属事務所「Big Hi...</td>\n",
       "    </tr>\n",
       "    <tr>\n",
       "      <th>4</th>\n",
       "      <td>4</td>\n",
       "      <td>4</td>\n",
       "      <td>「レジ袋はいりません」からの流れでびっくりするほど挙動不審になった話</td>\n",
       "      <td>https://bunshun.jp//articles/-/40849</td>\n",
       "      <td>漫画家の山本さほさんが、厄介な人たちを引き寄せるトラブル続きな日々をつづります。今回は、薬...</td>\n",
       "    </tr>\n",
       "    <tr>\n",
       "      <th>5</th>\n",
       "      <td>5</td>\n",
       "      <td>5</td>\n",
       "      <td>三浦春馬さん、竹内結子さん、木村花さん…芸能人「自殺の連鎖」はなぜ起きるのか？</td>\n",
       "      <td>https://bunshun.jp//articles/-/40912</td>\n",
       "      <td>三浦春馬さんが亡くなってから3カ月が経とうとしているが、いまだに彼の自死をめぐる報道は止ま...</td>\n",
       "    </tr>\n",
       "    <tr>\n",
       "      <th>6</th>\n",
       "      <td>6</td>\n",
       "      <td>6</td>\n",
       "      <td>内部資料入手「GoToトラベル事務局」大手出向社員に日当4万円</td>\n",
       "      <td>https://bunshun.jp//articles/-/40879</td>\n",
       "      <td>10月1日から東京発着の旅行も対象に加わった政府の観光支援策「GoToトラベル事業」。その...</td>\n",
       "    </tr>\n",
       "    <tr>\n",
       "      <th>7</th>\n",
       "      <td>7</td>\n",
       "      <td>7</td>\n",
       "      <td>「お前は何アゲだ？ 何で俺だけ“たたき上げ”なんだ！」“最後の怪物幹事長”二階俊博がキレた瞬間</td>\n",
       "      <td>https://bunshun.jp//articles/-/40895</td>\n",
       "      <td>自民党幹事長の通算在職記録を更新中の二階俊博は寝業師、すなわち「政治技術の巧者」という報道...</td>\n",
       "    </tr>\n",
       "    <tr>\n",
       "      <th>8</th>\n",
       "      <td>8</td>\n",
       "      <td>8</td>\n",
       "      <td>「バラバラにした遺体を鍋で……」白石隆浩被告が証言した、おぞましい犯行の一部始終</td>\n",
       "      <td>https://bunshun.jp//articles/-/40913</td>\n",
       "      <td>「背後に回って、首を左腕で絞めた」 2017年10月に神奈川県座間市のアパートで男女9人の遺...</td>\n",
       "    </tr>\n",
       "    <tr>\n",
       "      <th>9</th>\n",
       "      <td>9</td>\n",
       "      <td>9</td>\n",
       "      <td>「長さ」ではなく…美容師が教える、髪を切るときに言うといい「意外な言葉」</td>\n",
       "      <td>https://bunshun.jp//articles/-/40694</td>\n",
       "      <td>掛け布団がだんだん心地よくなってきた、今日この頃。朝夜の急激な気温差に、薄めの上着を羽織っ...</td>\n",
       "    </tr>\n",
       "  </tbody>\n",
       "</table>\n",
       "</div>"
      ],
      "text/plain": [
       "   Unnamed: 0  ニュースNo.                                            title  \\\n",
       "0           0        0      波乱はルーキーたちの走り次第？ “怪物世代”の初陣に注目 第97回箱根駅伝予選会を読む   \n",
       "1           1        1            スマホやタブレットじゃやっぱり不十分？ 「オンライン授業」に最適のPCとは   \n",
       "2           2        2    幼児教育「ヨコミネ式」創設者・横峯吉文氏のDVを元妻と子供が告白《法廷闘争“全面対決”へ》   \n",
       "3           3        3    BTS会社社長、韓国8位の株式富豪に…「共通点はオタクなこと」J.Y.Parkが語った素顔   \n",
       "4           4        4               「レジ袋はいりません」からの流れでびっくりするほど挙動不審になった話   \n",
       "5           5        5          三浦春馬さん、竹内結子さん、木村花さん…芸能人「自殺の連鎖」はなぜ起きるのか？   \n",
       "6           6        6                  内部資料入手「GoToトラベル事務局」大手出向社員に日当4万円   \n",
       "7           7        7  「お前は何アゲだ？ 何で俺だけ“たたき上げ”なんだ！」“最後の怪物幹事長”二階俊博がキレた瞬間   \n",
       "8           8        8         「バラバラにした遺体を鍋で……」白石隆浩被告が証言した、おぞましい犯行の一部始終   \n",
       "9           9        9             「長さ」ではなく…美容師が教える、髪を切るときに言うといい「意外な言葉」   \n",
       "\n",
       "                                    url  \\\n",
       "0  https://bunshun.jp//articles/-/40890   \n",
       "1  https://bunshun.jp//articles/-/39732   \n",
       "2  https://bunshun.jp//articles/-/40817   \n",
       "3  https://bunshun.jp//articles/-/40886   \n",
       "4  https://bunshun.jp//articles/-/40849   \n",
       "5  https://bunshun.jp//articles/-/40912   \n",
       "6  https://bunshun.jp//articles/-/40879   \n",
       "7  https://bunshun.jp//articles/-/40895   \n",
       "8  https://bunshun.jp//articles/-/40913   \n",
       "9  https://bunshun.jp//articles/-/40694   \n",
       "\n",
       "                                      news_page_list  \n",
       "0  「例年なら『駅伝はトラックとは別物だから、1年生は戦力としてあまり期待しすぎないほうがいい』...  \n",
       "1   2020年は、まさにデジタル教育の歴史にとって特記されるべき重要な年となった。まずは、小学...  \n",
       "2   保育園児が跳び箱10段を跳び、倒立歩行。さらに九九算も覚え、漢字を読み書きし、3年間で平均...  \n",
       "3   上場前から大騒ぎだった。 10月15日、「防弾少年団（BTS）」の所属事務所「Big Hi...  \n",
       "4   漫画家の山本さほさんが、厄介な人たちを引き寄せるトラブル続きな日々をつづります。今回は、薬...  \n",
       "5   三浦春馬さんが亡くなってから3カ月が経とうとしているが、いまだに彼の自死をめぐる報道は止ま...  \n",
       "6   10月1日から東京発着の旅行も対象に加わった政府の観光支援策「GoToトラベル事業」。その...  \n",
       "7   自民党幹事長の通算在職記録を更新中の二階俊博は寝業師、すなわち「政治技術の巧者」という報道...  \n",
       "8  「背後に回って、首を左腕で絞めた」 2017年10月に神奈川県座間市のアパートで男女9人の遺...  \n",
       "9   掛け布団がだんだん心地よくなってきた、今日この頃。朝夜の急激な気温差に、薄めの上着を羽織っ...  "
      ]
     },
     "execution_count": 6,
     "metadata": {},
     "output_type": "execute_result"
    }
   ],
   "source": [
    "df"
   ]
  },
  {
   "cell_type": "code",
   "execution_count": 7,
   "metadata": {},
   "outputs": [],
   "source": [
    "text = ''\n",
    "for i in df.news_page_list:\n",
    "    text += i"
   ]
  },
  {
   "cell_type": "code",
   "execution_count": 8,
   "metadata": {},
   "outputs": [
    {
     "data": {
      "text/plain": [
       "'「例年なら『駅伝はトラックとは別物だから、1年生は戦力としてあまり期待しすぎないほうがいい』という話が出るんです。でも、今年はちょっと雰囲気が違いますね」 そんな風に今季の驚きを語るのは、スポーツ紙の'"
      ]
     },
     "execution_count": 8,
     "metadata": {},
     "output_type": "execute_result"
    }
   ],
   "source": [
    "text[:100]"
   ]
  },
  {
   "cell_type": "code",
   "execution_count": 9,
   "metadata": {},
   "outputs": [],
   "source": [
    "from janome.tokenizer import Tokenizer"
   ]
  },
  {
   "cell_type": "code",
   "execution_count": 10,
   "metadata": {},
   "outputs": [],
   "source": [
    "t = Tokenizer()"
   ]
  },
  {
   "cell_type": "code",
   "execution_count": 11,
   "metadata": {},
   "outputs": [],
   "source": [
    "def extract_words(text):\n",
    "    tokens = t.tokenize(text)\n",
    "    return [token.surface for token in tokens]"
   ]
  },
  {
   "cell_type": "code",
   "execution_count": 12,
   "metadata": {},
   "outputs": [],
   "source": [
    "sentences = text.split('。')"
   ]
  },
  {
   "cell_type": "code",
   "execution_count": 13,
   "metadata": {},
   "outputs": [],
   "source": [
    "word_list = [extract_words(sentence) for sentence in sentences]"
   ]
  },
  {
   "cell_type": "code",
   "execution_count": 14,
   "metadata": {},
   "outputs": [
    {
     "name": "stdout",
     "output_type": "stream",
     "text": [
      "「\n",
      "例年\n",
      "なら\n",
      "『\n",
      "駅伝\n",
      "は\n",
      "トラック\n",
      "と\n",
      "は\n",
      "別物\n",
      "だ\n",
      "から\n",
      "、\n",
      "1\n",
      "年生\n",
      "は\n",
      "戦力\n",
      "として\n",
      "あまり\n",
      "期待\n",
      "し\n",
      "すぎ\n",
      "ない\n",
      "ほう\n",
      "が\n",
      "いい\n",
      "』\n",
      "という\n",
      "話\n",
      "が\n",
      "出る\n",
      "ん\n",
      "です\n"
     ]
    }
   ],
   "source": [
    "for word in word_list[0]:\n",
    "    print(word)"
   ]
  },
  {
   "cell_type": "code",
   "execution_count": 15,
   "metadata": {},
   "outputs": [],
   "source": [
    "from gensim.models import word2vec"
   ]
  },
  {
   "cell_type": "code",
   "execution_count": 16,
   "metadata": {},
   "outputs": [],
   "source": [
    "logging.basicConfig(format='%(asctime)s : %(levelname)s : %(message)s', level=logging.INFO)"
   ]
  },
  {
   "cell_type": "code",
   "execution_count": 24,
   "metadata": {
    "collapsed": true,
    "jupyter": {
     "outputs_hidden": true
    }
   },
   "outputs": [
    {
     "name": "stderr",
     "output_type": "stream",
     "text": [
      "2020-10-16 12:50:21,405 : INFO : collecting all words and their counts\n",
      "2020-10-16 12:50:21,407 : INFO : PROGRESS: at sentence #0, processed 0 words, keeping 0 word types\n",
      "2020-10-16 12:50:21,413 : INFO : collected 3077 word types from a corpus of 15061 raw words and 534 sentences\n",
      "2020-10-16 12:50:21,416 : INFO : Loading a fresh vocabulary\n",
      "2020-10-16 12:50:21,440 : INFO : effective_min_count=1 retains 3077 unique words (100% of original 3077, drops 0)\n",
      "2020-10-16 12:50:21,442 : INFO : effective_min_count=1 leaves 15061 word corpus (100% of original 15061, drops 0)\n",
      "2020-10-16 12:50:21,476 : INFO : deleting the raw counts dictionary of 3077 items\n",
      "2020-10-16 12:50:21,478 : INFO : sample=0.001 downsamples 44 most-common words\n",
      "2020-10-16 12:50:21,480 : INFO : downsampling leaves estimated 10328 word corpus (68.6% of prior 15061)\n",
      "2020-10-16 12:50:21,498 : INFO : estimated required memory for 3077 words and 100 dimensions: 4000100 bytes\n",
      "2020-10-16 12:50:21,500 : INFO : resetting layer weights\n",
      "2020-10-16 12:50:22,645 : INFO : training model with 3 workers on 3077 vocabulary and 100 features, using sg=0 hs=0 sample=0.001 negative=5 window=5\n",
      "2020-10-16 12:50:22,653 : INFO : worker thread finished; awaiting finish of 2 more threads\n",
      "2020-10-16 12:50:22,665 : INFO : worker thread finished; awaiting finish of 1 more threads\n",
      "2020-10-16 12:50:22,670 : INFO : worker thread finished; awaiting finish of 0 more threads\n",
      "2020-10-16 12:50:22,672 : INFO : EPOCH - 1 : training on 15061 raw words (10357 effective words) took 0.0s, 540209 effective words/s\n",
      "2020-10-16 12:50:22,682 : INFO : worker thread finished; awaiting finish of 2 more threads\n",
      "2020-10-16 12:50:22,697 : INFO : worker thread finished; awaiting finish of 1 more threads\n",
      "2020-10-16 12:50:22,703 : INFO : worker thread finished; awaiting finish of 0 more threads\n",
      "2020-10-16 12:50:22,705 : INFO : EPOCH - 2 : training on 15061 raw words (10311 effective words) took 0.0s, 444422 effective words/s\n",
      "2020-10-16 12:50:22,718 : INFO : worker thread finished; awaiting finish of 2 more threads\n",
      "2020-10-16 12:50:22,737 : INFO : worker thread finished; awaiting finish of 1 more threads\n",
      "2020-10-16 12:50:22,740 : INFO : worker thread finished; awaiting finish of 0 more threads\n",
      "2020-10-16 12:50:22,743 : INFO : EPOCH - 3 : training on 15061 raw words (10367 effective words) took 0.0s, 422303 effective words/s\n",
      "2020-10-16 12:50:22,756 : INFO : worker thread finished; awaiting finish of 2 more threads\n",
      "2020-10-16 12:50:22,771 : INFO : worker thread finished; awaiting finish of 1 more threads\n",
      "2020-10-16 12:50:22,776 : INFO : worker thread finished; awaiting finish of 0 more threads\n",
      "2020-10-16 12:50:22,777 : INFO : EPOCH - 4 : training on 15061 raw words (10334 effective words) took 0.0s, 440230 effective words/s\n",
      "2020-10-16 12:50:22,789 : INFO : worker thread finished; awaiting finish of 2 more threads\n",
      "2020-10-16 12:50:22,806 : INFO : worker thread finished; awaiting finish of 1 more threads\n",
      "2020-10-16 12:50:22,809 : INFO : worker thread finished; awaiting finish of 0 more threads\n",
      "2020-10-16 12:50:22,810 : INFO : EPOCH - 5 : training on 15061 raw words (10360 effective words) took 0.0s, 497443 effective words/s\n",
      "2020-10-16 12:50:22,821 : INFO : worker thread finished; awaiting finish of 2 more threads\n",
      "2020-10-16 12:50:22,836 : INFO : worker thread finished; awaiting finish of 1 more threads\n",
      "2020-10-16 12:50:22,838 : INFO : worker thread finished; awaiting finish of 0 more threads\n",
      "2020-10-16 12:50:22,840 : INFO : EPOCH - 6 : training on 15061 raw words (10258 effective words) took 0.0s, 560571 effective words/s\n",
      "2020-10-16 12:50:22,850 : INFO : worker thread finished; awaiting finish of 2 more threads\n",
      "2020-10-16 12:50:22,866 : INFO : worker thread finished; awaiting finish of 1 more threads\n",
      "2020-10-16 12:50:22,869 : INFO : worker thread finished; awaiting finish of 0 more threads\n",
      "2020-10-16 12:50:22,871 : INFO : EPOCH - 7 : training on 15061 raw words (10318 effective words) took 0.0s, 497685 effective words/s\n",
      "2020-10-16 12:50:22,882 : INFO : worker thread finished; awaiting finish of 2 more threads\n",
      "2020-10-16 12:50:22,892 : INFO : worker thread finished; awaiting finish of 1 more threads\n",
      "2020-10-16 12:50:22,896 : INFO : worker thread finished; awaiting finish of 0 more threads\n",
      "2020-10-16 12:50:22,897 : INFO : EPOCH - 8 : training on 15061 raw words (10294 effective words) took 0.0s, 470366 effective words/s\n",
      "2020-10-16 12:50:22,907 : INFO : worker thread finished; awaiting finish of 2 more threads\n",
      "2020-10-16 12:50:22,922 : INFO : worker thread finished; awaiting finish of 1 more threads\n",
      "2020-10-16 12:50:22,926 : INFO : worker thread finished; awaiting finish of 0 more threads\n",
      "2020-10-16 12:50:22,927 : INFO : EPOCH - 9 : training on 15061 raw words (10314 effective words) took 0.0s, 519827 effective words/s\n",
      "2020-10-16 12:50:22,939 : INFO : worker thread finished; awaiting finish of 2 more threads\n",
      "2020-10-16 12:50:22,955 : INFO : worker thread finished; awaiting finish of 1 more threads\n",
      "2020-10-16 12:50:22,957 : INFO : worker thread finished; awaiting finish of 0 more threads\n",
      "2020-10-16 12:50:22,959 : INFO : EPOCH - 10 : training on 15061 raw words (10317 effective words) took 0.0s, 519863 effective words/s\n",
      "2020-10-16 12:50:22,969 : INFO : worker thread finished; awaiting finish of 2 more threads\n",
      "2020-10-16 12:50:22,985 : INFO : worker thread finished; awaiting finish of 1 more threads\n",
      "2020-10-16 12:50:22,987 : INFO : worker thread finished; awaiting finish of 0 more threads\n",
      "2020-10-16 12:50:22,988 : INFO : EPOCH - 11 : training on 15061 raw words (10321 effective words) took 0.0s, 434997 effective words/s\n",
      "2020-10-16 12:50:23,001 : INFO : worker thread finished; awaiting finish of 2 more threads\n",
      "2020-10-16 12:50:23,017 : INFO : worker thread finished; awaiting finish of 1 more threads\n",
      "2020-10-16 12:50:23,019 : INFO : worker thread finished; awaiting finish of 0 more threads\n",
      "2020-10-16 12:50:23,021 : INFO : EPOCH - 12 : training on 15061 raw words (10356 effective words) took 0.0s, 523316 effective words/s\n",
      "2020-10-16 12:50:23,038 : INFO : worker thread finished; awaiting finish of 2 more threads\n",
      "2020-10-16 12:50:23,045 : INFO : worker thread finished; awaiting finish of 1 more threads\n",
      "2020-10-16 12:50:23,059 : INFO : worker thread finished; awaiting finish of 0 more threads\n",
      "2020-10-16 12:50:23,061 : INFO : EPOCH - 13 : training on 15061 raw words (10346 effective words) took 0.0s, 438713 effective words/s\n",
      "2020-10-16 12:50:23,073 : INFO : worker thread finished; awaiting finish of 2 more threads\n",
      "2020-10-16 12:50:23,089 : INFO : worker thread finished; awaiting finish of 1 more threads\n",
      "2020-10-16 12:50:23,094 : INFO : worker thread finished; awaiting finish of 0 more threads\n",
      "2020-10-16 12:50:23,095 : INFO : EPOCH - 14 : training on 15061 raw words (10336 effective words) took 0.0s, 375385 effective words/s\n",
      "2020-10-16 12:50:23,106 : INFO : worker thread finished; awaiting finish of 2 more threads\n",
      "2020-10-16 12:50:23,123 : INFO : worker thread finished; awaiting finish of 1 more threads\n",
      "2020-10-16 12:50:23,127 : INFO : worker thread finished; awaiting finish of 0 more threads\n",
      "2020-10-16 12:50:23,129 : INFO : EPOCH - 15 : training on 15061 raw words (10328 effective words) took 0.0s, 444603 effective words/s\n",
      "2020-10-16 12:50:23,149 : INFO : worker thread finished; awaiting finish of 2 more threads\n",
      "2020-10-16 12:50:23,158 : INFO : worker thread finished; awaiting finish of 1 more threads\n",
      "2020-10-16 12:50:23,161 : INFO : worker thread finished; awaiting finish of 0 more threads\n",
      "2020-10-16 12:50:23,163 : INFO : EPOCH - 16 : training on 15061 raw words (10309 effective words) took 0.0s, 417064 effective words/s\n",
      "2020-10-16 12:50:23,174 : INFO : worker thread finished; awaiting finish of 2 more threads\n",
      "2020-10-16 12:50:23,189 : INFO : worker thread finished; awaiting finish of 1 more threads\n",
      "2020-10-16 12:50:23,193 : INFO : worker thread finished; awaiting finish of 0 more threads\n",
      "2020-10-16 12:50:23,196 : INFO : EPOCH - 17 : training on 15061 raw words (10339 effective words) took 0.0s, 453507 effective words/s\n",
      "2020-10-16 12:50:23,211 : INFO : worker thread finished; awaiting finish of 2 more threads\n",
      "2020-10-16 12:50:23,229 : INFO : worker thread finished; awaiting finish of 1 more threads\n",
      "2020-10-16 12:50:23,235 : INFO : worker thread finished; awaiting finish of 0 more threads\n",
      "2020-10-16 12:50:23,236 : INFO : EPOCH - 18 : training on 15061 raw words (10361 effective words) took 0.0s, 407970 effective words/s\n",
      "2020-10-16 12:50:23,249 : INFO : worker thread finished; awaiting finish of 2 more threads\n",
      "2020-10-16 12:50:23,272 : INFO : worker thread finished; awaiting finish of 1 more threads\n",
      "2020-10-16 12:50:23,285 : INFO : worker thread finished; awaiting finish of 0 more threads\n",
      "2020-10-16 12:50:23,289 : INFO : EPOCH - 19 : training on 15061 raw words (10302 effective words) took 0.0s, 226722 effective words/s\n",
      "2020-10-16 12:50:23,301 : INFO : worker thread finished; awaiting finish of 2 more threads\n",
      "2020-10-16 12:50:23,322 : INFO : worker thread finished; awaiting finish of 1 more threads\n",
      "2020-10-16 12:50:23,324 : INFO : worker thread finished; awaiting finish of 0 more threads\n",
      "2020-10-16 12:50:23,326 : INFO : EPOCH - 20 : training on 15061 raw words (10307 effective words) took 0.0s, 420198 effective words/s\n",
      "2020-10-16 12:50:23,339 : INFO : worker thread finished; awaiting finish of 2 more threads\n",
      "2020-10-16 12:50:23,356 : INFO : worker thread finished; awaiting finish of 1 more threads\n",
      "2020-10-16 12:50:23,361 : INFO : worker thread finished; awaiting finish of 0 more threads\n",
      "2020-10-16 12:50:23,364 : INFO : EPOCH - 21 : training on 15061 raw words (10324 effective words) took 0.0s, 421882 effective words/s\n",
      "2020-10-16 12:50:23,374 : INFO : worker thread finished; awaiting finish of 2 more threads\n",
      "2020-10-16 12:50:23,390 : INFO : worker thread finished; awaiting finish of 1 more threads\n",
      "2020-10-16 12:50:23,392 : INFO : worker thread finished; awaiting finish of 0 more threads\n",
      "2020-10-16 12:50:23,393 : INFO : EPOCH - 22 : training on 15061 raw words (10316 effective words) took 0.0s, 531651 effective words/s\n",
      "2020-10-16 12:50:23,404 : INFO : worker thread finished; awaiting finish of 2 more threads\n",
      "2020-10-16 12:50:23,420 : INFO : worker thread finished; awaiting finish of 1 more threads\n",
      "2020-10-16 12:50:23,422 : INFO : worker thread finished; awaiting finish of 0 more threads\n",
      "2020-10-16 12:50:23,425 : INFO : EPOCH - 23 : training on 15061 raw words (10309 effective words) took 0.0s, 499039 effective words/s\n",
      "2020-10-16 12:50:23,446 : INFO : worker thread finished; awaiting finish of 2 more threads\n",
      "2020-10-16 12:50:23,454 : INFO : worker thread finished; awaiting finish of 1 more threads\n",
      "2020-10-16 12:50:23,459 : INFO : worker thread finished; awaiting finish of 0 more threads\n",
      "2020-10-16 12:50:23,460 : INFO : EPOCH - 24 : training on 15061 raw words (10347 effective words) took 0.0s, 518504 effective words/s\n",
      "2020-10-16 12:50:23,469 : INFO : worker thread finished; awaiting finish of 2 more threads\n",
      "2020-10-16 12:50:23,485 : INFO : worker thread finished; awaiting finish of 1 more threads\n",
      "2020-10-16 12:50:23,487 : INFO : worker thread finished; awaiting finish of 0 more threads\n",
      "2020-10-16 12:50:23,490 : INFO : EPOCH - 25 : training on 15061 raw words (10356 effective words) took 0.0s, 430170 effective words/s\n",
      "2020-10-16 12:50:23,507 : INFO : worker thread finished; awaiting finish of 2 more threads\n",
      "2020-10-16 12:50:23,512 : INFO : worker thread finished; awaiting finish of 1 more threads\n",
      "2020-10-16 12:50:23,521 : INFO : worker thread finished; awaiting finish of 0 more threads\n",
      "2020-10-16 12:50:23,522 : INFO : EPOCH - 26 : training on 15061 raw words (10275 effective words) took 0.0s, 382506 effective words/s\n",
      "2020-10-16 12:50:23,536 : INFO : worker thread finished; awaiting finish of 2 more threads\n",
      "2020-10-16 12:50:23,556 : INFO : worker thread finished; awaiting finish of 1 more threads\n",
      "2020-10-16 12:50:23,558 : INFO : worker thread finished; awaiting finish of 0 more threads\n",
      "2020-10-16 12:50:23,560 : INFO : EPOCH - 27 : training on 15061 raw words (10291 effective words) took 0.0s, 424226 effective words/s\n",
      "2020-10-16 12:50:23,575 : INFO : worker thread finished; awaiting finish of 2 more threads\n",
      "2020-10-16 12:50:23,592 : INFO : worker thread finished; awaiting finish of 1 more threads\n",
      "2020-10-16 12:50:23,594 : INFO : worker thread finished; awaiting finish of 0 more threads\n",
      "2020-10-16 12:50:23,597 : INFO : EPOCH - 28 : training on 15061 raw words (10350 effective words) took 0.0s, 395479 effective words/s\n",
      "2020-10-16 12:50:23,619 : INFO : worker thread finished; awaiting finish of 2 more threads\n",
      "2020-10-16 12:50:23,629 : INFO : worker thread finished; awaiting finish of 1 more threads\n",
      "2020-10-16 12:50:23,634 : INFO : worker thread finished; awaiting finish of 0 more threads\n",
      "2020-10-16 12:50:23,636 : INFO : EPOCH - 29 : training on 15061 raw words (10261 effective words) took 0.0s, 583917 effective words/s\n",
      "2020-10-16 12:50:23,654 : INFO : worker thread finished; awaiting finish of 2 more threads\n",
      "2020-10-16 12:50:23,668 : INFO : worker thread finished; awaiting finish of 1 more threads\n",
      "2020-10-16 12:50:23,671 : INFO : worker thread finished; awaiting finish of 0 more threads\n",
      "2020-10-16 12:50:23,673 : INFO : EPOCH - 30 : training on 15061 raw words (10344 effective words) took 0.0s, 360017 effective words/s\n",
      "2020-10-16 12:50:23,691 : INFO : worker thread finished; awaiting finish of 2 more threads\n",
      "2020-10-16 12:50:23,701 : INFO : worker thread finished; awaiting finish of 1 more threads\n",
      "2020-10-16 12:50:23,706 : INFO : worker thread finished; awaiting finish of 0 more threads\n",
      "2020-10-16 12:50:23,708 : INFO : EPOCH - 31 : training on 15061 raw words (10291 effective words) took 0.0s, 367098 effective words/s\n",
      "2020-10-16 12:50:23,720 : INFO : worker thread finished; awaiting finish of 2 more threads\n",
      "2020-10-16 12:50:23,737 : INFO : worker thread finished; awaiting finish of 1 more threads\n",
      "2020-10-16 12:50:23,740 : INFO : worker thread finished; awaiting finish of 0 more threads\n",
      "2020-10-16 12:50:23,740 : INFO : EPOCH - 32 : training on 15061 raw words (10319 effective words) took 0.0s, 507842 effective words/s\n",
      "2020-10-16 12:50:23,752 : INFO : worker thread finished; awaiting finish of 2 more threads\n",
      "2020-10-16 12:50:23,767 : INFO : worker thread finished; awaiting finish of 1 more threads\n",
      "2020-10-16 12:50:23,770 : INFO : worker thread finished; awaiting finish of 0 more threads\n",
      "2020-10-16 12:50:23,772 : INFO : EPOCH - 33 : training on 15061 raw words (10391 effective words) took 0.0s, 508361 effective words/s\n",
      "2020-10-16 12:50:23,785 : INFO : worker thread finished; awaiting finish of 2 more threads\n",
      "2020-10-16 12:50:23,793 : INFO : worker thread finished; awaiting finish of 1 more threads\n",
      "2020-10-16 12:50:23,797 : INFO : worker thread finished; awaiting finish of 0 more threads\n",
      "2020-10-16 12:50:23,798 : INFO : EPOCH - 34 : training on 15061 raw words (10250 effective words) took 0.0s, 780132 effective words/s\n",
      "2020-10-16 12:50:23,810 : INFO : worker thread finished; awaiting finish of 2 more threads\n",
      "2020-10-16 12:50:23,825 : INFO : worker thread finished; awaiting finish of 1 more threads\n",
      "2020-10-16 12:50:23,827 : INFO : worker thread finished; awaiting finish of 0 more threads\n",
      "2020-10-16 12:50:23,828 : INFO : EPOCH - 35 : training on 15061 raw words (10344 effective words) took 0.0s, 556075 effective words/s\n",
      "2020-10-16 12:50:23,845 : INFO : worker thread finished; awaiting finish of 2 more threads\n",
      "2020-10-16 12:50:23,852 : INFO : worker thread finished; awaiting finish of 1 more threads\n",
      "2020-10-16 12:50:23,855 : INFO : worker thread finished; awaiting finish of 0 more threads\n",
      "2020-10-16 12:50:23,856 : INFO : EPOCH - 36 : training on 15061 raw words (10335 effective words) took 0.0s, 906937 effective words/s\n",
      "2020-10-16 12:50:23,870 : INFO : worker thread finished; awaiting finish of 2 more threads\n",
      "2020-10-16 12:50:23,876 : INFO : worker thread finished; awaiting finish of 1 more threads\n",
      "2020-10-16 12:50:23,883 : INFO : worker thread finished; awaiting finish of 0 more threads\n",
      "2020-10-16 12:50:23,884 : INFO : EPOCH - 37 : training on 15061 raw words (10291 effective words) took 0.0s, 729269 effective words/s\n",
      "2020-10-16 12:50:23,894 : INFO : worker thread finished; awaiting finish of 2 more threads\n",
      "2020-10-16 12:50:23,911 : INFO : worker thread finished; awaiting finish of 1 more threads\n",
      "2020-10-16 12:50:23,912 : INFO : worker thread finished; awaiting finish of 0 more threads\n",
      "2020-10-16 12:50:23,915 : INFO : EPOCH - 38 : training on 15061 raw words (10339 effective words) took 0.0s, 479483 effective words/s\n",
      "2020-10-16 12:50:23,930 : INFO : worker thread finished; awaiting finish of 2 more threads\n",
      "2020-10-16 12:50:23,944 : INFO : worker thread finished; awaiting finish of 1 more threads\n",
      "2020-10-16 12:50:23,946 : INFO : worker thread finished; awaiting finish of 0 more threads\n",
      "2020-10-16 12:50:23,948 : INFO : EPOCH - 39 : training on 15061 raw words (10215 effective words) took 0.0s, 409307 effective words/s\n",
      "2020-10-16 12:50:23,964 : INFO : worker thread finished; awaiting finish of 2 more threads\n",
      "2020-10-16 12:50:23,972 : INFO : worker thread finished; awaiting finish of 1 more threads\n",
      "2020-10-16 12:50:23,975 : INFO : worker thread finished; awaiting finish of 0 more threads\n",
      "2020-10-16 12:50:23,977 : INFO : EPOCH - 40 : training on 15061 raw words (10404 effective words) took 0.0s, 813976 effective words/s\n",
      "2020-10-16 12:50:23,988 : INFO : worker thread finished; awaiting finish of 2 more threads\n",
      "2020-10-16 12:50:24,005 : INFO : worker thread finished; awaiting finish of 1 more threads\n",
      "2020-10-16 12:50:24,012 : INFO : worker thread finished; awaiting finish of 0 more threads\n",
      "2020-10-16 12:50:24,013 : INFO : EPOCH - 41 : training on 15061 raw words (10309 effective words) took 0.0s, 400583 effective words/s\n",
      "2020-10-16 12:50:24,026 : INFO : worker thread finished; awaiting finish of 2 more threads\n",
      "2020-10-16 12:50:24,040 : INFO : worker thread finished; awaiting finish of 1 more threads\n",
      "2020-10-16 12:50:24,049 : INFO : worker thread finished; awaiting finish of 0 more threads\n",
      "2020-10-16 12:50:24,050 : INFO : EPOCH - 42 : training on 15061 raw words (10324 effective words) took 0.0s, 414184 effective words/s\n",
      "2020-10-16 12:50:24,063 : INFO : worker thread finished; awaiting finish of 2 more threads\n",
      "2020-10-16 12:50:24,081 : INFO : worker thread finished; awaiting finish of 1 more threads\n",
      "2020-10-16 12:50:24,088 : INFO : worker thread finished; awaiting finish of 0 more threads\n",
      "2020-10-16 12:50:24,089 : INFO : EPOCH - 43 : training on 15061 raw words (10377 effective words) took 0.0s, 388885 effective words/s\n",
      "2020-10-16 12:50:24,105 : INFO : worker thread finished; awaiting finish of 2 more threads\n",
      "2020-10-16 12:50:24,121 : INFO : worker thread finished; awaiting finish of 1 more threads\n",
      "2020-10-16 12:50:24,129 : INFO : worker thread finished; awaiting finish of 0 more threads\n",
      "2020-10-16 12:50:24,132 : INFO : EPOCH - 44 : training on 15061 raw words (10290 effective words) took 0.0s, 345123 effective words/s\n",
      "2020-10-16 12:50:24,151 : INFO : worker thread finished; awaiting finish of 2 more threads\n",
      "2020-10-16 12:50:24,171 : INFO : worker thread finished; awaiting finish of 1 more threads\n",
      "2020-10-16 12:50:24,177 : INFO : worker thread finished; awaiting finish of 0 more threads\n",
      "2020-10-16 12:50:24,179 : INFO : EPOCH - 45 : training on 15061 raw words (10362 effective words) took 0.0s, 281636 effective words/s\n",
      "2020-10-16 12:50:24,193 : INFO : worker thread finished; awaiting finish of 2 more threads\n",
      "2020-10-16 12:50:24,205 : INFO : worker thread finished; awaiting finish of 1 more threads\n",
      "2020-10-16 12:50:24,207 : INFO : worker thread finished; awaiting finish of 0 more threads\n",
      "2020-10-16 12:50:24,209 : INFO : EPOCH - 46 : training on 15061 raw words (10331 effective words) took 0.0s, 525716 effective words/s\n",
      "2020-10-16 12:50:24,230 : INFO : worker thread finished; awaiting finish of 2 more threads\n",
      "2020-10-16 12:50:24,237 : INFO : worker thread finished; awaiting finish of 1 more threads\n",
      "2020-10-16 12:50:24,247 : INFO : worker thread finished; awaiting finish of 0 more threads\n",
      "2020-10-16 12:50:24,248 : INFO : EPOCH - 47 : training on 15061 raw words (10344 effective words) took 0.0s, 333180 effective words/s\n",
      "2020-10-16 12:50:24,260 : INFO : worker thread finished; awaiting finish of 2 more threads\n",
      "2020-10-16 12:50:24,280 : INFO : worker thread finished; awaiting finish of 1 more threads\n",
      "2020-10-16 12:50:24,282 : INFO : worker thread finished; awaiting finish of 0 more threads\n",
      "2020-10-16 12:50:24,284 : INFO : EPOCH - 48 : training on 15061 raw words (10350 effective words) took 0.0s, 419759 effective words/s\n",
      "2020-10-16 12:50:24,299 : INFO : worker thread finished; awaiting finish of 2 more threads\n",
      "2020-10-16 12:50:24,312 : INFO : worker thread finished; awaiting finish of 1 more threads\n",
      "2020-10-16 12:50:24,319 : INFO : worker thread finished; awaiting finish of 0 more threads\n",
      "2020-10-16 12:50:24,320 : INFO : EPOCH - 49 : training on 15061 raw words (10263 effective words) took 0.0s, 374759 effective words/s\n",
      "2020-10-16 12:50:24,337 : INFO : worker thread finished; awaiting finish of 2 more threads\n",
      "2020-10-16 12:50:24,345 : INFO : worker thread finished; awaiting finish of 1 more threads\n",
      "2020-10-16 12:50:24,353 : INFO : worker thread finished; awaiting finish of 0 more threads\n",
      "2020-10-16 12:50:24,357 : INFO : EPOCH - 50 : training on 15061 raw words (10325 effective words) took 0.0s, 354450 effective words/s\n",
      "2020-10-16 12:50:24,372 : INFO : worker thread finished; awaiting finish of 2 more threads\n",
      "2020-10-16 12:50:24,388 : INFO : worker thread finished; awaiting finish of 1 more threads\n",
      "2020-10-16 12:50:24,392 : INFO : worker thread finished; awaiting finish of 0 more threads\n",
      "2020-10-16 12:50:24,395 : INFO : EPOCH - 51 : training on 15061 raw words (10322 effective words) took 0.0s, 441974 effective words/s\n",
      "2020-10-16 12:50:24,412 : INFO : worker thread finished; awaiting finish of 2 more threads\n",
      "2020-10-16 12:50:24,419 : INFO : worker thread finished; awaiting finish of 1 more threads\n",
      "2020-10-16 12:50:24,422 : INFO : worker thread finished; awaiting finish of 0 more threads\n",
      "2020-10-16 12:50:24,424 : INFO : EPOCH - 52 : training on 15061 raw words (10322 effective words) took 0.0s, 819805 effective words/s\n",
      "2020-10-16 12:50:24,445 : INFO : worker thread finished; awaiting finish of 2 more threads\n",
      "2020-10-16 12:50:24,450 : INFO : worker thread finished; awaiting finish of 1 more threads\n",
      "2020-10-16 12:50:24,469 : INFO : worker thread finished; awaiting finish of 0 more threads\n",
      "2020-10-16 12:50:24,470 : INFO : EPOCH - 53 : training on 15061 raw words (10255 effective words) took 0.0s, 353892 effective words/s\n",
      "2020-10-16 12:50:24,490 : INFO : worker thread finished; awaiting finish of 2 more threads\n",
      "2020-10-16 12:50:24,499 : INFO : worker thread finished; awaiting finish of 1 more threads\n",
      "2020-10-16 12:50:24,508 : INFO : worker thread finished; awaiting finish of 0 more threads\n",
      "2020-10-16 12:50:24,509 : INFO : EPOCH - 54 : training on 15061 raw words (10348 effective words) took 0.0s, 521875 effective words/s\n",
      "2020-10-16 12:50:24,518 : INFO : worker thread finished; awaiting finish of 2 more threads\n",
      "2020-10-16 12:50:24,534 : INFO : worker thread finished; awaiting finish of 1 more threads\n",
      "2020-10-16 12:50:24,541 : INFO : worker thread finished; awaiting finish of 0 more threads\n",
      "2020-10-16 12:50:24,542 : INFO : EPOCH - 55 : training on 15061 raw words (10318 effective words) took 0.0s, 433774 effective words/s\n",
      "2020-10-16 12:50:24,551 : INFO : worker thread finished; awaiting finish of 2 more threads\n",
      "2020-10-16 12:50:24,568 : INFO : worker thread finished; awaiting finish of 1 more threads\n",
      "2020-10-16 12:50:24,571 : INFO : worker thread finished; awaiting finish of 0 more threads\n",
      "2020-10-16 12:50:24,573 : INFO : EPOCH - 56 : training on 15061 raw words (10335 effective words) took 0.0s, 472503 effective words/s\n",
      "2020-10-16 12:50:24,588 : INFO : worker thread finished; awaiting finish of 2 more threads\n",
      "2020-10-16 12:50:24,602 : INFO : worker thread finished; awaiting finish of 1 more threads\n",
      "2020-10-16 12:50:24,605 : INFO : worker thread finished; awaiting finish of 0 more threads\n",
      "2020-10-16 12:50:24,606 : INFO : EPOCH - 57 : training on 15061 raw words (10370 effective words) took 0.0s, 412185 effective words/s\n",
      "2020-10-16 12:50:24,615 : INFO : worker thread finished; awaiting finish of 2 more threads\n",
      "2020-10-16 12:50:24,632 : INFO : worker thread finished; awaiting finish of 1 more threads\n",
      "2020-10-16 12:50:24,635 : INFO : worker thread finished; awaiting finish of 0 more threads\n",
      "2020-10-16 12:50:24,637 : INFO : EPOCH - 58 : training on 15061 raw words (10317 effective words) took 0.0s, 387910 effective words/s\n",
      "2020-10-16 12:50:24,645 : INFO : worker thread finished; awaiting finish of 2 more threads\n",
      "2020-10-16 12:50:24,656 : INFO : worker thread finished; awaiting finish of 1 more threads\n",
      "2020-10-16 12:50:24,660 : INFO : worker thread finished; awaiting finish of 0 more threads\n",
      "2020-10-16 12:50:24,661 : INFO : EPOCH - 59 : training on 15061 raw words (10301 effective words) took 0.0s, 659175 effective words/s\n",
      "2020-10-16 12:50:24,670 : INFO : worker thread finished; awaiting finish of 2 more threads\n",
      "2020-10-16 12:50:24,681 : INFO : worker thread finished; awaiting finish of 1 more threads\n",
      "2020-10-16 12:50:24,685 : INFO : worker thread finished; awaiting finish of 0 more threads\n",
      "2020-10-16 12:50:24,686 : INFO : EPOCH - 60 : training on 15061 raw words (10353 effective words) took 0.0s, 646061 effective words/s\n",
      "2020-10-16 12:50:24,698 : INFO : worker thread finished; awaiting finish of 2 more threads\n",
      "2020-10-16 12:50:24,703 : INFO : worker thread finished; awaiting finish of 1 more threads\n",
      "2020-10-16 12:50:24,708 : INFO : worker thread finished; awaiting finish of 0 more threads\n",
      "2020-10-16 12:50:24,709 : INFO : EPOCH - 61 : training on 15061 raw words (10357 effective words) took 0.0s, 884088 effective words/s\n",
      "2020-10-16 12:50:24,721 : INFO : worker thread finished; awaiting finish of 2 more threads\n",
      "2020-10-16 12:50:24,726 : INFO : worker thread finished; awaiting finish of 1 more threads\n",
      "2020-10-16 12:50:24,728 : INFO : worker thread finished; awaiting finish of 0 more threads\n",
      "2020-10-16 12:50:24,731 : INFO : EPOCH - 62 : training on 15061 raw words (10329 effective words) took 0.0s, 960042 effective words/s\n",
      "2020-10-16 12:50:24,742 : INFO : worker thread finished; awaiting finish of 2 more threads\n",
      "2020-10-16 12:50:24,750 : INFO : worker thread finished; awaiting finish of 1 more threads\n",
      "2020-10-16 12:50:24,754 : INFO : worker thread finished; awaiting finish of 0 more threads\n",
      "2020-10-16 12:50:24,755 : INFO : EPOCH - 63 : training on 15061 raw words (10360 effective words) took 0.0s, 565188 effective words/s\n",
      "2020-10-16 12:50:24,762 : INFO : worker thread finished; awaiting finish of 2 more threads\n",
      "2020-10-16 12:50:24,774 : INFO : worker thread finished; awaiting finish of 1 more threads\n",
      "2020-10-16 12:50:24,775 : INFO : worker thread finished; awaiting finish of 0 more threads\n",
      "2020-10-16 12:50:24,776 : INFO : EPOCH - 64 : training on 15061 raw words (10390 effective words) took 0.0s, 588915 effective words/s\n",
      "2020-10-16 12:50:24,784 : INFO : worker thread finished; awaiting finish of 2 more threads\n",
      "2020-10-16 12:50:24,795 : INFO : worker thread finished; awaiting finish of 1 more threads\n",
      "2020-10-16 12:50:24,797 : INFO : worker thread finished; awaiting finish of 0 more threads\n",
      "2020-10-16 12:50:24,798 : INFO : EPOCH - 65 : training on 15061 raw words (10335 effective words) took 0.0s, 594543 effective words/s\n",
      "2020-10-16 12:50:24,807 : INFO : worker thread finished; awaiting finish of 2 more threads\n",
      "2020-10-16 12:50:24,819 : INFO : worker thread finished; awaiting finish of 1 more threads\n",
      "2020-10-16 12:50:24,820 : INFO : worker thread finished; awaiting finish of 0 more threads\n",
      "2020-10-16 12:50:24,822 : INFO : EPOCH - 66 : training on 15061 raw words (10340 effective words) took 0.0s, 701050 effective words/s\n",
      "2020-10-16 12:50:24,829 : INFO : worker thread finished; awaiting finish of 2 more threads\n",
      "2020-10-16 12:50:24,842 : INFO : worker thread finished; awaiting finish of 1 more threads\n",
      "2020-10-16 12:50:24,846 : INFO : worker thread finished; awaiting finish of 0 more threads\n",
      "2020-10-16 12:50:24,847 : INFO : EPOCH - 67 : training on 15061 raw words (10373 effective words) took 0.0s, 568483 effective words/s\n",
      "2020-10-16 12:50:24,855 : INFO : worker thread finished; awaiting finish of 2 more threads\n",
      "2020-10-16 12:50:24,866 : INFO : worker thread finished; awaiting finish of 1 more threads\n",
      "2020-10-16 12:50:24,871 : INFO : worker thread finished; awaiting finish of 0 more threads\n",
      "2020-10-16 12:50:24,872 : INFO : EPOCH - 68 : training on 15061 raw words (10339 effective words) took 0.0s, 634158 effective words/s\n",
      "2020-10-16 12:50:24,885 : INFO : worker thread finished; awaiting finish of 2 more threads\n",
      "2020-10-16 12:50:24,892 : INFO : worker thread finished; awaiting finish of 1 more threads\n",
      "2020-10-16 12:50:24,894 : INFO : worker thread finished; awaiting finish of 0 more threads\n",
      "2020-10-16 12:50:24,895 : INFO : EPOCH - 69 : training on 15061 raw words (10311 effective words) took 0.0s, 990671 effective words/s\n",
      "2020-10-16 12:50:24,904 : INFO : worker thread finished; awaiting finish of 2 more threads\n",
      "2020-10-16 12:50:24,923 : INFO : worker thread finished; awaiting finish of 1 more threads\n",
      "2020-10-16 12:50:24,928 : INFO : worker thread finished; awaiting finish of 0 more threads\n",
      "2020-10-16 12:50:24,930 : INFO : EPOCH - 70 : training on 15061 raw words (10289 effective words) took 0.0s, 402806 effective words/s\n",
      "2020-10-16 12:50:24,944 : INFO : worker thread finished; awaiting finish of 2 more threads\n",
      "2020-10-16 12:50:24,957 : INFO : worker thread finished; awaiting finish of 1 more threads\n",
      "2020-10-16 12:50:24,959 : INFO : worker thread finished; awaiting finish of 0 more threads\n",
      "2020-10-16 12:50:24,960 : INFO : EPOCH - 71 : training on 15061 raw words (10326 effective words) took 0.0s, 636637 effective words/s\n",
      "2020-10-16 12:50:24,970 : INFO : worker thread finished; awaiting finish of 2 more threads\n",
      "2020-10-16 12:50:24,981 : INFO : worker thread finished; awaiting finish of 1 more threads\n",
      "2020-10-16 12:50:24,983 : INFO : worker thread finished; awaiting finish of 0 more threads\n",
      "2020-10-16 12:50:24,984 : INFO : EPOCH - 72 : training on 15061 raw words (10288 effective words) took 0.0s, 712678 effective words/s\n",
      "2020-10-16 12:50:24,996 : INFO : worker thread finished; awaiting finish of 2 more threads\n",
      "2020-10-16 12:50:25,001 : INFO : worker thread finished; awaiting finish of 1 more threads\n",
      "2020-10-16 12:50:25,004 : INFO : worker thread finished; awaiting finish of 0 more threads\n",
      "2020-10-16 12:50:25,005 : INFO : EPOCH - 73 : training on 15061 raw words (10293 effective words) took 0.0s, 1058025 effective words/s\n",
      "2020-10-16 12:50:25,013 : INFO : worker thread finished; awaiting finish of 2 more threads\n",
      "2020-10-16 12:50:25,025 : INFO : worker thread finished; awaiting finish of 1 more threads\n",
      "2020-10-16 12:50:25,027 : INFO : worker thread finished; awaiting finish of 0 more threads\n",
      "2020-10-16 12:50:25,029 : INFO : EPOCH - 74 : training on 15061 raw words (10409 effective words) took 0.0s, 558441 effective words/s\n",
      "2020-10-16 12:50:25,037 : INFO : worker thread finished; awaiting finish of 2 more threads\n",
      "2020-10-16 12:50:25,048 : INFO : worker thread finished; awaiting finish of 1 more threads\n",
      "2020-10-16 12:50:25,053 : INFO : worker thread finished; awaiting finish of 0 more threads\n",
      "2020-10-16 12:50:25,054 : INFO : EPOCH - 75 : training on 15061 raw words (10343 effective words) took 0.0s, 605321 effective words/s\n",
      "2020-10-16 12:50:25,061 : INFO : worker thread finished; awaiting finish of 2 more threads\n",
      "2020-10-16 12:50:25,073 : INFO : worker thread finished; awaiting finish of 1 more threads\n",
      "2020-10-16 12:50:25,075 : INFO : worker thread finished; awaiting finish of 0 more threads\n",
      "2020-10-16 12:50:25,077 : INFO : EPOCH - 76 : training on 15061 raw words (10368 effective words) took 0.0s, 661123 effective words/s\n",
      "2020-10-16 12:50:25,084 : INFO : worker thread finished; awaiting finish of 2 more threads\n",
      "2020-10-16 12:50:25,094 : INFO : worker thread finished; awaiting finish of 1 more threads\n",
      "2020-10-16 12:50:25,096 : INFO : worker thread finished; awaiting finish of 0 more threads\n",
      "2020-10-16 12:50:25,097 : INFO : EPOCH - 77 : training on 15061 raw words (10288 effective words) took 0.0s, 775967 effective words/s\n",
      "2020-10-16 12:50:25,104 : INFO : worker thread finished; awaiting finish of 2 more threads\n",
      "2020-10-16 12:50:25,115 : INFO : worker thread finished; awaiting finish of 1 more threads\n",
      "2020-10-16 12:50:25,119 : INFO : worker thread finished; awaiting finish of 0 more threads\n",
      "2020-10-16 12:50:25,120 : INFO : EPOCH - 78 : training on 15061 raw words (10376 effective words) took 0.0s, 675868 effective words/s\n",
      "2020-10-16 12:50:25,126 : INFO : worker thread finished; awaiting finish of 2 more threads\n",
      "2020-10-16 12:50:25,139 : INFO : worker thread finished; awaiting finish of 1 more threads\n",
      "2020-10-16 12:50:25,141 : INFO : worker thread finished; awaiting finish of 0 more threads\n",
      "2020-10-16 12:50:25,142 : INFO : EPOCH - 79 : training on 15061 raw words (10321 effective words) took 0.0s, 555526 effective words/s\n",
      "2020-10-16 12:50:25,151 : INFO : worker thread finished; awaiting finish of 2 more threads\n",
      "2020-10-16 12:50:25,161 : INFO : worker thread finished; awaiting finish of 1 more threads\n",
      "2020-10-16 12:50:25,163 : INFO : worker thread finished; awaiting finish of 0 more threads\n",
      "2020-10-16 12:50:25,164 : INFO : EPOCH - 80 : training on 15061 raw words (10343 effective words) took 0.0s, 610772 effective words/s\n",
      "2020-10-16 12:50:25,173 : INFO : worker thread finished; awaiting finish of 2 more threads\n",
      "2020-10-16 12:50:25,184 : INFO : worker thread finished; awaiting finish of 1 more threads\n",
      "2020-10-16 12:50:25,186 : INFO : worker thread finished; awaiting finish of 0 more threads\n",
      "2020-10-16 12:50:25,187 : INFO : EPOCH - 81 : training on 15061 raw words (10346 effective words) took 0.0s, 719857 effective words/s\n",
      "2020-10-16 12:50:25,194 : INFO : worker thread finished; awaiting finish of 2 more threads\n",
      "2020-10-16 12:50:25,205 : INFO : worker thread finished; awaiting finish of 1 more threads\n",
      "2020-10-16 12:50:25,207 : INFO : worker thread finished; awaiting finish of 0 more threads\n",
      "2020-10-16 12:50:25,208 : INFO : EPOCH - 82 : training on 15061 raw words (10315 effective words) took 0.0s, 712136 effective words/s\n",
      "2020-10-16 12:50:25,216 : INFO : worker thread finished; awaiting finish of 2 more threads\n",
      "2020-10-16 12:50:25,227 : INFO : worker thread finished; awaiting finish of 1 more threads\n",
      "2020-10-16 12:50:25,229 : INFO : worker thread finished; awaiting finish of 0 more threads\n",
      "2020-10-16 12:50:25,231 : INFO : EPOCH - 83 : training on 15061 raw words (10310 effective words) took 0.0s, 663535 effective words/s\n",
      "2020-10-16 12:50:25,243 : INFO : worker thread finished; awaiting finish of 2 more threads\n",
      "2020-10-16 12:50:25,248 : INFO : worker thread finished; awaiting finish of 1 more threads\n",
      "2020-10-16 12:50:25,251 : INFO : worker thread finished; awaiting finish of 0 more threads\n",
      "2020-10-16 12:50:25,252 : INFO : EPOCH - 84 : training on 15061 raw words (10409 effective words) took 0.0s, 1160152 effective words/s\n",
      "2020-10-16 12:50:25,263 : INFO : worker thread finished; awaiting finish of 2 more threads\n",
      "2020-10-16 12:50:25,268 : INFO : worker thread finished; awaiting finish of 1 more threads\n",
      "2020-10-16 12:50:25,274 : INFO : worker thread finished; awaiting finish of 0 more threads\n",
      "2020-10-16 12:50:25,275 : INFO : EPOCH - 85 : training on 15061 raw words (10354 effective words) took 0.0s, 687955 effective words/s\n",
      "2020-10-16 12:50:25,285 : INFO : worker thread finished; awaiting finish of 2 more threads\n",
      "2020-10-16 12:50:25,292 : INFO : worker thread finished; awaiting finish of 1 more threads\n",
      "2020-10-16 12:50:25,294 : INFO : worker thread finished; awaiting finish of 0 more threads\n",
      "2020-10-16 12:50:25,295 : INFO : EPOCH - 86 : training on 15061 raw words (10305 effective words) took 0.0s, 944209 effective words/s\n",
      "2020-10-16 12:50:25,308 : INFO : worker thread finished; awaiting finish of 2 more threads\n",
      "2020-10-16 12:50:25,314 : INFO : worker thread finished; awaiting finish of 1 more threads\n",
      "2020-10-16 12:50:25,321 : INFO : worker thread finished; awaiting finish of 0 more threads\n",
      "2020-10-16 12:50:25,323 : INFO : EPOCH - 87 : training on 15061 raw words (10311 effective words) took 0.0s, 708056 effective words/s\n",
      "2020-10-16 12:50:25,332 : INFO : worker thread finished; awaiting finish of 2 more threads\n",
      "2020-10-16 12:50:25,340 : INFO : worker thread finished; awaiting finish of 1 more threads\n",
      "2020-10-16 12:50:25,343 : INFO : worker thread finished; awaiting finish of 0 more threads\n",
      "2020-10-16 12:50:25,344 : INFO : EPOCH - 88 : training on 15061 raw words (10310 effective words) took 0.0s, 589342 effective words/s\n",
      "2020-10-16 12:50:25,355 : INFO : worker thread finished; awaiting finish of 2 more threads\n",
      "2020-10-16 12:50:25,362 : INFO : worker thread finished; awaiting finish of 1 more threads\n",
      "2020-10-16 12:50:25,366 : INFO : worker thread finished; awaiting finish of 0 more threads\n",
      "2020-10-16 12:50:25,367 : INFO : EPOCH - 89 : training on 15061 raw words (10358 effective words) took 0.0s, 558744 effective words/s\n",
      "2020-10-16 12:50:25,375 : INFO : worker thread finished; awaiting finish of 2 more threads\n",
      "2020-10-16 12:50:25,387 : INFO : worker thread finished; awaiting finish of 1 more threads\n",
      "2020-10-16 12:50:25,388 : INFO : worker thread finished; awaiting finish of 0 more threads\n",
      "2020-10-16 12:50:25,389 : INFO : EPOCH - 90 : training on 15061 raw words (10360 effective words) took 0.0s, 600949 effective words/s\n",
      "2020-10-16 12:50:25,397 : INFO : worker thread finished; awaiting finish of 2 more threads\n",
      "2020-10-16 12:50:25,410 : INFO : worker thread finished; awaiting finish of 1 more threads\n",
      "2020-10-16 12:50:25,411 : INFO : worker thread finished; awaiting finish of 0 more threads\n",
      "2020-10-16 12:50:25,412 : INFO : EPOCH - 91 : training on 15061 raw words (10329 effective words) took 0.0s, 586192 effective words/s\n",
      "2020-10-16 12:50:25,423 : INFO : worker thread finished; awaiting finish of 2 more threads\n",
      "2020-10-16 12:50:25,433 : INFO : worker thread finished; awaiting finish of 1 more threads\n",
      "2020-10-16 12:50:25,437 : INFO : worker thread finished; awaiting finish of 0 more threads\n",
      "2020-10-16 12:50:25,438 : INFO : EPOCH - 92 : training on 15061 raw words (10297 effective words) took 0.0s, 490784 effective words/s\n",
      "2020-10-16 12:50:25,458 : INFO : worker thread finished; awaiting finish of 2 more threads\n",
      "2020-10-16 12:50:25,462 : INFO : worker thread finished; awaiting finish of 1 more threads\n",
      "2020-10-16 12:50:25,475 : INFO : worker thread finished; awaiting finish of 0 more threads\n",
      "2020-10-16 12:50:25,476 : INFO : EPOCH - 93 : training on 15061 raw words (10326 effective words) took 0.0s, 335696 effective words/s\n",
      "2020-10-16 12:50:25,494 : INFO : worker thread finished; awaiting finish of 2 more threads\n",
      "2020-10-16 12:50:25,507 : INFO : worker thread finished; awaiting finish of 1 more threads\n",
      "2020-10-16 12:50:25,516 : INFO : worker thread finished; awaiting finish of 0 more threads\n",
      "2020-10-16 12:50:25,522 : INFO : EPOCH - 94 : training on 15061 raw words (10312 effective words) took 0.0s, 259545 effective words/s\n",
      "2020-10-16 12:50:25,545 : INFO : worker thread finished; awaiting finish of 2 more threads\n",
      "2020-10-16 12:50:25,553 : INFO : worker thread finished; awaiting finish of 1 more threads\n",
      "2020-10-16 12:50:25,557 : INFO : worker thread finished; awaiting finish of 0 more threads\n",
      "2020-10-16 12:50:25,558 : INFO : EPOCH - 95 : training on 15061 raw words (10339 effective words) took 0.0s, 377809 effective words/s\n",
      "2020-10-16 12:50:25,570 : INFO : worker thread finished; awaiting finish of 2 more threads\n",
      "2020-10-16 12:50:25,583 : INFO : worker thread finished; awaiting finish of 1 more threads\n",
      "2020-10-16 12:50:25,587 : INFO : worker thread finished; awaiting finish of 0 more threads\n",
      "2020-10-16 12:50:25,588 : INFO : EPOCH - 96 : training on 15061 raw words (10364 effective words) took 0.0s, 552040 effective words/s\n",
      "2020-10-16 12:50:25,598 : INFO : worker thread finished; awaiting finish of 2 more threads\n",
      "2020-10-16 12:50:25,608 : INFO : worker thread finished; awaiting finish of 1 more threads\n",
      "2020-10-16 12:50:25,611 : INFO : worker thread finished; awaiting finish of 0 more threads\n",
      "2020-10-16 12:50:25,612 : INFO : EPOCH - 97 : training on 15061 raw words (10359 effective words) took 0.0s, 554984 effective words/s\n",
      "2020-10-16 12:50:25,621 : INFO : worker thread finished; awaiting finish of 2 more threads\n",
      "2020-10-16 12:50:25,633 : INFO : worker thread finished; awaiting finish of 1 more threads\n",
      "2020-10-16 12:50:25,634 : INFO : worker thread finished; awaiting finish of 0 more threads\n",
      "2020-10-16 12:50:25,636 : INFO : EPOCH - 98 : training on 15061 raw words (10283 effective words) took 0.0s, 704252 effective words/s\n",
      "2020-10-16 12:50:25,645 : INFO : worker thread finished; awaiting finish of 2 more threads\n",
      "2020-10-16 12:50:25,658 : INFO : worker thread finished; awaiting finish of 1 more threads\n",
      "2020-10-16 12:50:25,661 : INFO : worker thread finished; awaiting finish of 0 more threads\n",
      "2020-10-16 12:50:25,662 : INFO : EPOCH - 99 : training on 15061 raw words (10400 effective words) took 0.0s, 633247 effective words/s\n",
      "2020-10-16 12:50:25,675 : INFO : worker thread finished; awaiting finish of 2 more threads\n",
      "2020-10-16 12:50:25,681 : INFO : worker thread finished; awaiting finish of 1 more threads\n",
      "2020-10-16 12:50:25,686 : INFO : worker thread finished; awaiting finish of 0 more threads\n",
      "2020-10-16 12:50:25,688 : INFO : EPOCH - 100 : training on 15061 raw words (10371 effective words) took 0.0s, 523798 effective words/s\n",
      "2020-10-16 12:50:25,689 : INFO : training on a 1506100 raw words (1032939 effective words) took 3.0s, 339497 effective words/s\n"
     ]
    }
   ],
   "source": [
    "model = word2vec.Word2Vec(word_list, size=100, min_count=1, window=5, iter=100)"
   ]
  },
  {
   "cell_type": "code",
   "execution_count": 18,
   "metadata": {},
   "outputs": [
    {
     "name": "stdout",
     "output_type": "stream",
     "text": [
      "[ 0.15477112 -0.5345092  -0.31031147 -0.07956392 -0.03951297 -0.31015885\n",
      " -0.3013502   0.19706672  0.2701892   0.54299814 -0.50656366  1.044367\n",
      "  0.5357468   0.43074533  0.12753731 -0.360758    0.02318363 -0.13125826\n",
      "  0.10092299 -1.7454686   0.5746101   1.1016387  -0.17457478  0.70693386\n",
      "  0.21384136  0.24264343  0.11165737  0.20553711  0.5870646   0.70628494\n",
      "  0.19548646  0.09055609 -0.36088142  0.7321042   0.24761291 -1.4514707\n",
      " -0.47955468  0.7560468  -0.25066227 -0.41321397  0.39109957  0.31490993\n",
      "  0.3713858  -0.81695974  0.3236965  -0.8486086  -0.5232801   0.48855165\n",
      "  0.12974125 -0.6187744   0.28635374  0.15493165  0.74783754  0.6570185\n",
      "  1.122576   -1.5328549   0.97849435  0.65921277  0.7508275   0.2216967\n",
      " -1.2545773   0.55008537  0.19804046 -0.15558392 -0.21682113 -0.2676485\n",
      "  0.3720101  -1.2042321  -0.5380273   0.20288715 -0.02392701  0.68176395\n",
      "  0.66268975 -0.4980566  -0.00561092 -0.16848436  0.04757904 -0.27959916\n",
      "  0.87909985  0.05462596  0.01681251  0.0250126  -0.7033497   0.06921583\n",
      "  0.8597675  -0.57088363 -0.71886855  0.651799    0.70251375 -0.19531055\n",
      " -0.46238482 -1.341808   -0.41629374  0.29965028  0.492023    0.9851495\n",
      "  1.4434834  -0.58850145 -0.21586183  0.24359117]\n"
     ]
    }
   ],
   "source": [
    "print(model.__dict__['wv']['駅伝'])"
   ]
  },
  {
   "cell_type": "code",
   "execution_count": 19,
   "metadata": {},
   "outputs": [
    {
     "name": "stderr",
     "output_type": "stream",
     "text": [
      "2020-10-16 12:49:00,971 : INFO : precomputing L2-norms of word weight vectors\n"
     ]
    },
    {
     "name": "stdout",
     "output_type": "stream",
     "text": [
      "m 0.7873979806900024\n",
      "分 0.7524417638778687\n",
      "年生 0.744480550289154\n",
      "記録 0.7211560010910034\n",
      "会 0.7162697911262512\n",
      "校 0.7092733979225159\n",
      "全国 0.7035958766937256\n",
      "学 0.6876506805419922\n",
      "予選 0.659932017326355\n",
      "高校 0.6564688682556152\n"
     ]
    }
   ],
   "source": [
    "ret = model.wv.most_similar(positive=['駅伝'])\n",
    "for item in ret:\n",
    "    print(item[0], item[1])"
   ]
  },
  {
   "cell_type": "code",
   "execution_count": 23,
   "metadata": {},
   "outputs": [
    {
     "name": "stdout",
     "output_type": "stream",
     "text": [
      "キーボード 0.8503901958465576\n",
      "タブレット 0.8486034274101257\n",
      "便利 0.782050371170044\n",
      "機能 0.7783803939819336\n",
      "スマホ 0.7653102278709412\n",
      "ファッション 0.7526085376739502\n",
      "使い 0.7511625289916992\n",
      "られる 0.7475675940513611\n",
      "際 0.7446867227554321\n",
      "● 0.7423917055130005\n"
     ]
    }
   ],
   "source": [
    "ret = model.wv.most_similar(positive=['学校'])\n",
    "for item in ret:\n",
    "    print(item[0], item[1])"
   ]
  },
  {
   "cell_type": "code",
   "execution_count": 27,
   "metadata": {},
   "outputs": [
    {
     "name": "stdout",
     "output_type": "stream",
     "text": [
      "<generator object Tokenizer.__tokenize_stream at 0x7f1d85aadd60>\n"
     ]
    }
   ],
   "source": [
    "print(t.tokenize('●'))"
   ]
  },
  {
   "cell_type": "code",
   "execution_count": 29,
   "metadata": {},
   "outputs": [],
   "source": [
    "token = t.tokenize('走れ')"
   ]
  },
  {
   "cell_type": "code",
   "execution_count": 31,
   "metadata": {},
   "outputs": [
    {
     "data": {
      "text/plain": [
       "<generator object Tokenizer.__tokenize_stream at 0x7f1d85aad970>"
      ]
     },
     "execution_count": 31,
     "metadata": {},
     "output_type": "execute_result"
    }
   ],
   "source": [
    "t = Tokenizer()\n",
    "s = 'すもももももももものうち'\n",
    "t.tokenize(s)"
   ]
  },
  {
   "cell_type": "code",
   "execution_count": 33,
   "metadata": {},
   "outputs": [
    {
     "name": "stdout",
     "output_type": "stream",
     "text": [
      "「\t記号,括弧開,*,*,*,*,「,「,「\n"
     ]
    }
   ],
   "source": [
    "for i in t.tokenize('「'):\n",
    "    print(i)"
   ]
  },
  {
   "cell_type": "code",
   "execution_count": 37,
   "metadata": {},
   "outputs": [
    {
     "data": {
      "text/plain": [
       "array([ 0.53893393,  0.11475355, -0.9333742 ,  1.3566351 ,  0.09616639,\n",
       "        0.4235481 , -0.44726244, -0.32543206, -0.2865685 ,  1.2125976 ,\n",
       "       -0.69235474,  0.9727659 , -0.33785373,  1.1525671 ,  0.3710449 ,\n",
       "       -1.060812  , -0.6023672 , -0.94083583,  0.17380299, -2.2083116 ,\n",
       "        0.10875866,  0.78487915, -1.1295128 ,  0.80426216,  0.64526194,\n",
       "        0.20082694,  1.566661  ,  0.45913938,  0.5423019 ,  0.12475076,\n",
       "        0.5333501 ,  0.2931081 , -0.4512317 ,  1.3275827 ,  0.14564301,\n",
       "       -1.2209054 , -2.0169477 ,  0.43991253, -0.2864791 , -0.39076814,\n",
       "        0.9429011 ,  1.4110776 ,  0.38909683, -0.35450444, -0.08505396,\n",
       "       -1.6752526 , -1.1957959 ,  0.5588142 ,  0.5662675 , -0.29416716,\n",
       "        1.6315272 ,  0.05064582,  0.22186053, -0.4495427 ,  0.5796952 ,\n",
       "       -0.9647866 ,  1.7721657 ,  0.4769875 ,  0.53542393,  0.48944896,\n",
       "       -1.2807362 ,  0.19260861, -0.6135937 , -0.0573002 ,  0.2168404 ,\n",
       "       -0.2564109 ,  0.7463759 , -1.3578198 ,  1.0632514 ,  0.46668088,\n",
       "       -0.77529323,  0.5649121 ,  1.4813234 , -0.5376456 , -0.7383318 ,\n",
       "        0.28593227,  0.11308733,  0.3100111 ,  0.11244319, -0.16149144,\n",
       "        0.38750216, -0.251084  , -1.168084  ,  0.06384265,  1.0858849 ,\n",
       "       -0.95515984, -1.4804609 ,  0.46997344,  0.9919727 , -0.67944163,\n",
       "       -0.22645557, -0.9977584 , -1.6927133 , -0.0823889 ,  0.7443101 ,\n",
       "        0.84912074,  1.3651013 , -0.29754516,  0.5662459 ,  0.82347006],\n",
       "      dtype=float32)"
      ]
     },
     "execution_count": 37,
     "metadata": {},
     "output_type": "execute_result"
    }
   ],
   "source": [
    "model.__dict__['wv']['駅伝']"
   ]
  },
  {
   "cell_type": "code",
   "execution_count": null,
   "metadata": {},
   "outputs": [],
   "source": []
  }
 ],
 "metadata": {
  "kernelspec": {
   "display_name": "Python 3",
   "language": "python",
   "name": "python3"
  },
  "language_info": {
   "codemirror_mode": {
    "name": "ipython",
    "version": 3
   },
   "file_extension": ".py",
   "mimetype": "text/x-python",
   "name": "python",
   "nbconvert_exporter": "python",
   "pygments_lexer": "ipython3",
   "version": "3.8.3"
  }
 },
 "nbformat": 4,
 "nbformat_minor": 4
}
