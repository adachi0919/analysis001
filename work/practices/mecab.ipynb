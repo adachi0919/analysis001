{
 "cells": [
  {
   "cell_type": "code",
   "execution_count": 12,
   "metadata": {},
   "outputs": [],
   "source": [
    "import MeCab\n",
    "path = '../../../data/dic/'\n",
    "mecab = MeCab.Tagger('-d /usr/lib/x86_64-linux-gnu/mecab/dic/mecab-ipadic-neologd/')\n",
    "wakati = MeCab.Tagger(\"-Owakati -d /usr/lib/x86_64-linux-gnu/mecab/dic/mecab-ipadic-neologd/\")"
   ]
  },
  {
   "cell_type": "code",
   "execution_count": 1,
   "metadata": {},
   "outputs": [],
   "source": [
    "def MecabMorphologicalAnalysis(path='./text.txt', output_file='wakati.txt', file=False):\n",
    "    mecab_text = ''\n",
    "    if file:\n",
    "        with open(path) as f:\n",
    "            for line in f:\n",
    "                mecab_text += mecab.parse(line)\n",
    "        with open(output_file, 'w') as f:\n",
    "            print(mecab_text, file=f)\n",
    "    else:\n",
    "        for path in path.split('\\n'):\n",
    "            mecab_text += mecab.parse(path)\n",
    "        return mecab_text"
   ]
  },
  {
   "cell_type": "code",
   "execution_count": 11,
   "metadata": {},
   "outputs": [],
   "source": [
    "MecabMorphologicalAnalysis(path+'neko.txt', path+'neko10.txt')"
   ]
  },
  {
   "cell_type": "code",
   "execution_count": null,
   "metadata": {},
   "outputs": [],
   "source": []
  }
 ],
 "metadata": {
  "kernelspec": {
   "display_name": "Python 3",
   "language": "python",
   "name": "python3"
  },
  "language_info": {
   "codemirror_mode": {
    "name": "ipython",
    "version": 3
   },
   "file_extension": ".py",
   "mimetype": "text/x-python",
   "name": "python",
   "nbconvert_exporter": "python",
   "pygments_lexer": "ipython3",
   "version": "3.8.3"
  }
 },
 "nbformat": 4,
 "nbformat_minor": 4
}
