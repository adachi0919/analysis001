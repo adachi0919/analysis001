{
 "cells": [
  {
   "cell_type": "markdown",
   "metadata": {},
   "source": [
    "- [Wikipedia（日本語版）全文データをテキストファイルへ変換](https://qiita.com/oyaryo/items/203837d6f23a5495f2bb)  \n",
    "- [wikipedia全文データからWord2Vecで類義語を抽出してみる](https://ai-coordinator.jp/wikipedia-word2vec)  \n",
    "- [テキスト間の類似度](https://qiita.com/kenta1984/items/93b64768494f971edf86#%E3%83%86%E3%82%AD%E3%82%B9%E3%83%88%E9%96%93%E3%81%AE%E9%A1%9E%E4%BC%BC%E5%BA%A6)"
   ]
  },
  {
   "cell_type": "markdown",
   "metadata": {},
   "source": [
    "```\n",
    "$ apt install mecab libmecab-dev mecab-ipadic-utf8\n",
    "```"
   ]
  },
  {
   "cell_type": "code",
   "execution_count": null,
   "metadata": {},
   "outputs": [],
   "source": []
  }
 ],
 "metadata": {
  "kernelspec": {
   "display_name": "Python 3",
   "language": "python",
   "name": "python3"
  },
  "language_info": {
   "codemirror_mode": {
    "name": "ipython",
    "version": 3
   },
   "file_extension": ".py",
   "mimetype": "text/x-python",
   "name": "python",
   "nbconvert_exporter": "python",
   "pygments_lexer": "ipython3",
   "version": "3.8.3"
  }
 },
 "nbformat": 4,
 "nbformat_minor": 4
}
