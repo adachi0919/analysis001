{
 "cells": [
  {
   "cell_type": "code",
   "execution_count": 1,
   "metadata": {},
   "outputs": [],
   "source": [
    "from bs4 import BeautifulSoup\n",
    "import requests\n",
    "import logging\n",
    "import pandas as pd, numpy as np\n",
    "logging.basicConfig(format='%(asctime)s : %(levelname)s : %(message)s', level=logging.INFO)"
   ]
  },
  {
   "cell_type": "code",
   "execution_count": 2,
   "metadata": {},
   "outputs": [],
   "source": [
    "url = \"https://news.yahoo.co.jp/topics/top-picks\"\n",
    "URL = \"https://news.yahoo.co.jp/\"\n",
    "res = requests.get(url)\n",
    "soup = BeautifulSoup(res.text, \"html.parser\")\n",
    "\n",
    "title_list = []\n",
    "for title in soup.find_all(\"div\", class_=\"newsFeed_item_title\"):\n",
    "    title_list.append(title.string)\n",
    "\n",
    "url_list = []\n",
    "for i in range(len(soup.find_all(\"a\", class_=\"newsFeed_item_link\"))):\n",
    "    url_list.append(soup.find_all(\"a\", class_=\"newsFeed_item_link\")[i][\"href\"])"
   ]
  },
  {
   "cell_type": "code",
   "execution_count": 3,
   "metadata": {},
   "outputs": [
    {
     "data": {
      "text/plain": [
       "'/topics/top-picks?page=2'"
      ]
     },
     "execution_count": 3,
     "metadata": {},
     "output_type": "execute_result"
    }
   ],
   "source": [
    "soup.find(\"li\", class_=\"pagination_item-next\").a[\"href\"]"
   ]
  },
  {
   "cell_type": "code",
   "execution_count": 4,
   "metadata": {},
   "outputs": [],
   "source": [
    "# text_list = []\n",
    "# while True:\n",
    "#     try:\n",
    "#         next_link = soup.find(\"li\", class_=\"pagination_item-next\").a[\"href\"]\n",
    "#         next_link = URL + next_link\n",
    "#         text_res = requests.get(url)\n",
    "#         soup = BeautifulSoup(text_res.text, \"html.parser\")\n",
    "#         text_list.append(soup)\n",
    "#     except Exception:\n",
    "#         break"
   ]
  },
  {
   "cell_type": "code",
   "execution_count": null,
   "metadata": {},
   "outputs": [],
   "source": []
  },
  {
   "cell_type": "code",
   "execution_count": null,
   "metadata": {},
   "outputs": [],
   "source": []
  },
  {
   "cell_type": "code",
   "execution_count": null,
   "metadata": {},
   "outputs": [],
   "source": []
  },
  {
   "cell_type": "code",
   "execution_count": null,
   "metadata": {},
   "outputs": [],
   "source": []
  },
  {
   "cell_type": "code",
   "execution_count": 5,
   "metadata": {},
   "outputs": [],
   "source": [
    "text_list = []"
   ]
  },
  {
   "cell_type": "code",
   "execution_count": 9,
   "metadata": {},
   "outputs": [],
   "source": [
    "next_link = soup.find(\"li\", class_=\"pagination_item-next\").a[\"href\"]\n",
    "next_link = URL + next_link\n",
    "text_res = requests.get(url)\n",
    "soup = BeautifulSoup(text_res.text, \"html.parser\")\n",
    "text_list.append(soup)"
   ]
  },
  {
   "cell_type": "code",
   "execution_count": 11,
   "metadata": {},
   "outputs": [
    {
     "data": {
      "text/plain": [
       "2"
      ]
     },
     "execution_count": 11,
     "metadata": {},
     "output_type": "execute_result"
    }
   ],
   "source": [
    "len(text_list)"
   ]
  },
  {
   "cell_type": "code",
   "execution_count": null,
   "metadata": {},
   "outputs": [],
   "source": []
  }
 ],
 "metadata": {
  "kernelspec": {
   "display_name": "Python 3",
   "language": "python",
   "name": "python3"
  },
  "language_info": {
   "codemirror_mode": {
    "name": "ipython",
    "version": 3
   },
   "file_extension": ".py",
   "mimetype": "text/x-python",
   "name": "python",
   "nbconvert_exporter": "python",
   "pygments_lexer": "ipython3",
   "version": "3.8.3"
  }
 },
 "nbformat": 4,
 "nbformat_minor": 4
}
