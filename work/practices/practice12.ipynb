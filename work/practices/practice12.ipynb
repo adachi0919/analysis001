{
 "cells": [
  {
   "cell_type": "code",
   "execution_count": 1,
   "metadata": {},
   "outputs": [],
   "source": [
    "import MeCab\n",
    "from bs4 import BeautifulSoup\n",
    "import requests\n",
    "import logging\n",
    "import jaconv\n",
    "from gensim import corpora\n",
    "from gensim import models\n",
    "from gensim.models import word2vec\n",
    "from janome.tokenizer import Tokenizer\n",
    "from pprint import pprint\n",
    "import pandas as pd, numpy as np"
   ]
  },
  {
   "cell_type": "code",
   "execution_count": 3,
   "metadata": {},
   "outputs": [],
   "source": [
    "url = \"https://www.aozora.gr.jp/access_ranking/2019_xhtml.html\"\n",
    "URL = \"\"\n",
    "res = requests.get(url)\n",
    "res.encoding = 'shift-jis'\n",
    "soup = BeautifulSoup(res.content, \"html.parser\")"
   ]
  },
  {
   "cell_type": "code",
   "execution_count": 4,
   "metadata": {},
   "outputs": [],
   "source": [
    "url_list = [url[\"href\"] for i, url in enumerate(soup.find_all(\"a\", target=\"_blank\")) if i < 50]"
   ]
  },
  {
   "cell_type": "code",
   "execution_count": 5,
   "metadata": {},
   "outputs": [],
   "source": [
    "title = []\n",
    "name = []\n",
    "text = []\n",
    "for url in url_list:\n",
    "    res = requests.get(url)\n",
    "    url_start = url[:37]\n",
    "    res.encoding = 'shift-jis'\n",
    "    soup = BeautifulSoup(res.content, \"html.parser\")\n",
    "    for i, a in enumerate(soup.find_all(\"a\")):\n",
    "        if i == 7:\n",
    "            url_end = a[\"href\"][1:]\n",
    "    url = url_start + url_end\n",
    "    res = requests.get(url)\n",
    "    res.encoding = 'shift-jis'\n",
    "    soup = BeautifulSoup(res.content, \"html.parser\")\n",
    "    title.append(soup.find(\"h1\").string)\n",
    "    name.append(soup.find(\"h2\").string)\n",
    "    for tag in soup.find_all([\"rt\", \"rp\"]):\n",
    "        tag.decompose()\n",
    "    text.append(soup.find(\"div\",{'class': 'main_text'}).get_text())"
   ]
  },
  {
   "cell_type": "code",
   "execution_count": 6,
   "metadata": {},
   "outputs": [],
   "source": [
    "df = pd.DataFrame({'タイトル': title, '作者': name, '本文': text})"
   ]
  },
  {
   "cell_type": "code",
   "execution_count": 7,
   "metadata": {},
   "outputs": [
    {
     "data": {
      "text/html": [
       "<div>\n",
       "<style scoped>\n",
       "    .dataframe tbody tr th:only-of-type {\n",
       "        vertical-align: middle;\n",
       "    }\n",
       "\n",
       "    .dataframe tbody tr th {\n",
       "        vertical-align: top;\n",
       "    }\n",
       "\n",
       "    .dataframe thead th {\n",
       "        text-align: right;\n",
       "    }\n",
       "</style>\n",
       "<table border=\"1\" class=\"dataframe\">\n",
       "  <thead>\n",
       "    <tr style=\"text-align: right;\">\n",
       "      <th></th>\n",
       "      <th>タイトル</th>\n",
       "      <th>作者</th>\n",
       "      <th>本文</th>\n",
       "    </tr>\n",
       "  </thead>\n",
       "  <tbody>\n",
       "    <tr>\n",
       "      <th>0</th>\n",
       "      <td>〔雨ニモマケズ〕</td>\n",
       "      <td>宮澤賢治</td>\n",
       "      <td>\\r\\n雨ニモマケズ\\r\\n風ニモマケズ\\r\\n雪ニモ夏ノ暑サニモマケヌ\\r\\n丈夫ナカラダ...</td>\n",
       "    </tr>\n",
       "    <tr>\n",
       "      <th>1</th>\n",
       "      <td>走れメロス</td>\n",
       "      <td>太宰治</td>\n",
       "      <td>\\r\\n　メロスは激怒した。必ず、かの邪智暴虐の王を除かなければならぬと決意した。メロスには...</td>\n",
       "    </tr>\n",
       "    <tr>\n",
       "      <th>2</th>\n",
       "      <td>山月記</td>\n",
       "      <td>中島敦</td>\n",
       "      <td>\\r\\n　隴西の李徴は博学才穎、天宝の末年、若くして名を虎榜に連ね、ついで江南尉に補せられた...</td>\n",
       "    </tr>\n",
       "    <tr>\n",
       "      <th>3</th>\n",
       "      <td>こころ</td>\n",
       "      <td>夏目漱石</td>\n",
       "      <td>\\n上　先生と私\\n\\n\\n一\\n\\r\\n　私はその人を常に先生と呼んでいた。だからここでも...</td>\n",
       "    </tr>\n",
       "    <tr>\n",
       "      <th>4</th>\n",
       "      <td>羅生門</td>\n",
       "      <td>芥川龍之介</td>\n",
       "      <td>\\r\\n　ある日の暮方の事である。一人の下人が、羅生門の下で雨やみを待っていた。\\r\\n　広...</td>\n",
       "    </tr>\n",
       "  </tbody>\n",
       "</table>\n",
       "</div>"
      ],
      "text/plain": [
       "       タイトル     作者                                                 本文\n",
       "0  〔雨ニモマケズ〕   宮澤賢治  \\r\\n雨ニモマケズ\\r\\n風ニモマケズ\\r\\n雪ニモ夏ノ暑サニモマケヌ\\r\\n丈夫ナカラダ...\n",
       "1     走れメロス    太宰治  \\r\\n　メロスは激怒した。必ず、かの邪智暴虐の王を除かなければならぬと決意した。メロスには...\n",
       "2       山月記   中島敦   \\r\\n　隴西の李徴は博学才穎、天宝の末年、若くして名を虎榜に連ね、ついで江南尉に補せられた...\n",
       "3       こころ   夏目漱石  \\n上　先生と私\\n\\n\\n一\\n\\r\\n　私はその人を常に先生と呼んでいた。だからここでも...\n",
       "4       羅生門  芥川龍之介  \\r\\n　ある日の暮方の事である。一人の下人が、羅生門の下で雨やみを待っていた。\\r\\n　広..."
      ]
     },
     "execution_count": 7,
     "metadata": {},
     "output_type": "execute_result"
    }
   ],
   "source": [
    "df.head()"
   ]
  },
  {
   "cell_type": "code",
   "execution_count": 3,
   "metadata": {},
   "outputs": [
    {
     "name": "stdout",
     "output_type": "stream",
     "text": [
      "雨ニモマケズ\t名詞,固有名詞,一般,*,*,*,雨ニモマケズ,アメニモマケズ,アメニモマケズ\n",
      "風\t名詞,接尾,一般,*,*,*,風,フウ,フー\n",
      "ニモマケズ\t名詞,一般,*,*,*,*,*\n",
      "EOS\n",
      "\n",
      "雨\t名詞,一般,*,*,*,*,雨,アメ,アメ\n",
      "に\t助詞,格助詞,一般,*,*,*,に,ニ,ニ\n",
      "も\t助詞,係助詞,*,*,*,*,も,モ,モ\n",
      "まけ\t動詞,自立,*,*,一段,未然形,まける,マケ,マケ\n",
      "ず\t助動詞,*,*,*,特殊・ヌ,連用ニ接続,ぬ,ズ,ズ\n",
      "風\t名詞,一般,*,*,*,*,風,カゼ,カゼ\n",
      "に\t助詞,格助詞,一般,*,*,*,に,ニ,ニ\n",
      "も\t助詞,係助詞,*,*,*,*,も,モ,モ\n",
      "まけ\t動詞,自立,*,*,一段,未然形,まける,マケ,マケ\n",
      "ず\t助動詞,*,*,*,特殊・ヌ,連用ニ接続,ぬ,ズ,ズ\n",
      "EOS\n",
      "\n",
      "ポケモンGO\t名詞,固有名詞,一般,*,*,*,ポケモンGO,ポケモンゴー,ポケモンゴー\n",
      "EOS\n",
      "\n"
     ]
    }
   ],
   "source": [
    "mecab = MeCab.Tagger('-d /usr/lib/x86_64-linux-gnu/mecab/dic/mecab-ipadic-neologd')\n",
    "print(mecab.parse(\"雨ニモマケズ風ニモマケズ\"))\n",
    "print(mecab.parse(\"雨にもまけず風にもまけず\"))\n",
    "print(mecab.parse(\"ポケモンGO\"))"
   ]
  },
  {
   "cell_type": "code",
   "execution_count": 11,
   "metadata": {},
   "outputs": [
    {
     "name": "stdout",
     "output_type": "stream",
     "text": [
      "filename:\t/usr/lib/x86_64-linux-gnu/mecab/dic/mecab-ipadic-neologd/sys.dic\n",
      "version:\t102\n",
      "charset:\tUTF8\n",
      "type:\t0\n",
      "size:\t4668394\n",
      "left size:\t1316\n",
      "right size:\t1316\n",
      "\n"
     ]
    }
   ],
   "source": [
    "!mecab -D"
   ]
  },
  {
   "cell_type": "code",
   "execution_count": 6,
   "metadata": {},
   "outputs": [
    {
     "name": "stdout",
     "output_type": "stream",
     "text": [
      "utf8\n"
     ]
    }
   ],
   "source": [
    "mecab = MeCab.Tagger(\"/etc/mecabrc\")\n",
    "info = mecab.dictionary_info()\n",
    "print(info.charset)"
   ]
  },
  {
   "cell_type": "code",
   "execution_count": 24,
   "metadata": {},
   "outputs": [
    {
     "name": "stdout",
     "output_type": "stream",
     "text": [
      ";\n",
      "; Configuration file of MeCab\n",
      ";\n",
      "; $Id: mecabrc.in,v 1.3 2006/05/29 15:36:08 taku-ku Exp $;\n",
      ";\n",
      "dicdir = /usr/lib/x86_64-linux-gnu/mecab/dic/mecab-ipadic-neologd\n",
      "\n",
      "; userdic = /home/foo/bar/user.dic\n",
      "\n",
      "; output-format-type = wakati\n",
      "; input-buffer-size = 8192\n",
      "\n",
      "; node-format = %m\\n\n",
      "; bos-format = %S\\n\n",
      "; eos-format = EOS\\n\n",
      "\n"
     ]
    }
   ],
   "source": [
    "!cat /etc/mecabrc"
   ]
  },
  {
   "cell_type": "code",
   "execution_count": null,
   "metadata": {},
   "outputs": [],
   "source": []
  }
 ],
 "metadata": {
  "kernelspec": {
   "display_name": "Python 3",
   "language": "python",
   "name": "python3"
  },
  "language_info": {
   "codemirror_mode": {
    "name": "ipython",
    "version": 3
   },
   "file_extension": ".py",
   "mimetype": "text/x-python",
   "name": "python",
   "nbconvert_exporter": "python",
   "pygments_lexer": "ipython3",
   "version": "3.8.3"
  }
 },
 "nbformat": 4,
 "nbformat_minor": 4
}
