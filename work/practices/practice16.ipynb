{
 "cells": [
  {
   "cell_type": "code",
   "execution_count": 1,
   "metadata": {},
   "outputs": [],
   "source": [
    "from gensim.models import word2vec"
   ]
  },
  {
   "cell_type": "code",
   "execution_count": 7,
   "metadata": {},
   "outputs": [],
   "source": [
    "model = word2vec.Word2Vec.load('../../../data/wiki/wiki_data/wiki.model')"
   ]
  },
  {
   "cell_type": "code",
   "execution_count": 8,
   "metadata": {},
   "outputs": [
    {
     "name": "stderr",
     "output_type": "stream",
     "text": [
      "<ipython-input-8-1892d1b4a4c0>:1: DeprecationWarning: Call to deprecated `most_similar` (Method will be removed in 4.0.0, use self.wv.most_similar() instead).\n",
      "  model.most_similar(positive=['犬'])\n"
     ]
    },
    {
     "data": {
      "text/plain": [
       "[('ネコ', 0.7360246777534485),\n",
       " ('猫', 0.7332230806350708),\n",
       " ('柴犬', 0.727399468421936),\n",
       " ('オオカミ', 0.7169283628463745),\n",
       " ('猟犬', 0.7167944312095642),\n",
       " ('イヌ', 0.7005842924118042),\n",
       " ('ネズミ', 0.7001469135284424),\n",
       " ('ブタ', 0.6850659847259521),\n",
       " ('フランダース', 0.6825929880142212),\n",
       " ('シベリアン・ハスキー', 0.6819740533828735)]"
      ]
     },
     "execution_count": 8,
     "metadata": {},
     "output_type": "execute_result"
    }
   ],
   "source": [
    "model.most_similar(positive=['犬'])"
   ]
  },
  {
   "cell_type": "code",
   "execution_count": 9,
   "metadata": {},
   "outputs": [
    {
     "name": "stderr",
     "output_type": "stream",
     "text": [
      "<ipython-input-9-3072fb54f2f4>:1: DeprecationWarning: Call to deprecated `most_similar` (Method will be removed in 4.0.0, use self.wv.most_similar() instead).\n",
      "  model.most_similar(positive=['純粋', '悪'], negative=['正義'])\n"
     ]
    },
    {
     "data": {
      "text/plain": [
       "[('未熟', 0.6616715788841248),\n",
       " ('乱雑', 0.6499545574188232),\n",
       " ('複雑', 0.642261266708374),\n",
       " ('適度', 0.6365227699279785),\n",
       " ('柔らか', 0.6302212476730347),\n",
       " ('不完全', 0.6279257535934448),\n",
       " ('貪欲', 0.6256097555160522),\n",
       " ('暖か', 0.6225423812866211),\n",
       " ('単純', 0.61809241771698),\n",
       " ('鋭敏', 0.6149500608444214)]"
      ]
     },
     "execution_count": 9,
     "metadata": {},
     "output_type": "execute_result"
    }
   ],
   "source": [
    "model.most_similar(positive=['純粋', '悪'], negative=['正義'])"
   ]
  },
  {
   "cell_type": "code",
   "execution_count": 10,
   "metadata": {},
   "outputs": [
    {
     "name": "stderr",
     "output_type": "stream",
     "text": [
      "<ipython-input-10-ca730694e269>:1: DeprecationWarning: Call to deprecated `most_similar` (Method will be removed in 4.0.0, use self.wv.most_similar() instead).\n",
      "  model.most_similar(positive=['愛'], negative=['責任'])\n"
     ]
    },
    {
     "data": {
      "text/plain": [
       "[('青春', 0.610048234462738),\n",
       " ('乙女', 0.5762622356414795),\n",
       " ('恋', 0.5746465921401978),\n",
       " ('キラキラ', 0.5620677471160889),\n",
       " ('〜', 0.5602753162384033),\n",
       " ('夢', 0.5582060813903809),\n",
       " ('虹', 0.556054413318634),\n",
       " ('きらめく', 0.5540828108787537),\n",
       " ('初恋', 0.5508213043212891),\n",
       " ('ときめき', 0.5493165254592896)]"
      ]
     },
     "execution_count": 10,
     "metadata": {},
     "output_type": "execute_result"
    }
   ],
   "source": [
    "model.most_similar(positive=['愛'], negative=['責任'])"
   ]
  },
  {
   "cell_type": "code",
   "execution_count": 14,
   "metadata": {},
   "outputs": [
    {
     "name": "stderr",
     "output_type": "stream",
     "text": [
      "<ipython-input-14-188943e2778d>:1: DeprecationWarning: Call to deprecated `most_similar` (Method will be removed in 4.0.0, use self.wv.most_similar() instead).\n",
      "  model.most_similar(positive=['言語'], negative=['学習'])\n"
     ]
    },
    {
     "data": {
      "text/plain": [
       "[('諸語', 0.523039698600769),\n",
       " ('モンゴロイド', 0.5212816596031189),\n",
       " ('語形', 0.5057978630065918),\n",
       " ('音素', 0.5032843351364136),\n",
       " ('コーカソイド', 0.5024805665016174),\n",
       " ('祖語', 0.501642107963562),\n",
       " ('国々', 0.4905061423778534),\n",
       " ('話者', 0.4775255024433136),\n",
       " ('スカンディナヴィア', 0.4744352102279663),\n",
       " ('語族', 0.4743066430091858)]"
      ]
     },
     "execution_count": 14,
     "metadata": {},
     "output_type": "execute_result"
    }
   ],
   "source": [
    "model.most_similar(positive=['言語'], negative=['学習'])"
   ]
  },
  {
   "cell_type": "code",
   "execution_count": null,
   "metadata": {},
   "outputs": [],
   "source": []
  }
 ],
 "metadata": {
  "kernelspec": {
   "display_name": "Python 3",
   "language": "python",
   "name": "python3"
  },
  "language_info": {
   "codemirror_mode": {
    "name": "ipython",
    "version": 3
   },
   "file_extension": ".py",
   "mimetype": "text/x-python",
   "name": "python",
   "nbconvert_exporter": "python",
   "pygments_lexer": "ipython3",
   "version": "3.8.3"
  }
 },
 "nbformat": 4,
 "nbformat_minor": 4
}
