{
 "cells": [
  {
   "cell_type": "markdown",
   "metadata": {},
   "source": [
    "前回[こちらの記事](https://qiita.com/kei0919/items/bde365bf179c0a1573af)にて青空文庫の書籍をDoc2Vecでクラスタリングしようとしました。  \n",
    "少しうまくいったかなという程度だったのですが、正直微妙な結果となってしまいました。  \n",
    "そこで今回はDoc2Vecに代わり、fastTextというライブラリを用いて、Yahooニュース記事のクラスタリングを行おうと思います。\n",
    "\n",
    "### fastTextとは\n",
    "fastTextとはFacebookによって開発が行われたオープンソースの自然言語処理ライブラリです。  \n",
    "高機能で予測精度も良く、更に高速に予測をします。  \n",
    "メイン機能は教師あり学習による分類と教師なし学習による単語のベクトル生成です。\n",
    "\n",
    "今回は教師あり学習による分類機能を用いて、記事のカテゴリを予測してみようと思います。\n",
    "\n",
    "詳しくは[fastText公式リファレンス](https://fasttext.cc/)へ！  \n",
    "Pythonについての機能は[GitHub](https://github.com/facebookresearch/fastText/tree/master/python)が詳しかったです！\n",
    "\n",
    "### 開発環境\n",
    "- Docker → [こちら](https://qiita.com/kei0919/items/d1e975b015efc22b5001)で記事にしています\n",
    "- JupyterLab\n",
    "\n",
    "### 実装スタート"
   ]
  },
  {
   "cell_type": "code",
   "execution_count": 1,
   "metadata": {},
   "outputs": [],
   "source": [
    "import pandas as pd, numpy as np\n",
    "import re\n",
    "import MeCab\n",
    "import fasttext\n",
    "import matplotlib.pyplot as plt\n",
    "from sklearn.model_selection import train_test_split\n",
    "from sklearn import preprocessing\n",
    "from sklearn.decomposition import PCA\n",
    "import japanize_matplotlib"
   ]
  },
  {
   "cell_type": "markdown",
   "metadata": {},
   "source": [
    "### ニュースデータ取得\n",
    "[Yahooニュースをスクレイピング](https://qiita.com/kei0919/items/780b36f14907412f3489)でご紹介したコードを利用して取得したデータを読み込みます。  \n",
    "アメリカ大統領選挙の直後ということもあり、国際ニュースが多いですね。"
   ]
  },
  {
   "cell_type": "code",
   "execution_count": 2,
   "metadata": {},
   "outputs": [
    {
     "data": {
      "text/html": [
       "<div>\n",
       "<style scoped>\n",
       "    .dataframe tbody tr th:only-of-type {\n",
       "        vertical-align: middle;\n",
       "    }\n",
       "\n",
       "    .dataframe tbody tr th {\n",
       "        vertical-align: top;\n",
       "    }\n",
       "\n",
       "    .dataframe thead th {\n",
       "        text-align: right;\n",
       "    }\n",
       "</style>\n",
       "<table border=\"1\" class=\"dataframe\">\n",
       "  <thead>\n",
       "    <tr style=\"text-align: right;\">\n",
       "      <th></th>\n",
       "      <th>title</th>\n",
       "      <th>category</th>\n",
       "      <th>text</th>\n",
       "    </tr>\n",
       "  </thead>\n",
       "  <tbody>\n",
       "    <tr>\n",
       "      <th>0</th>\n",
       "      <td>損? あざとかわいい吉岡里帆</td>\n",
       "      <td>エンタメ</td>\n",
       "      <td>女優吉岡里帆27の2年ぶり2冊目の写真集里帆採取 by Asami Kiyokawa集英社...</td>\n",
       "    </tr>\n",
       "    <tr>\n",
       "      <th>1</th>\n",
       "      <td>鬼滅の「聖地」潤う観光地</td>\n",
       "      <td>経済</td>\n",
       "      <td>コロナ禍にもかかわらず異例の大ヒットを記録している劇場版鬼滅の刃 無限列車編映画にとどまらず...</td>\n",
       "    </tr>\n",
       "    <tr>\n",
       "      <th>2</th>\n",
       "      <td>電通G コロナで営業利益半減</td>\n",
       "      <td>経済</td>\n",
       "      <td>電通グループが10日発表した2020年19月期連結決算国際会計基準は売上高に当たる収益が9...</td>\n",
       "    </tr>\n",
       "    <tr>\n",
       "      <th>3</th>\n",
       "      <td>香港民主派議員、全員辞職</td>\n",
       "      <td>国際</td>\n",
       "      <td>12 北京共同新華社電によると中国の全人代常務委員会会議は11日香港立法会定数70の議員資格...</td>\n",
       "    </tr>\n",
       "    <tr>\n",
       "      <th>4</th>\n",
       "      <td>専門家組織 全国的に感染増加</td>\n",
       "      <td>国内</td>\n",
       "      <td>新型コロナウイルス対策を助言する厚生労働省の専門家組織アドバイザリーボードの会合が11日開...</td>\n",
       "    </tr>\n",
       "    <tr>\n",
       "      <th>...</th>\n",
       "      <td>...</td>\n",
       "      <td>...</td>\n",
       "      <td>...</td>\n",
       "    </tr>\n",
       "    <tr>\n",
       "      <th>512</th>\n",
       "      <td>ホワイトハウス周辺で4人刺傷</td>\n",
       "      <td>国際</td>\n",
       "      <td>米NBCテレビなどによると米大統領選でトランプ大統領とバイデン前副大統領の双方の支持者が集...</td>\n",
       "    </tr>\n",
       "    <tr>\n",
       "      <th>513</th>\n",
       "      <td>一方的な勝利宣言 米の反応は</td>\n",
       "      <td>国際</td>\n",
       "      <td>FNNプライムオンラインアメリカ大統領選挙の投票日から一夜明けた4日午前10時前のワシントン...</td>\n",
       "    </tr>\n",
       "    <tr>\n",
       "      <th>514</th>\n",
       "      <td>NY株続伸、一時600ドル超高</td>\n",
       "      <td>国際</td>\n",
       "      <td>ニューヨーク時事開票作業が進む米大統領選でトランプバイデン両候補の大接戦が続く中4日午前の...</td>\n",
       "    </tr>\n",
       "    <tr>\n",
       "      <th>515</th>\n",
       "      <td>セガサミー ゲーセン運営撤退</td>\n",
       "      <td>経済</td>\n",
       "      <td>セガサミーホールディングスは4日娯楽施設を運営する連結子会社セガエンタテインメント東京の株...</td>\n",
       "    </tr>\n",
       "    <tr>\n",
       "      <th>516</th>\n",
       "      <td>中国、海上警備に武器使用へ</td>\n",
       "      <td>国際</td>\n",
       "      <td>北京共同中国全国人民代表大会全人代国会は4日海上警備を担う中国海警局の権限を定める海警法草...</td>\n",
       "    </tr>\n",
       "  </tbody>\n",
       "</table>\n",
       "<p>517 rows × 3 columns</p>\n",
       "</div>"
      ],
      "text/plain": [
       "               title category  \\\n",
       "0     損? あざとかわいい吉岡里帆     エンタメ   \n",
       "1       鬼滅の「聖地」潤う観光地       経済   \n",
       "2     電通G コロナで営業利益半減       経済   \n",
       "3       香港民主派議員、全員辞職       国際   \n",
       "4     専門家組織 全国的に感染増加       国内   \n",
       "..               ...      ...   \n",
       "512   ホワイトハウス周辺で4人刺傷       国際   \n",
       "513   一方的な勝利宣言 米の反応は       国際   \n",
       "514  NY株続伸、一時600ドル超高       国際   \n",
       "515   セガサミー ゲーセン運営撤退       経済   \n",
       "516    中国、海上警備に武器使用へ       国際   \n",
       "\n",
       "                                                  text  \n",
       "0     女優吉岡里帆27の2年ぶり2冊目の写真集里帆採取 by Asami Kiyokawa集英社...  \n",
       "1    コロナ禍にもかかわらず異例の大ヒットを記録している劇場版鬼滅の刃 無限列車編映画にとどまらず...  \n",
       "2     電通グループが10日発表した2020年19月期連結決算国際会計基準は売上高に当たる収益が9...  \n",
       "3    12 北京共同新華社電によると中国の全人代常務委員会会議は11日香港立法会定数70の議員資格...  \n",
       "4     新型コロナウイルス対策を助言する厚生労働省の専門家組織アドバイザリーボードの会合が11日開...  \n",
       "..                                                 ...  \n",
       "512   米NBCテレビなどによると米大統領選でトランプ大統領とバイデン前副大統領の双方の支持者が集...  \n",
       "513  FNNプライムオンラインアメリカ大統領選挙の投票日から一夜明けた4日午前10時前のワシントン...  \n",
       "514   ニューヨーク時事開票作業が進む米大統領選でトランプバイデン両候補の大接戦が続く中4日午前の...  \n",
       "515   セガサミーホールディングスは4日娯楽施設を運営する連結子会社セガエンタテインメント東京の株...  \n",
       "516   北京共同中国全国人民代表大会全人代国会は4日海上警備を担う中国海警局の権限を定める海警法草...  \n",
       "\n",
       "[517 rows x 3 columns]"
      ]
     },
     "execution_count": 2,
     "metadata": {},
     "output_type": "execute_result"
    }
   ],
   "source": [
    "df = pd.read_csv('./YahooNews.csv')\n",
    "df"
   ]
  },
  {
   "cell_type": "markdown",
   "metadata": {},
   "source": [
    "### 辞書&関数定義"
   ]
  },
  {
   "cell_type": "code",
   "execution_count": 3,
   "metadata": {},
   "outputs": [],
   "source": [
    "# MeCabの辞書にNEologdを指定。\n",
    "# mecabは携帯素解析用、wakatiは分かち書き用\n",
    "mecab = MeCab.Tagger('-d /usr/lib/x86_64-linux-gnu/mecab/dic/mecab-ipadic-neologd/')\n",
    "wakati = MeCab.Tagger(\"-Owakati -d /usr/lib/x86_64-linux-gnu/mecab/dic/mecab-ipadic-neologd/\")\n",
    "\n",
    "\n",
    "# 形態素解析を行う関数を定義\n",
    "# ファイルを入力するとファイルを出力し、文字列を渡すと文字列を返します。引数fileで変更します。  \n",
    "# 単に分かち書きしたいだけの場合は引数にmecab=wakatiとすると実現できます。\n",
    "def MecabMorphologicalAnalysis(path='./text.txt', output_file='wakati.txt', mecab=mecab, file=False):\n",
    "    mecab_text = ''\n",
    "    if file:\n",
    "        with open(path) as f:\n",
    "            for line in f:\n",
    "                mecab_text += mecab.parse(line)\n",
    "        with open(output_file, 'w') as f:\n",
    "            print(mecab_text, file=f)\n",
    "    else:\n",
    "        for path in path.split('\\n'):\n",
    "            mecab_text += mecab.parse(path)\n",
    "        return mecab_text\n",
    "\n",
    "\n",
    "# v1とv2のコサイン類似度を出力します。\n",
    "def cos_sim(v1, v2):\n",
    "    return np.dot(v1, v2) / (np.linalg.norm(v1) * np.linalg.norm(v2))"
   ]
  },
  {
   "cell_type": "markdown",
   "metadata": {},
   "source": [
    "### データ前処理\n",
    "fastTextで利用するための形に変形します。  \n",
    "fastTextは下記のような形にデータを整形してあげることで、簡単に教師あり学習を行うことができます。  \n",
    "詳しくは[公式チュートリアル](https://fasttext.cc/docs/en/supervised-tutorial.html)をご参照ください。\n",
    "\n",
    "\n",
    "```\n",
    "__label__sauce __label__cheese how much does potato starch affect a cheese sauce recipe ? \n",
    "__label__food-safety __label__acidity dangerous pathogens capable of growing in acidic environments\n",
    "__label__cast-iron __label__stove how do i cover up the white spots on my cast iron stove ? \n",
    "__label__restaurant michelin three star restaurant; but if the chef is not there\n",
    "```\n",
    "\n",
    "上記の形に整形するために以下の処理を行います。  \n",
    "①ニュースのカテゴリの前に`__label__`を挿入 → リストに格納  \n",
    "②本文は上記で定義した`MecabMorphologicalAnalysis関数`を利用して分かち書き → リストに格納  \n",
    "③`train_test_split`を用いてtrainデータとvalidデータに分割  \n",
    "④trainとvalidでそれぞれカテゴリと本文を結合してファイルに保存"
   ]
  },
  {
   "cell_type": "code",
   "execution_count": 4,
   "metadata": {},
   "outputs": [
    {
     "name": "stdout",
     "output_type": "stream",
     "text": [
      "cat_lst[:5]: ['__label__エンタメ', '__label__経済', '__label__経済', '__label__国際', '__label__国内']\n",
      "len(cat_lst): 517\n"
     ]
    }
   ],
   "source": [
    "# ①\n",
    "cat_lst = ['__label__' + cat for cat in df.category]\n",
    "print(\"cat_lst[:5]:\", cat_lst[:5]) # 内容を確認\n",
    "print(\"len(cat_lst):\", len(cat_lst)) # ラベル数を確認"
   ]
  },
  {
   "cell_type": "code",
   "execution_count": 5,
   "metadata": {},
   "outputs": [
    {
     "name": "stdout",
     "output_type": "stream",
     "text": [
      "text_lst[0][:50]: 女優 吉岡里帆 27 の 2年ぶり 2 冊 目 の 写真集 里帆 採取 by Asami Kiyok\n",
      "text_lst[1][:50]: コロナ禍 に も かかわら ず 異例 の 大 ヒット を 記録 し て いる 劇場版 鬼滅の刃 無限\n",
      "len(text_lst): 517\n"
     ]
    }
   ],
   "source": [
    "# ②\n",
    "text_lst = [MecabMorphologicalAnalysis(text, mecab=wakati) for text in df.text]\n",
    "print(\"text_lst[0][:50]:\", text_lst[0][:50]) # 1行目を確認\n",
    "print(\"text_lst[1][:50]:\", text_lst[1][:50]) # 2行目を確認\n",
    "print(\"len(text_lst):\", len(text_lst)) # 記事の数を確認"
   ]
  },
  {
   "cell_type": "code",
   "execution_count": 6,
   "metadata": {},
   "outputs": [],
   "source": [
    "# ③\n",
    "text_train, text_valid, cat_train, cat_valid = train_test_split(\n",
    "    text_lst, cat_lst, test_size=0.2, random_state=0, stratify=cat_lst\n",
    ")\n",
    "\n",
    "\n",
    "# ④\n",
    "with open('./news.train', mode='w') as f:\n",
    "    for i in range(len(text_train)):\n",
    "        f.write(cat_train[i] + ' '+ text_train[i])\n",
    "        \n",
    "with open('./news.valid', mode='w') as f:\n",
    "    for i in range(len(text_valid)):\n",
    "        f.write(cat_valid[i] + ' ' + text_valid[i])"
   ]
  },
  {
   "cell_type": "markdown",
   "metadata": {},
   "source": [
    "### モデルの学習と評価\n",
    "fastTextは`train_supervised`で簡単に学習を行うことができます。  \n",
    "wordNgramsに引数を渡すことでn-gram処理を行ったり、lossにhsを入れて`hierarchical softmax`を使って高速に処理を行ったり、とにかく高機能です！！  \n",
    "\n",
    "学習も素晴らしいのですが、`model.test`とするとすぐに精度の評価ができることもfastTextの特徴だと思います。  \n",
    "下記に示す通りvalidデータに対してもなかなか良い精度が出るということがわかります。"
   ]
  },
  {
   "cell_type": "code",
   "execution_count": 7,
   "metadata": {},
   "outputs": [
    {
     "name": "stdout",
     "output_type": "stream",
     "text": [
      "TrainData: (413, 1.0, 1.0)\n",
      "Valid (104, 0.75, 0.75)\n"
     ]
    }
   ],
   "source": [
    "model = fasttext.train_supervised(input='./news.train', lr=0.5, epoch=500,\n",
    "                                  wordNgrams=3, loss='ova', dim=300, bucket=200000)\n",
    "\n",
    "print(\"TrainData:\", model.test('news.train'))\n",
    "print(\"Valid\", model.test('news.valid'))"
   ]
  },
  {
   "cell_type": "markdown",
   "metadata": {},
   "source": [
    "### validデータを用いた精度確認\n",
    "学習に用いていないvalidデータを用いて、モデルの精度を確認してみましょう。  \n",
    "①validデータの内容をl_stripに格納  \n",
    "②label,text,sizeをそれぞれリストに格納。labelはニュースのカテゴリ、textは本文、sizeはモデルの予測に対する確率です。正規表現を用いて必要な部分を抽出しています。  \n",
    "③ニュースを一つづつ取り出して、カテゴリ予測をしてみます。`predict`の引数kの数だけ候補を表示します。その下のarrayにはモデルが行った予測に対する確率が順番に表示されます。"
   ]
  },
  {
   "cell_type": "code",
   "execution_count": 8,
   "metadata": {},
   "outputs": [],
   "source": [
    "# ①\n",
    "with open(\"news.valid\") as f:\n",
    "    l_strip = [s.strip() for s in f.readlines()] # strip()を利用することにより改行文字除去\n",
    "    \n",
    "\n",
    "# ②    \n",
    "labels = []\n",
    "texts = []\n",
    "sizes = []\n",
    "for t in l_strip:\n",
    "    labels.append(re.findall('__label__(.*?) ', t)[0])\n",
    "    texts.append(re.findall(' (.*)', t)[0])\n",
    "    sizes.append(model.predict(re.findall(' (.*)', t))[1][0][0])"
   ]
  },
  {
   "cell_type": "code",
   "execution_count": 20,
   "metadata": {},
   "outputs": [
    {
     "name": "stdout",
     "output_type": "stream",
     "text": [
      "<経済>\n",
      "電通グループ が 10日 発表 し た 2020年 19 月 期 連結決算 国際会計基準 は 売上高 に 当たる 収益 が 94 減 の 6763 億 円 本業 の もうけ を 示す 営業利益 は 185 億 円 に 半減 し た 新型コロナウイルス感染症 の 影響 を 受け 国内外 で テレビ や インターネット 向け など の 広告 需要 が 落ち込ん だ 営業利益 の 半減 は 年末 から 来年3月 にかけて 実施 する 早期退職 プログラム の ほか 退職者 向け に 業務委託 を 手掛ける 新 会社設立 など の 構造改革 費用 251 億 円 を 計上 し た ため 一方 コロナ禍 で 一連 の MA 合併 買収 費用 が 想定 を 下回る 結果 純利益 は 22倍 の 102 億 円 を 確保 し た 2月 に 子会社化 を 決め た 米メディア ストーム 社 を はじめ 多く の 企業価値 が 下落 し 株式 の 追加 取得 に かかる 見積 費 が 約 300億円 減少 し た\n",
      "(('__label__経済', '__label__国内', '__label__ライフ'), array([9.88678277e-01, 1.48057193e-01, 3.89984576e-04]))\n"
     ]
    }
   ],
   "source": [
    "# ③\n",
    "print(\"<{}>\".format(labels[0]))\n",
    "print(texts[0])\n",
    "print(model.predict(texts[0], k=3))"
   ]
  },
  {
   "cell_type": "code",
   "execution_count": 23,
   "metadata": {},
   "outputs": [
    {
     "name": "stdout",
     "output_type": "stream",
     "text": [
      "<経済>\n",
      "任天堂 は 5日 家庭 用 ゲーム機 ニンテンドースイッチ の 世界 で の 累計 販売台数 が 9月 末 時点 で 6830 万 台 に なっ た と 発表 し た ファミリーコンピュータ ファミコン の 6191 万 台 を 上回っ た 新型コロナウイルス の 感染拡大 に 伴う 巣ごもり消費 が 追い風 と なり 2017年 3月 の 発売 から 約 3年 半 で 達成 し た スイッチ は 据え置い て も 持ち運ん で も ゲーム が でき 幅広い 世代 から 支持 さ れ た 今年3月 に 発売 し た ソフト あつまれ どうぶつの森 が ヒット し て スイッチ の 販売 を 押し上げ た スイッチ は 20年 49 月 だけ で 1253 万 台 が 売れ た\n",
      "(('__label__経済', '__label__スポーツ', '__label__国内'), array([0.00338661, 0.00206074, 0.00081409]))\n"
     ]
    }
   ],
   "source": [
    "print(\"<{}>\".format(labels[1]))\n",
    "print(texts[1])\n",
    "print(model.predict(texts[1], k=3))"
   ]
  },
  {
   "cell_type": "code",
   "execution_count": 24,
   "metadata": {},
   "outputs": [
    {
     "name": "stdout",
     "output_type": "stream",
     "text": [
      "<スポーツ>\n",
      "JERA セリーグ 巨人 6 ― 2 ヤクルト 7日 東京ドーム 今季限り で 現役 引退 する 巨人 の 岩隈久志 投手 39 の 引退セレモニー が 7日 の ヤクルト 23回 戦 東京ドーム の 試合後 に 行わ れ た 今季 最多 と なる 2 万 6649 人 の ファン の 前 で 岩隈 は 本日 をもちまして 21年間 の プロ野球 生活 に 幕 を 閉じ ます 21年間 すばらしい チームメート に 恵まれ 最高 の 野球 人生 を 送る こと が でき 感謝 の 思い で いっぱい です と 語っ た そして この 2年間 ジャイアンツ で 1軍 復帰 する こと は でき ませ ん でし た が 現役 最後 に ジャイアンツ の ユニホーム を 着 て この 日 を 迎え られ た こと に 幸せ を 感じ て い ます これから も 野球 を通じて 誰か を 幸せ に できる 存在 で い たい と 思い ます 21年間 本当にありがとうございました と スピーチ し た その後 は 現在 ヤクルト で マリナーズ 時代 の チームメート 青木 楽天 で 一緒 に プレー し た 嶋 から 花束 を 受け取っ た さら に 菅野 から も 花束 を 受け取る と 続け て 原監督 が 自ら 岩隈 の 元 へ 駆け寄り ナイン と 一緒に 記念撮影 を 行っ た そして 最後 は 3人 の 子どもたち から も 花束 を 受け取り 再び 記念撮影 を し て ファン に 別れ を 告げ て い た 報知新聞社\n",
      "(('__label__スポーツ', '__label__エンタメ', '__label__ライフ'), array([8.55861187e-01, 1.00888625e-01, 7.65405654e-04]))\n"
     ]
    }
   ],
   "source": [
    "print(\"<{}>\".format(labels[2]))\n",
    "print(texts[2])\n",
    "print(model.predict(texts[2], k=3))"
   ]
  },
  {
   "cell_type": "markdown",
   "metadata": {},
   "source": [
    "### ベクトル表現についての分析\n",
    "ここまでで分析を終わりにしても良いのですが、fastTextの`get_sentence_vector`という機能を使って記事ごとのベクトルを取得して、さらに分析を行ってみましょう。  \n",
    "①記事一つ一つに対してベクトルを取得し、リストに格納していきます。  \n",
    "②ベクトル、ラベル、サイズをnumpy配列に変更します。(ラベル、サイズについては取得済)  \n",
    "③`StandardScaler`を用いてベクトルを標準化  \n",
    "④主成分分析器`PCA`を用いて次元削減  \n",
    "⑤上記で定義した`cos_sim関数`を用いて記事ごとの類似度を算出  \n",
    "⑥ベクトルを2次元プロット。sizesの数値によって点の大きさが変化します。"
   ]
  },
  {
   "cell_type": "code",
   "execution_count": 15,
   "metadata": {},
   "outputs": [],
   "source": [
    "# ①\n",
    "vectors = []\n",
    "for t in texts:\n",
    "    vectors.append(model.get_sentence_vector(t))\n",
    "\n",
    "    \n",
    "# ②\n",
    "vectors = np.array(vectors)\n",
    "labels = np.array(labels)\n",
    "sizes = np.array(sizes)\n",
    "\n",
    "\n",
    "# ③\n",
    "ss = preprocessing.StandardScaler()\n",
    "vectors_std = ss.fit_transform(vectors)\n",
    "\n",
    "\n",
    "# ④\n",
    "pca = PCA()\n",
    "pca.fit(vectors_std)\n",
    "feature = pca.transform(vectors_std)\n",
    "feature = feature[:, :2]"
   ]
  },
  {
   "cell_type": "code",
   "execution_count": 16,
   "metadata": {},
   "outputs": [
    {
     "name": "stdout",
     "output_type": "stream",
     "text": [
      "<経済><経済>\n"
     ]
    },
    {
     "data": {
      "text/plain": [
       "0.9514279"
      ]
     },
     "execution_count": 16,
     "metadata": {},
     "output_type": "execute_result"
    }
   ],
   "source": [
    "# ⑤\n",
    "print(\"<{}><{}>\".format(labels[0], labels[1]))\n",
    "cos_sim(vectors[0], vectors[1])"
   ]
  },
  {
   "cell_type": "code",
   "execution_count": 17,
   "metadata": {},
   "outputs": [
    {
     "name": "stdout",
     "output_type": "stream",
     "text": [
      "<経済><スポーツ>\n"
     ]
    },
    {
     "data": {
      "text/plain": [
       "0.9299138"
      ]
     },
     "execution_count": 17,
     "metadata": {},
     "output_type": "execute_result"
    }
   ],
   "source": [
    "print(\"<{}><{}>\".format(labels[1], labels[2]))\n",
    "cos_sim(vectors[1], vectors[2])"
   ]
  },
  {
   "cell_type": "code",
   "execution_count": 18,
   "metadata": {},
   "outputs": [
    {
     "name": "stdout",
     "output_type": "stream",
     "text": [
      "<経済><スポーツ>\n"
     ]
    },
    {
     "data": {
      "text/plain": [
       "0.79527444"
      ]
     },
     "execution_count": 18,
     "metadata": {},
     "output_type": "execute_result"
    }
   ],
   "source": [
    "print(\"<{}><{}>\".format(labels[0], labels[2]))\n",
    "cos_sim(vectors[0], vectors[2])"
   ]
  },
  {
   "cell_type": "code",
   "execution_count": 42,
   "metadata": {},
   "outputs": [
    {
     "data": {
      "image/png": "[encoded data removed]",
      "text/plain": [
       "<Figure size 1008x720 with 1 Axes>"
      ]
     },
     "metadata": {
      "needs_background": "light"
     },
     "output_type": "display_data"
    }
   ],
   "source": [
    "# ⑥\n",
    "x0, y0, z0 = feature[labels=='エンタメ', 0], feature[labels=='エンタメ', 1], sizes[labels=='エンタメ']*1000\n",
    "x1, y1, z1 = feature[labels=='スポーツ', 0], feature[labels=='スポーツ', 1], sizes[labels=='スポーツ']*1000\n",
    "x2, y2, z2 = feature[labels=='ライフ', 0], feature[labels=='ライフ', 1], sizes[labels=='ライフ']*1000\n",
    "x3, y3, z3 = feature[labels=='国内', 0], feature[labels=='国内', 1], sizes[labels=='国内']*1000\n",
    "x4, y4, z4 = feature[labels=='国際', 0], feature[labels=='国際', 1], sizes[labels=='国際']*1000\n",
    "x5, y5, z5 = feature[labels=='地域', 0], feature[labels=='地域', 1], sizes[labels=='地域']*1000\n",
    "x6, y6, z6 = feature[labels=='経済', 0], feature[labels=='経済', 1], sizes[labels=='経済']*1000\n",
    "\n",
    "\n",
    "plt.figure(figsize=(14, 10))\n",
    "plt.rcParams[\"font.size\"]=20\n",
    "plt.scatter(x0, y0, label=\"エンタメ\", s=z0)\n",
    "plt.scatter(x1, y1, label=\"スポーツ\", s=z1)\n",
    "plt.scatter(x2, y2, label=\"ライフ\", s=z2)\n",
    "plt.scatter(x3, y3, label=\"国内\", s=z3)\n",
    "plt.scatter(x4, y4, label=\"国際\", s=z4)\n",
    "plt.scatter(x5, y5, label=\"地域\", s=z5)\n",
    "plt.scatter(x6, y6, label=\"経済\", s=z6)\n",
    "plt.title(\"Yahooニュース\")\n",
    "plt.xlabel('1st dimension')\n",
    "plt.ylabel('2nd dimension')\n",
    "plt.legend(title=\"category\")\n",
    "plt.show()"
   ]
  },
  {
   "cell_type": "markdown",
   "metadata": {},
   "source": [
    "### 参考文献\n",
    "[青空文庫の書籍をDoc2Vecでクラスタリング](https://qiita.com/kei0919/items/bde365bf179c0a1573af)  \n",
    "[fastText](https://fasttext.cc/)  \n",
    "[GitHub (fastText/python)](https://github.com/facebookresearch/fastText/tree/master/python)  \n",
    "[mecab(NEologd辞書)環境をDocker(ubuntu)で構築](https://qiita.com/kei0919/items/d1e975b015efc22b5001)  \n",
    "[Yahooニュースをスクレイピング](https://qiita.com/kei0919/items/780b36f14907412f3489)  \n",
    "[fastText tutorial(Text classification)](https://fasttext.cc/docs/en/supervised-tutorial.html)  \n",
    "[【Python NumPy】コサイン類似度の求め方](https://qiita.com/Qiitaman/items/fa393d93ce8e61a857b1)   \n",
    "[主成分分析を Python で理解する](https://qiita.com/maskot1977/items/082557fcda78c4cdb41f)  \n",
    "[matplotlib Scatter plots with a legend](https://matplotlib.org/3.1.1/gallery/lines_bars_and_markers/scatter_with_legend.html)"
   ]
  }
 ],
 "metadata": {
  "kernelspec": {
   "display_name": "Python 3",
   "language": "python",
   "name": "python3"
  },
  "language_info": {
   "codemirror_mode": {
    "name": "ipython",
    "version": 3
   },
   "file_extension": ".py",
   "mimetype": "text/x-python",
   "name": "python",
   "nbconvert_exporter": "python",
   "pygments_lexer": "ipython3",
   "version": "3.8.3"
  }
 },
 "nbformat": 4,
 "nbformat_minor": 4
}
